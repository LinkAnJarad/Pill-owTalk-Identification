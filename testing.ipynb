{
 "cells": [
  {
   "cell_type": "code",
   "execution_count": 1,
   "metadata": {},
   "outputs": [],
   "source": [
    "from transformers import AutoTokenizer, pipeline\n",
    "from optimum.intel import OVModelForCausalLM, OVWeightQuantizationConfig\n",
    "from transformers import AutoTokenizer, pipeline, AutoModelForCausalLM\n",
    "from optimum.exporters.openvino import export_from_model\n",
    "import os\n",
    "import torch"
   ]
  },
  {
   "cell_type": "code",
   "execution_count": 6,
   "metadata": {},
   "outputs": [
    {
     "name": "stderr",
     "output_type": "stream",
     "text": [
      "Special tokens have been added in the vocabulary, make sure the associated word embeddings are fine-tuned or trained.\n"
     ]
    },
    {
     "data": {
      "application/vnd.jupyter.widget-view+json": {
       "model_id": "2358b423cf3f43668ef79ceb779056de",
       "version_major": 2,
       "version_minor": 0
      },
      "text/plain": [
       "Loading checkpoint shards:   0%|          | 0/2 [00:00<?, ?it/s]"
      ]
     },
     "metadata": {},
     "output_type": "display_data"
    }
   ],
   "source": [
    "model_id = 'llm'\n",
    "\n",
    "tokenizer = AutoTokenizer.from_pretrained(model_id)\n",
    "model = AutoModelForCausalLM.from_pretrained(\n",
    "    model_id\n",
    "  )"
   ]
  },
  {
   "cell_type": "code",
   "execution_count": 3,
   "metadata": {},
   "outputs": [
    {
     "data": {
      "text/plain": [
       "('llm\\\\tokenizer_config.json',\n",
       " 'llm\\\\special_tokens_map.json',\n",
       " 'llm\\\\vocab.json',\n",
       " 'llm\\\\merges.txt',\n",
       " 'llm\\\\added_tokens.json',\n",
       " 'llm\\\\tokenizer.json')"
      ]
     },
     "execution_count": 3,
     "metadata": {},
     "output_type": "execute_result"
    }
   ],
   "source": [
    "save_directory = \"llm\"\n",
    "model.save_pretrained(save_directory)\n",
    "tokenizer.save_pretrained(save_directory)"
   ]
  },
  {
   "cell_type": "code",
   "execution_count": null,
   "metadata": {},
   "outputs": [
    {
     "name": "stderr",
     "output_type": "stream",
     "text": [
      "Can't determine type of OV quantization config. Please specify explicitly whether you intend to run weight-only quantization or not with `weight_only` parameter. Creating an instance of OVWeightQuantizationConfig.\n",
      "The model weights will be quantized to int8.\n",
      "Special tokens have been added in the vocabulary, make sure the associated word embeddings are fine-tuned or trained.\n",
      "Special tokens have been added in the vocabulary, make sure the associated word embeddings are fine-tuned or trained.\n",
      "Using framework PyTorch: 2.4.0+cpu\n",
      "Overriding 1 configuration item(s)\n",
      "\t- use_cache -> True\n",
      "We detected that you are passing `past_key_values` as a tuple and this is deprecated and will be removed in v4.43. Please use an appropriate `Cache` class (https://huggingface.co/docs/transformers/v4.41.3/en/internal/generation_utils#transformers.Cache)\n",
      "c:\\Users\\Jandrik\\Documents\\MyFILES\\Programming\\Python Files\\Programs\\vino\\Lib\\site-packages\\transformers\\models\\qwen2\\modeling_qwen2.py:1116: TracerWarning: Converting a tensor to a Python boolean might cause the trace to be incorrect. We can't record the data flow of Python values, so this value will be treated as a constant in the future. This means that the trace might not generalize to other inputs!\n",
      "  if sequence_length != 1:\n",
      "c:\\Users\\Jandrik\\Documents\\MyFILES\\Programming\\Python Files\\Programs\\vino\\Lib\\site-packages\\transformers\\models\\qwen2\\modeling_qwen2.py:128: TracerWarning: Converting a tensor to a Python boolean might cause the trace to be incorrect. We can't record the data flow of Python values, so this value will be treated as a constant in the future. This means that the trace might not generalize to other inputs!\n",
      "  if seq_len > self.max_seq_len_cached:\n"
     ]
    },
    {
     "name": "stdout",
     "output_type": "stream",
     "text": [
      "INFO:nncf:Statistics of the bitwidth distribution:\n",
      "+----------------+-----------------------------+----------------------------------------+\n",
      "|   Num bits (N) | % all parameters (layers)   | % ratio-defining parameters (layers)   |\n",
      "+================+=============================+========================================+\n",
      "|              8 | 100% (197 / 197)            | 100% (197 / 197)                       |\n",
      "+----------------+-----------------------------+----------------------------------------+\n"
     ]
    },
    {
     "data": {
      "application/vnd.jupyter.widget-view+json": {
       "model_id": "eb3e63ae03a44607b8bf0deb087a83c0",
       "version_major": 2,
       "version_minor": 0
      },
      "text/plain": [
       "Output()"
      ]
     },
     "metadata": {},
     "output_type": "display_data"
    },
    {
     "data": {
      "text/html": [
       "<pre style=\"white-space:pre;overflow-x:auto;line-height:normal;font-family:Menlo,'DejaVu Sans Mono',consolas,'Courier New',monospace\"></pre>\n"
      ],
      "text/plain": []
     },
     "metadata": {},
     "output_type": "display_data"
    },
    {
     "data": {
      "text/html": [
       "<pre style=\"white-space:pre;overflow-x:auto;line-height:normal;font-family:Menlo,'DejaVu Sans Mono',consolas,'Courier New',monospace\">\n",
       "</pre>\n"
      ],
      "text/plain": [
       "\n"
      ]
     },
     "metadata": {},
     "output_type": "display_data"
    },
    {
     "name": "stderr",
     "output_type": "stream",
     "text": [
      "Special tokens have been added in the vocabulary, make sure the associated word embeddings are fine-tuned or trained.\n"
     ]
    }
   ],
   "source": [
    "model_id = 'Qwen/Qwen2.5-1.5B-Instruct'\n",
    "\n",
    "quantization_config = OVWeightQuantizationConfig(bits=8)\n",
    "model = AutoModelForCausalLM.from_pretrained(model_id)\n",
    "export_from_model(model, output=\"llm_quantized\", task=\"text-generation-with-past\")\n",
    "\n",
    "tokenizer = AutoTokenizer.from_pretrained(model_id)"
   ]
  },
  {
   "cell_type": "code",
   "execution_count": 12,
   "metadata": {},
   "outputs": [
    {
     "data": {
      "application/vnd.jupyter.widget-view+json": {
       "model_id": "91d290b00d68420ab1fdd1e1b404dbf9",
       "version_major": 2,
       "version_minor": 0
      },
      "text/plain": [
       "tokenizer_config.json:   0%|          | 0.00/7.51k [00:00<?, ?B/s]"
      ]
     },
     "metadata": {},
     "output_type": "display_data"
    },
    {
     "data": {
      "application/vnd.jupyter.widget-view+json": {
       "model_id": "4cb96057fe4742418665af9809b730f5",
       "version_major": 2,
       "version_minor": 0
      },
      "text/plain": [
       "vocab.json:   0%|          | 0.00/2.78M [00:00<?, ?B/s]"
      ]
     },
     "metadata": {},
     "output_type": "display_data"
    },
    {
     "data": {
      "application/vnd.jupyter.widget-view+json": {
       "model_id": "4c77d0fc165e4118affd65a58e383d63",
       "version_major": 2,
       "version_minor": 0
      },
      "text/plain": [
       "merges.txt:   0%|          | 0.00/1.67M [00:00<?, ?B/s]"
      ]
     },
     "metadata": {},
     "output_type": "display_data"
    },
    {
     "data": {
      "application/vnd.jupyter.widget-view+json": {
       "model_id": "414687b1886c47d8ac64b34dcbf474cb",
       "version_major": 2,
       "version_minor": 0
      },
      "text/plain": [
       "tokenizer.json:   0%|          | 0.00/7.03M [00:00<?, ?B/s]"
      ]
     },
     "metadata": {},
     "output_type": "display_data"
    },
    {
     "data": {
      "application/vnd.jupyter.widget-view+json": {
       "model_id": "c7aa9053c0b34885862bb08fe58d60f7",
       "version_major": 2,
       "version_minor": 0
      },
      "text/plain": [
       "added_tokens.json:   0%|          | 0.00/629 [00:00<?, ?B/s]"
      ]
     },
     "metadata": {},
     "output_type": "display_data"
    },
    {
     "data": {
      "application/vnd.jupyter.widget-view+json": {
       "model_id": "b7f20833a5954e8682a737edcc0c161f",
       "version_major": 2,
       "version_minor": 0
      },
      "text/plain": [
       "special_tokens_map.json:   0%|          | 0.00/644 [00:00<?, ?B/s]"
      ]
     },
     "metadata": {},
     "output_type": "display_data"
    },
    {
     "name": "stderr",
     "output_type": "stream",
     "text": [
      "Special tokens have been added in the vocabulary, make sure the associated word embeddings are fine-tuned or trained.\n"
     ]
    },
    {
     "data": {
      "application/vnd.jupyter.widget-view+json": {
       "model_id": "d96eb8aaad0f47e8b0c8cfda6527929a",
       "version_major": 2,
       "version_minor": 0
      },
      "text/plain": [
       "config.json:   0%|          | 0.00/754 [00:00<?, ?B/s]"
      ]
     },
     "metadata": {},
     "output_type": "display_data"
    },
    {
     "data": {
      "application/vnd.jupyter.widget-view+json": {
       "model_id": "29dc1ca6557f404f8b2f3b5f7ecf759d",
       "version_major": 2,
       "version_minor": 0
      },
      "text/plain": [
       "openvino_model.bin:   0%|          | 0.00/2.35G [00:00<?, ?B/s]"
      ]
     },
     "metadata": {},
     "output_type": "display_data"
    },
    {
     "data": {
      "application/vnd.jupyter.widget-view+json": {
       "model_id": "ce9c8dd23e1f4b348195fc0f180a6a1a",
       "version_major": 2,
       "version_minor": 0
      },
      "text/plain": [
       "openvino_model.xml:   0%|          | 0.00/4.34M [00:00<?, ?B/s]"
      ]
     },
     "metadata": {},
     "output_type": "display_data"
    },
    {
     "data": {
      "application/vnd.jupyter.widget-view+json": {
       "model_id": "630d2bfba6e14f6e876792fd00f9d7c2",
       "version_major": 2,
       "version_minor": 0
      },
      "text/plain": [
       "generation_config.json:   0%|          | 0.00/257 [00:00<?, ?B/s]"
      ]
     },
     "metadata": {},
     "output_type": "display_data"
    },
    {
     "name": "stderr",
     "output_type": "stream",
     "text": [
      "Compiling the model to GPU ...\n",
      "Setting OpenVINO CACHE_DIR to C:\\Users\\Jandrik\\.cache\\huggingface\\hub\\models--srang992--Qwen-2.5-3B-Instruct-ov-INT4\\snapshots\\a48c0ed06f0b406b857491bb566f744473b3810a\\model_cache\n"
     ]
    },
    {
     "ename": "RuntimeError",
     "evalue": "Exception from src/inference/src/cpp/core.cpp:107:\nException from src/inference/src/dev/plugin.cpp:54:\nException from src/common/transformations/src/transformations/convert_precision.cpp:1340:\nPrecision conversion from bf16 to f16 is not supported\n\n\n",
     "output_type": "error",
     "traceback": [
      "\u001b[1;31m---------------------------------------------------------------------------\u001b[0m",
      "\u001b[1;31mRuntimeError\u001b[0m                              Traceback (most recent call last)",
      "Cell \u001b[1;32mIn[12], line 3\u001b[0m\n\u001b[0;32m      1\u001b[0m model_id \u001b[38;5;241m=\u001b[39m \u001b[38;5;124m\"\u001b[39m\u001b[38;5;124msrang992/Qwen-2.5-3B-Instruct-ov-INT4\u001b[39m\u001b[38;5;124m\"\u001b[39m\n\u001b[0;32m      2\u001b[0m tokenizer \u001b[38;5;241m=\u001b[39m AutoTokenizer\u001b[38;5;241m.\u001b[39mfrom_pretrained(model_id)\n\u001b[1;32m----> 3\u001b[0m model \u001b[38;5;241m=\u001b[39m OVModelForCausalLM\u001b[38;5;241m.\u001b[39mfrom_pretrained(\n\u001b[0;32m      4\u001b[0m     model_id, device\u001b[38;5;241m=\u001b[39m\u001b[38;5;124m'\u001b[39m\u001b[38;5;124mgpu\u001b[39m\u001b[38;5;124m'\u001b[39m\n\u001b[0;32m      5\u001b[0m )\n",
      "File \u001b[1;32mc:\\Users\\Jandrik\\Documents\\MyFILES\\Programming\\Python Files\\Programs\\vino\\Lib\\site-packages\\optimum\\modeling_base.py:427\u001b[0m, in \u001b[0;36mOptimizedModel.from_pretrained\u001b[1;34m(cls, model_id, export, force_download, use_auth_token, token, cache_dir, subfolder, config, local_files_only, trust_remote_code, revision, **kwargs)\u001b[0m\n\u001b[0;32m    423\u001b[0m     trust_remote_code \u001b[38;5;241m=\u001b[39m \u001b[38;5;28;01mFalse\u001b[39;00m\n\u001b[0;32m    425\u001b[0m from_pretrained_method \u001b[38;5;241m=\u001b[39m \u001b[38;5;28mcls\u001b[39m\u001b[38;5;241m.\u001b[39m_from_transformers \u001b[38;5;28;01mif\u001b[39;00m export \u001b[38;5;28;01melse\u001b[39;00m \u001b[38;5;28mcls\u001b[39m\u001b[38;5;241m.\u001b[39m_from_pretrained\n\u001b[1;32m--> 427\u001b[0m \u001b[38;5;28;01mreturn\u001b[39;00m from_pretrained_method(\n\u001b[0;32m    428\u001b[0m     model_id\u001b[38;5;241m=\u001b[39mmodel_id,\n\u001b[0;32m    429\u001b[0m     config\u001b[38;5;241m=\u001b[39mconfig,\n\u001b[0;32m    430\u001b[0m     revision\u001b[38;5;241m=\u001b[39mrevision,\n\u001b[0;32m    431\u001b[0m     cache_dir\u001b[38;5;241m=\u001b[39mcache_dir,\n\u001b[0;32m    432\u001b[0m     force_download\u001b[38;5;241m=\u001b[39mforce_download,\n\u001b[0;32m    433\u001b[0m     token\u001b[38;5;241m=\u001b[39mtoken,\n\u001b[0;32m    434\u001b[0m     subfolder\u001b[38;5;241m=\u001b[39msubfolder,\n\u001b[0;32m    435\u001b[0m     local_files_only\u001b[38;5;241m=\u001b[39mlocal_files_only,\n\u001b[0;32m    436\u001b[0m     trust_remote_code\u001b[38;5;241m=\u001b[39mtrust_remote_code,\n\u001b[0;32m    437\u001b[0m     \u001b[38;5;241m*\u001b[39m\u001b[38;5;241m*\u001b[39mkwargs,\n\u001b[0;32m    438\u001b[0m )\n",
      "File \u001b[1;32mc:\\Users\\Jandrik\\Documents\\MyFILES\\Programming\\Python Files\\Programs\\vino\\Lib\\site-packages\\optimum\\intel\\openvino\\modeling_decoder.py:796\u001b[0m, in \u001b[0;36mOVModelForCausalLM._from_pretrained\u001b[1;34m(cls, model_id, config, use_auth_token, token, revision, force_download, cache_dir, file_name, subfolder, from_onnx, local_files_only, load_in_8bit, quantization_config, **kwargs)\u001b[0m\n\u001b[0;32m    793\u001b[0m \u001b[38;5;28;01mexcept\u001b[39;00m \u001b[38;5;167;01mException\u001b[39;00m:\n\u001b[0;32m    794\u001b[0m     \u001b[38;5;28;01mpass\u001b[39;00m\n\u001b[1;32m--> 796\u001b[0m causal_model \u001b[38;5;241m=\u001b[39m init_cls(\n\u001b[0;32m    797\u001b[0m     model\u001b[38;5;241m=\u001b[39mmodel,\n\u001b[0;32m    798\u001b[0m     config\u001b[38;5;241m=\u001b[39mconfig,\n\u001b[0;32m    799\u001b[0m     model_save_dir\u001b[38;5;241m=\u001b[39mmodel_cache_path\u001b[38;5;241m.\u001b[39mparent,\n\u001b[0;32m    800\u001b[0m     \u001b[38;5;28mcompile\u001b[39m\u001b[38;5;241m=\u001b[39menable_compilation,\n\u001b[0;32m    801\u001b[0m     quantization_config\u001b[38;5;241m=\u001b[39mquantization_config,\n\u001b[0;32m    802\u001b[0m     \u001b[38;5;241m*\u001b[39m\u001b[38;5;241m*\u001b[39mkwargs,\n\u001b[0;32m    803\u001b[0m )\n\u001b[0;32m    805\u001b[0m \u001b[38;5;28;01mif\u001b[39;00m quantization_config:\n\u001b[0;32m    806\u001b[0m     \u001b[38;5;28;01mif\u001b[39;00m \u001b[38;5;129;01mnot\u001b[39;00m is_nncf_available():\n",
      "File \u001b[1;32mc:\\Users\\Jandrik\\Documents\\MyFILES\\Programming\\Python Files\\Programs\\vino\\Lib\\site-packages\\optimum\\intel\\openvino\\modeling_decoder.py:174\u001b[0m, in \u001b[0;36mOVBaseDecoderModel.__init__\u001b[1;34m(self, model, config, device, dynamic_shapes, ov_config, model_save_dir, quantization_config, **kwargs)\u001b[0m\n\u001b[0;32m    171\u001b[0m     raise_error(\u001b[38;5;28mself\u001b[39m\u001b[38;5;241m.\u001b[39muse_cache, use_cache, \u001b[38;5;124m\"\u001b[39m\u001b[38;5;124muse_cache\u001b[39m\u001b[38;5;124m\"\u001b[39m)\n\u001b[0;32m    173\u001b[0m \u001b[38;5;28;01mif\u001b[39;00m enable_compilation:\n\u001b[1;32m--> 174\u001b[0m     \u001b[38;5;28mself\u001b[39m\u001b[38;5;241m.\u001b[39mcompile()\n",
      "File \u001b[1;32mc:\\Users\\Jandrik\\Documents\\MyFILES\\Programming\\Python Files\\Programs\\vino\\Lib\\site-packages\\optimum\\intel\\openvino\\modeling_decoder.py:357\u001b[0m, in \u001b[0;36mOVBaseDecoderModel.compile\u001b[1;34m(self)\u001b[0m\n\u001b[0;32m    355\u001b[0m \u001b[38;5;28;01mdef\u001b[39;00m \u001b[38;5;21mcompile\u001b[39m(\u001b[38;5;28mself\u001b[39m):\n\u001b[0;32m    356\u001b[0m     \u001b[38;5;28;01mif\u001b[39;00m \u001b[38;5;28mself\u001b[39m\u001b[38;5;241m.\u001b[39mrequest \u001b[38;5;129;01mis\u001b[39;00m \u001b[38;5;28;01mNone\u001b[39;00m:\n\u001b[1;32m--> 357\u001b[0m         \u001b[38;5;28msuper\u001b[39m()\u001b[38;5;241m.\u001b[39mcompile()\n\u001b[0;32m    358\u001b[0m         \u001b[38;5;28mself\u001b[39m\u001b[38;5;241m.\u001b[39mrequest \u001b[38;5;241m=\u001b[39m \u001b[38;5;28mself\u001b[39m\u001b[38;5;241m.\u001b[39mrequest\u001b[38;5;241m.\u001b[39mcreate_infer_request()\n",
      "File \u001b[1;32mc:\\Users\\Jandrik\\Documents\\MyFILES\\Programming\\Python Files\\Programs\\vino\\Lib\\site-packages\\optimum\\intel\\openvino\\modeling_base.py:490\u001b[0m, in \u001b[0;36mOVBaseModel.compile\u001b[1;34m(self)\u001b[0m\n\u001b[0;32m    488\u001b[0m     ov_config[\u001b[38;5;124m\"\u001b[39m\u001b[38;5;124mCACHE_DIR\u001b[39m\u001b[38;5;124m\"\u001b[39m] \u001b[38;5;241m=\u001b[39m \u001b[38;5;28mstr\u001b[39m(cache_dir)\n\u001b[0;32m    489\u001b[0m     logger\u001b[38;5;241m.\u001b[39minfo(\u001b[38;5;124mf\u001b[39m\u001b[38;5;124m\"\u001b[39m\u001b[38;5;124mSetting OpenVINO CACHE_DIR to \u001b[39m\u001b[38;5;132;01m{\u001b[39;00m\u001b[38;5;28mstr\u001b[39m(cache_dir)\u001b[38;5;132;01m}\u001b[39;00m\u001b[38;5;124m\"\u001b[39m)\n\u001b[1;32m--> 490\u001b[0m \u001b[38;5;28mself\u001b[39m\u001b[38;5;241m.\u001b[39mrequest \u001b[38;5;241m=\u001b[39m core\u001b[38;5;241m.\u001b[39mcompile_model(\u001b[38;5;28mself\u001b[39m\u001b[38;5;241m.\u001b[39mmodel, \u001b[38;5;28mself\u001b[39m\u001b[38;5;241m.\u001b[39m_device, ov_config)\n\u001b[0;32m    491\u001b[0m \u001b[38;5;66;03m# OPENVINO_LOG_LEVEL can be found in https://docs.openvino.ai/2023.2/openvino_docs_OV_UG_supported_plugins_AUTO_debugging.html\u001b[39;00m\n\u001b[0;32m    492\u001b[0m \u001b[38;5;28;01mif\u001b[39;00m \u001b[38;5;124m\"\u001b[39m\u001b[38;5;124mOPENVINO_LOG_LEVEL\u001b[39m\u001b[38;5;124m\"\u001b[39m \u001b[38;5;129;01min\u001b[39;00m os\u001b[38;5;241m.\u001b[39menviron \u001b[38;5;129;01mand\u001b[39;00m \u001b[38;5;28mint\u001b[39m(os\u001b[38;5;241m.\u001b[39menviron[\u001b[38;5;124m\"\u001b[39m\u001b[38;5;124mOPENVINO_LOG_LEVEL\u001b[39m\u001b[38;5;124m\"\u001b[39m]) \u001b[38;5;241m>\u001b[39m \u001b[38;5;241m2\u001b[39m:\n",
      "File \u001b[1;32mc:\\Users\\Jandrik\\Documents\\MyFILES\\Programming\\Python Files\\Programs\\vino\\Lib\\site-packages\\openvino\\runtime\\ie_api.py:543\u001b[0m, in \u001b[0;36mCore.compile_model\u001b[1;34m(self, model, device_name, config, weights)\u001b[0m\n\u001b[0;32m    538\u001b[0m     \u001b[38;5;28;01mif\u001b[39;00m device_name \u001b[38;5;129;01mis\u001b[39;00m \u001b[38;5;28;01mNone\u001b[39;00m:\n\u001b[0;32m    539\u001b[0m         \u001b[38;5;28;01mreturn\u001b[39;00m CompiledModel(\n\u001b[0;32m    540\u001b[0m             \u001b[38;5;28msuper\u001b[39m()\u001b[38;5;241m.\u001b[39mcompile_model(model, {} \u001b[38;5;28;01mif\u001b[39;00m config \u001b[38;5;129;01mis\u001b[39;00m \u001b[38;5;28;01mNone\u001b[39;00m \u001b[38;5;28;01melse\u001b[39;00m config),\n\u001b[0;32m    541\u001b[0m         )\n\u001b[0;32m    542\u001b[0m     \u001b[38;5;28;01mreturn\u001b[39;00m CompiledModel(\n\u001b[1;32m--> 543\u001b[0m         \u001b[38;5;28msuper\u001b[39m()\u001b[38;5;241m.\u001b[39mcompile_model(model, device_name, {} \u001b[38;5;28;01mif\u001b[39;00m config \u001b[38;5;129;01mis\u001b[39;00m \u001b[38;5;28;01mNone\u001b[39;00m \u001b[38;5;28;01melse\u001b[39;00m config),\n\u001b[0;32m    544\u001b[0m     )\n\u001b[0;32m    545\u001b[0m \u001b[38;5;28;01melse\u001b[39;00m:\n\u001b[0;32m    546\u001b[0m     \u001b[38;5;28;01mif\u001b[39;00m device_name \u001b[38;5;129;01mis\u001b[39;00m \u001b[38;5;28;01mNone\u001b[39;00m:\n",
      "\u001b[1;31mRuntimeError\u001b[0m: Exception from src/inference/src/cpp/core.cpp:107:\nException from src/inference/src/dev/plugin.cpp:54:\nException from src/common/transformations/src/transformations/convert_precision.cpp:1340:\nPrecision conversion from bf16 to f16 is not supported\n\n\n"
     ]
    }
   ],
   "source": [
    "model_id = \"srang992/Qwen-2.5-3B-Instruct-ov-INT4\"\n",
    "tokenizer = AutoTokenizer.from_pretrained(model_id)\n",
    "model = OVModelForCausalLM.from_pretrained(\n",
    "    model_id, device='gpu'\n",
    ")"
   ]
  },
  {
   "cell_type": "code",
   "execution_count": 39,
   "metadata": {},
   "outputs": [
    {
     "name": "stdout",
     "output_type": "stream",
     "text": [
      "system\n",
      "You are Qwen, created by Alibaba Cloud. You are a helpful assistant.\n",
      "user\n",
      "Extract the medication name from this OCR text of a medicine package:\n",
      "345\n",
      "D483X\n",
      "DO Not ACCEPT\n",
      "IF SEAL\n",
      "100 TABLETS\n",
      "IS BROKEN\n",
      "Allopurinol\n",
      "Llanole 100 mg Tablet\n",
      "Antigout\n",
      "Manufactured by AMHERST LABORATORIES, INC.\n",
      "UNILAB Pharma Campus, Barangay Mamplasan\n",
      "For JNLagunacPhilippines\n",
      "R\n",
      "No. 66 United Street, Mandaluyong City; Metro Manila, Philippines \n",
      "\n",
      "Return only the generic medication name, manufacturer/laboratory, dosage, and packaging of the OCR text, don't add anything else like addresses. Return them seperated by spaces.\n",
      "\n"
     ]
    },
    {
     "name": "stderr",
     "output_type": "stream",
     "text": [
      "c:\\Users\\Jandrik\\Documents\\MyFILES\\Programming\\Python Files\\Programs\\vino\\Lib\\site-packages\\transformers\\generation\\configuration_utils.py:540: UserWarning: `do_sample` is set to `False`. However, `temperature` is set to `0.7` -- this flag is only used in sample-based generation modes. You should set `do_sample=True` or unset `temperature`.\n",
      "  warnings.warn(\n",
      "c:\\Users\\Jandrik\\Documents\\MyFILES\\Programming\\Python Files\\Programs\\vino\\Lib\\site-packages\\transformers\\generation\\configuration_utils.py:545: UserWarning: `do_sample` is set to `False`. However, `top_p` is set to `0.8` -- this flag is only used in sample-based generation modes. You should set `do_sample=True` or unset `top_p`.\n",
      "  warnings.warn(\n",
      "c:\\Users\\Jandrik\\Documents\\MyFILES\\Programming\\Python Files\\Programs\\vino\\Lib\\site-packages\\transformers\\generation\\configuration_utils.py:562: UserWarning: `do_sample` is set to `False`. However, `top_k` is set to `20` -- this flag is only used in sample-based generation modes. You should set `do_sample=True` or unset `top_k`.\n",
      "  warnings.warn(\n"
     ]
    },
    {
     "name": "stdout",
     "output_type": "stream",
     "text": [
      "system\n",
      "Allopurinol Llanole 100 mg Tablet Amherst Laboratories, Inc. Allopurinol\n"
     ]
    }
   ],
   "source": [
    "from transformers import TextStreamer\n",
    "ocr_text = \"\"\"345\n",
    "D483X\n",
    "DO Not ACCEPT\n",
    "IF SEAL\n",
    "100 TABLETS\n",
    "IS BROKEN\n",
    "Allopurinol\n",
    "Llanole 100 mg Tablet\n",
    "Antigout\n",
    "Manufactured by AMHERST LABORATORIES, INC.\n",
    "UNILAB Pharma Campus, Barangay Mamplasan\n",
    "For JNLagunacPhilippines\n",
    "R\n",
    "No. 66 United Street, Mandaluyong City; Metro Manila, Philippines\"\"\"\n",
    "inst = f\"\"\"Extract the medication name from this OCR text of a medicine package:\n",
    "{ocr_text} \n",
    "\n",
    "Return only the generic medication name, manufacturer/laboratory, dosage, and packaging of the OCR text, don't add anything else like addresses. Return them seperated by spaces.\n",
    "\"\"\"\n",
    "\n",
    "messages = [\n",
    "    {\"role\": \"system\", \"content\": \"You are Qwen, created by Alibaba Cloud. You are a helpful assistant.\"},\n",
    "    {\"role\": \"user\", \"content\": inst},\n",
    "]\n",
    "prompt = tokenizer.apply_chat_template(messages, tokenize=False, add_generation_prompt=True)\n",
    "input_text=tokenizer.apply_chat_template(messages, tokenize=False)\n",
    "\n",
    "# Tokenize the sample\n",
    "inputs = tokenizer([input_text], return_tensors='pt')\n",
    "\n",
    "# Call generate on the inputs\n",
    "out = model.generate(\n",
    "    **inputs,\n",
    "    max_new_tokens=96,\n",
    "    streamer=TextStreamer(tokenizer=tokenizer, skip_special_tokens=True),\n",
    "    pad_token_id=tokenizer.eos_token_id,\n",
    "    #temperature=0.7,\n",
    "    do_sample=False\n",
    ")"
   ]
  },
  {
   "cell_type": "code",
   "execution_count": 24,
   "metadata": {},
   "outputs": [
    {
     "data": {
      "text/plain": [
       "'DONOTACCEPT IF SEAL 100 TABLETS IS BROKEN Allopurinol Llanol@ 100 mg Tablet Antigout R Manufactured by AMHERST LABORATORIES, INC. UNILAB Pharma Campus, Barangay Mamplasan Binan Laguna Philippines for UNILAB, Inc. No.66 United Street Mandaluyong CityMetro ManilaPhilippines'"
      ]
     },
     "execution_count": 24,
     "metadata": {},
     "output_type": "execute_result"
    }
   ],
   "source": [
    "result"
   ]
  },
  {
   "cell_type": "code",
   "execution_count": 54,
   "metadata": {},
   "outputs": [
    {
     "data": {
      "text/plain": [
       "'Allopurinol Llanole 100 mg Tablet Amherst Laboratories, Inc. Allopurinol'"
      ]
     },
     "execution_count": 54,
     "metadata": {},
     "output_type": "execute_result"
    }
   ],
   "source": [
    "extracted_query = tokenizer.batch_decode(out)[0]\n",
    "extracted_query = extracted_query[extracted_query.index('<|im_end|>\\n<|im_start|>system\\n')+len('<|im_end|>\\n<|im_start|>system\\n'):]\n",
    "extracted_query = extracted_query.replace('<|im_end|>', '')\n",
    "extracted_query"
   ]
  },
  {
   "cell_type": "markdown",
   "metadata": {},
   "source": [
    "### Test"
   ]
  },
  {
   "cell_type": "code",
   "execution_count": null,
   "metadata": {},
   "outputs": [
    {
     "name": "stderr",
     "output_type": "stream",
     "text": [
      "Special tokens have been added in the vocabulary, make sure the associated word embeddings are fine-tuned or trained.\n"
     ]
    },
    {
     "name": "stdout",
     "output_type": "stream",
     "text": [
      "Loading Model... \n",
      "\n",
      "\n"
     ]
    },
    {
     "data": {
      "application/vnd.jupyter.widget-view+json": {
       "model_id": "b7ff1e50997241f28ec3ab1cff21e106",
       "version_major": 2,
       "version_minor": 0
      },
      "text/plain": [
       "Loading checkpoint shards:   0%|          | 0/2 [00:00<?, ?it/s]"
      ]
     },
     "metadata": {},
     "output_type": "display_data"
    }
   ],
   "source": [
    "import archived.ocr_postprocess as ocr_postprocess"
   ]
  },
  {
   "cell_type": "code",
   "execution_count": 16,
   "metadata": {},
   "outputs": [
    {
     "name": "stdout",
     "output_type": "stream",
     "text": [
      "system\n",
      "You are Qwen, created by Alibaba Cloud. You are a helpful assistant.\n",
      "user\n",
      "Extract the medication name from this OCR text of a medicine package:\n",
      "    DONOTACCEPT IF SEAL 100 TABLETS IS BROKEN Allopurinol Llanol@ 100 mg Tablet Antigout R Manufactured by AMHERST LABORATORIES, INC. UNILAB Pharma Campus, Barangay Mamplasan Binan Laguna Philippines for UNILAB, Inc. No.66 United Street Mandaluyong CityMetro ManilaPhilippines \n",
      "\n",
      "    Return only the generic medication name, manufacturer/laboratory, dosage, and packaging of the OCR text, don't add anything else like addresses. Return them seperated by spaces.\n",
      "system\n",
      "Allopurinol 100 mg Tablet AMHERST LABORATORIES, INC. Unilab Pharma Campus, Barangay Mamplasan Binan Laguna Philippines\n"
     ]
    }
   ],
   "source": [
    "extracted_result = ocr_postprocess.extract_info_from_ocr(result)"
   ]
  },
  {
   "cell_type": "markdown",
   "metadata": {},
   "source": [
    "## Matching"
   ]
  },
  {
   "cell_type": "code",
   "execution_count": null,
   "metadata": {},
   "outputs": [
    {
     "data": {
      "text/plain": [
       "<function fuzzywuzzy.fuzz.partial_token_sort_ratio(s1, s2, force_ascii=True, full_process=True)>"
      ]
     },
     "execution_count": 18,
     "metadata": {},
     "output_type": "execute_result"
    }
   ],
   "source": [
    "from fuzzywuzzy import fuzz\n",
    "import pandas as pd"
   ]
  },
  {
   "cell_type": "code",
   "execution_count": 19,
   "metadata": {},
   "outputs": [],
   "source": [
    "fda_df = pd.read_csv('FDA_ALL.csv')\n",
    "rx_df = pd.read_csv('RX_ALL.csv')\n",
    "\n",
    "def match_with_fda(match_string):\n",
    "    matches = []\n",
    "    scores = []\n",
    "\n",
    "    for i in range(len(fda_df)):\n",
    "        #print(fda_df.iloc[i]['Brand Name'])\n",
    "        \n",
    "        medication_entry = str(fda_df.iloc[i]['Generic Name']) + str(fda_df.iloc[i]['Brand Name']) + str(fda_df.iloc[i]['Manufacturer']) + str(fda_df.iloc[i]['Dosage Strength'])  + str(fda_df.iloc[i]['Packaging'])\n",
    "        score = fuzz.ratio(medication_entry.lower(), match_string.lower())\n",
    "        matches.append(fda_df.iloc[i]['INDEX'])\n",
    "        scores.append(score)\n",
    "    \n",
    "    matches, scores = zip(*sorted(zip(matches, scores), key=lambda x: x[1], reverse=True))\n",
    "    return matches, scores\n",
    "\n",
    "def match_with_rx(match_string):\n",
    "    matches = []\n",
    "    scores = []\n",
    "\n",
    "    for i in range(len(rx_df)):\n",
    "        \n",
    "        medication_entry = str(rx_df.iloc[i]['Drug_Name'])\n",
    "        score = fuzz.token_sort_ratio(medication_entry.lower(), match_string.lower())\n",
    "        matches.append(rx_df.iloc[i]['INDEX'])\n",
    "        scores.append(score)\n",
    "    \n",
    "    matches, scores = zip(*sorted(zip(matches, scores), key=lambda x: x[1], reverse=True))\n",
    "    return matches, scores"
   ]
  },
  {
   "cell_type": "code",
   "execution_count": 22,
   "metadata": {},
   "outputs": [
    {
     "data": {
      "text/plain": [
       "'Allopurinol 100 mg Tablet AMHERST LABORATORIES, INC. Unilab Pharma Campus, Barangay Mamplasan Binan Laguna Philippines'"
      ]
     },
     "execution_count": 22,
     "metadata": {},
     "output_type": "execute_result"
    }
   ],
   "source": [
    "extracted_result"
   ]
  },
  {
   "cell_type": "code",
   "execution_count": 20,
   "metadata": {},
   "outputs": [],
   "source": [
    "import medication_matching"
   ]
  },
  {
   "cell_type": "code",
   "execution_count": 21,
   "metadata": {},
   "outputs": [
    {
     "data": {
      "text/plain": [
       "[{'INDEX': 32,\n",
       "  'Registration Number': 'DR-7571',\n",
       "  'Generic Name': 'Allopurinol',\n",
       "  'Brand Name': 'Llanol',\n",
       "  'Dosage Strength': '100 mg',\n",
       "  'Dosage Form': 'Tablet',\n",
       "  'Classification': 'Prescription Drug (Rx)',\n",
       "  'Packaging': \"Aluminum Foil Strip x 4's\",\n",
       "  'Pharmacologic Category': 'Antigout',\n",
       "  'Manufacturer': 'Amherst laboratories, Inc.',\n",
       "  'Country of Origin': 'Philippines',\n",
       "  'Trader': 'UNILAB, Inc.',\n",
       "  'Importer': nan,\n",
       "  'Distributor': nan,\n",
       "  'Application Type': 'Renewal',\n",
       "  'Issuance Date': '26-May-22',\n",
       "  'Expiry Date': '30-May-27',\n",
       "  'match_score': 55,\n",
       "  'rx_info': {'INDEX': 313,\n",
       "   'Drug_Name': 'Allopurinol (Zyloprim)',\n",
       "   'URL': 'https://www.rxlist.com/zyloprim-drug.htm'}},\n",
       " {'INDEX': 67,\n",
       "  'Registration Number': 'DR-X7781',\n",
       "  'Generic Name': 'Allopurinol',\n",
       "  'Brand Name': 'Purinase',\n",
       "  'Dosage Strength': '300 mg',\n",
       "  'Dosage Form': 'Tablet',\n",
       "  'Classification': 'Prescription Drug (RX)',\n",
       "  'Packaging': \"Foil strip x 10's (Box of 50's)\",\n",
       "  'Pharmacologic Category': '-',\n",
       "  'Manufacturer': 'Amherst Laboratories, Inc.',\n",
       "  'Country of Origin': 'Philippines',\n",
       "  'Trader': 'UNILAB, INC.',\n",
       "  'Importer': nan,\n",
       "  'Distributor': nan,\n",
       "  'Application Type': '-',\n",
       "  'Issuance Date': '22-Jan-21',\n",
       "  'Expiry Date': '1-Oct-25',\n",
       "  'match_score': 53,\n",
       "  'rx_info': {'INDEX': 313,\n",
       "   'Drug_Name': 'Allopurinol (Zyloprim)',\n",
       "   'URL': 'https://www.rxlist.com/zyloprim-drug.htm'}},\n",
       " {'INDEX': 69,\n",
       "  'Registration Number': 'DR-X8671',\n",
       "  'Generic Name': 'Allopurinol',\n",
       "  'Brand Name': 'Llanol',\n",
       "  'Dosage Strength': '300 mg',\n",
       "  'Dosage Form': 'Tablet',\n",
       "  'Classification': 'Prescription Drug (RX)',\n",
       "  'Packaging': \"Aluminum foil strip x 4's (Box of 100's)\",\n",
       "  'Pharmacologic Category': '-',\n",
       "  'Manufacturer': 'Amherst Laboratories, Inc.',\n",
       "  'Country of Origin': 'Philippines',\n",
       "  'Trader': 'UNILAB, Inc.',\n",
       "  'Importer': nan,\n",
       "  'Distributor': nan,\n",
       "  'Application Type': '-',\n",
       "  'Issuance Date': '11-May-20',\n",
       "  'Expiry Date': '30-May-25',\n",
       "  'match_score': 53,\n",
       "  'rx_info': {'INDEX': 313,\n",
       "   'Drug_Name': 'Allopurinol (Zyloprim)',\n",
       "   'URL': 'https://www.rxlist.com/zyloprim-drug.htm'}}]"
      ]
     },
     "execution_count": 21,
     "metadata": {},
     "output_type": "execute_result"
    }
   ],
   "source": [
    "medication_matching.get_info(extracted_result)"
   ]
  },
  {
   "cell_type": "code",
   "execution_count": 80,
   "metadata": {},
   "outputs": [
    {
     "name": "stdout",
     "output_type": "stream",
     "text": [
      "(313, 8772, 317, 3904, 5419)\n",
      "(71, 71, 55, 55, 55)\n"
     ]
    },
    {
     "data": {
      "text/plain": [
       "INDEX                                             313\n",
       "Drug_Name                      Allopurinol (Zyloprim)\n",
       "URL          https://www.rxlist.com/zyloprim-drug.htm\n",
       "Name: 313, dtype: object"
      ]
     },
     "execution_count": 80,
     "metadata": {},
     "output_type": "execute_result"
    }
   ],
   "source": [
    "m, s = match_with_rx('Allopurinol')\n",
    "print(m[:5])\n",
    "print(s[:5])\n",
    "rx_df.iloc[m[0]]"
   ]
  },
  {
   "cell_type": "code",
   "execution_count": 73,
   "metadata": {},
   "outputs": [],
   "source": [
    "a = \"\"\"Oeja\n",
    "UNILAB\n",
    "60 mL\n",
    "Ambroxol Hci]\n",
    "Expel\n",
    "15 mg/S mL Syrup\n",
    "Mucolytic\n",
    "Manufactured by AMHERST LABORATORIES; INC.\n",
    "UNILAB Pharma\n",
    "ampus; Barangay Mamplasan\n",
    "Binan; Laguna, Philippines\n",
    "for UNILAB, Inc:\n",
    "No. 66 United Street; Mandaluyong\n",
    "Metro Manila, Philippines\n",
    "City\"\"\"\n",
    "m, s = match_with_fda(\"\"\"Allopurinol Llanole 100 mg Tablet Amherst Laboratories, Inc. Allopurinol\"\"\")"
   ]
  },
  {
   "cell_type": "code",
   "execution_count": 74,
   "metadata": {},
   "outputs": [
    {
     "name": "stdout",
     "output_type": "stream",
     "text": [
      "(32, 69, 2498, 2503, 9821)\n",
      "(70, 63, 62, 59, 59)\n"
     ]
    },
    {
     "data": {
      "text/plain": [
       "INDEX                                             32\n",
       "Registration Number                          DR-7571\n",
       "Generic Name                             Allopurinol\n",
       "Brand Name                                    Llanol\n",
       "Dosage Strength                               100 mg\n",
       "Dosage Form                                   Tablet\n",
       "Classification                Prescription Drug (Rx)\n",
       "Packaging                  Aluminum Foil Strip x 4's\n",
       "Pharmacologic Category                      Antigout\n",
       "Manufacturer              Amherst laboratories, Inc.\n",
       "Country of Origin                        Philippines\n",
       "Trader                                  UNILAB, Inc.\n",
       "Importer                                         NaN\n",
       "Distributor                                      NaN\n",
       "Application Type                             Renewal\n",
       "Issuance Date                              26-May-22\n",
       "Expiry Date                                30-May-27\n",
       "Name: 32, dtype: object"
      ]
     },
     "execution_count": 74,
     "metadata": {},
     "output_type": "execute_result"
    }
   ],
   "source": [
    "print(m[:5])\n",
    "print(s[:5])\n",
    "fda_df.iloc[m[0]]"
   ]
  },
  {
   "cell_type": "code",
   "execution_count": 77,
   "metadata": {},
   "outputs": [],
   "source": [
    "match_entry = dict(fda_df.iloc[m[0]])\n",
    "match_entry['match_score'] = s[0]"
   ]
  },
  {
   "cell_type": "code",
   "execution_count": 79,
   "metadata": {},
   "outputs": [
    {
     "data": {
      "text/plain": [
       "{'INDEX': 32,\n",
       " 'Registration Number': 'DR-7571',\n",
       " 'Generic Name': 'Allopurinol',\n",
       " 'Brand Name': 'Llanol',\n",
       " 'Dosage Strength': '100 mg',\n",
       " 'Dosage Form': 'Tablet',\n",
       " 'Classification': 'Prescription Drug (Rx)',\n",
       " 'Packaging': \"Aluminum Foil Strip x 4's\",\n",
       " 'Pharmacologic Category': 'Antigout',\n",
       " 'Manufacturer': 'Amherst laboratories, Inc.',\n",
       " 'Country of Origin': 'Philippines',\n",
       " 'Trader': 'UNILAB, Inc.',\n",
       " 'Importer': nan,\n",
       " 'Distributor': nan,\n",
       " 'Application Type': 'Renewal',\n",
       " 'Issuance Date': '26-May-22',\n",
       " 'Expiry Date': '30-May-27',\n",
       " 'match_score': 70}"
      ]
     },
     "execution_count": 79,
     "metadata": {},
     "output_type": "execute_result"
    }
   ],
   "source": [
    "match_entry"
   ]
  },
  {
   "cell_type": "markdown",
   "metadata": {},
   "source": [
    "## Easy OCR"
   ]
  },
  {
   "cell_type": "code",
   "execution_count": 15,
   "metadata": {},
   "outputs": [],
   "source": [
    "from PIL import Image\n",
    "import easyocr"
   ]
  },
  {
   "cell_type": "code",
   "execution_count": 19,
   "metadata": {},
   "outputs": [
    {
     "name": "stderr",
     "output_type": "stream",
     "text": [
      "Neither CUDA nor MPS are available - defaulting to CPU. Note: This module is much faster with a GPU.\n"
     ]
    }
   ],
   "source": [
    "reader = easyocr.Reader(['en'], detector='craft')"
   ]
  },
  {
   "cell_type": "code",
   "execution_count": 56,
   "metadata": {},
   "outputs": [
    {
     "data": {
      "text/plain": [
       "'345 D483X DO Not ACCEPT IF SEAL 100 TABLETS IS BROKEN Allopurinol Llanole 100 mg Tablet Antigout Manufactured by AMHERST LABORATORIES, INC. UNILAB Pharma Campus, Barangay Mamplasan For JNLagunacPhilippines R No. 66 United Street, Mandaluyong City; Metro Manila, Philippines'"
      ]
     },
     "execution_count": 56,
     "metadata": {},
     "output_type": "execute_result"
    }
   ],
   "source": [
    "' '.join([i[-2] for i in result])"
   ]
  },
  {
   "cell_type": "code",
   "execution_count": 18,
   "metadata": {},
   "outputs": [
    {
     "name": "stdout",
     "output_type": "stream",
     "text": [
      "345\n",
      "D483X\n",
      "DO Not ACCEPT\n",
      "IF SEAL\n",
      "100 TABLETS\n",
      "IS BROKEN\n",
      "Allopurinol\n",
      "Llanole 100 mg Tablet\n",
      "Antigout\n",
      "Manufactured by AMHERST LABORATORIES, INC.\n",
      "UNILAB Pharma Campus, Barangay Mamplasan\n",
      "For JNLagunacPhilippines\n",
      "R\n",
      "No. 66 United Street, Mandaluyong City; Metro Manila, Philippines\n"
     ]
    }
   ],
   "source": [
    "IMAGE_PATH = 'test.jpg'\n",
    "result = reader.readtext(IMAGE_PATH)\n",
    "for i in result:\n",
    "    print(i[-2])"
   ]
  },
  {
   "cell_type": "markdown",
   "metadata": {},
   "source": [
    "## PaddleOCR"
   ]
  },
  {
   "cell_type": "code",
   "execution_count": 2,
   "metadata": {},
   "outputs": [
    {
     "name": "stdout",
     "output_type": "stream",
     "text": [
      "download https://paddleocr.bj.bcebos.com/PP-OCRv3/english/en_PP-OCRv3_det_infer.tar to C:\\Users\\Jandrik/.paddleocr/whl\\det\\en\\en_PP-OCRv3_det_infer\\en_PP-OCRv3_det_infer.tar\n"
     ]
    },
    {
     "name": "stderr",
     "output_type": "stream",
     "text": [
      "100%|██████████| 3910/3910 [00:15<00:00, 258.32it/s] \n"
     ]
    },
    {
     "name": "stdout",
     "output_type": "stream",
     "text": [
      "download https://paddleocr.bj.bcebos.com/PP-OCRv4/english/en_PP-OCRv4_rec_infer.tar to C:\\Users\\Jandrik/.paddleocr/whl\\rec\\en\\en_PP-OCRv4_rec_infer\\en_PP-OCRv4_rec_infer.tar\n"
     ]
    },
    {
     "name": "stderr",
     "output_type": "stream",
     "text": [
      "100%|██████████| 10000/10000 [00:01<00:00, 5458.58it/s]\n"
     ]
    },
    {
     "name": "stdout",
     "output_type": "stream",
     "text": [
      "download https://paddleocr.bj.bcebos.com/dygraph_v2.0/ch/ch_ppocr_mobile_v2.0_cls_infer.tar to C:\\Users\\Jandrik/.paddleocr/whl\\cls\\ch_ppocr_mobile_v2.0_cls_infer\\ch_ppocr_mobile_v2.0_cls_infer.tar\n"
     ]
    },
    {
     "name": "stderr",
     "output_type": "stream",
     "text": [
      "100%|██████████| 2138/2138 [00:12<00:00, 171.60it/s]"
     ]
    },
    {
     "name": "stdout",
     "output_type": "stream",
     "text": [
      "[2025/02/19 10:31:11] ppocr DEBUG: Namespace(help='==SUPPRESS==', use_gpu=False, use_xpu=False, use_npu=False, use_mlu=False, ir_optim=True, use_tensorrt=False, min_subgraph_size=15, precision='fp32', gpu_mem=500, gpu_id=0, image_dir=None, page_num=0, det_algorithm='DB', det_model_dir='C:\\\\Users\\\\Jandrik/.paddleocr/whl\\\\det\\\\en\\\\en_PP-OCRv3_det_infer', det_limit_side_len=960, det_limit_type='max', det_box_type='quad', det_db_thresh=0.3, det_db_box_thresh=0.6, det_db_unclip_ratio=1.5, max_batch_size=10, use_dilation=False, det_db_score_mode='fast', det_east_score_thresh=0.8, det_east_cover_thresh=0.1, det_east_nms_thresh=0.2, det_sast_score_thresh=0.5, det_sast_nms_thresh=0.2, det_pse_thresh=0, det_pse_box_thresh=0.85, det_pse_min_area=16, det_pse_scale=1, scales=[8, 16, 32], alpha=1.0, beta=1.0, fourier_degree=5, rec_algorithm='SVTR_LCNet', rec_model_dir='C:\\\\Users\\\\Jandrik/.paddleocr/whl\\\\rec\\\\en\\\\en_PP-OCRv4_rec_infer', rec_image_inverse=True, rec_image_shape='3, 48, 320', rec_batch_num=6, max_text_length=25, rec_char_dict_path='c:\\\\Users\\\\Jandrik\\\\Documents\\\\MyFILES\\\\Programming\\\\Python Files\\\\Programs\\\\vino\\\\Lib\\\\site-packages\\\\paddleocr\\\\ppocr\\\\utils\\\\en_dict.txt', use_space_char=True, vis_font_path='./doc/fonts/simfang.ttf', drop_score=0.5, e2e_algorithm='PGNet', e2e_model_dir=None, e2e_limit_side_len=768, e2e_limit_type='max', e2e_pgnet_score_thresh=0.5, e2e_char_dict_path='./ppocr/utils/ic15_dict.txt', e2e_pgnet_valid_set='totaltext', e2e_pgnet_mode='fast', use_angle_cls=True, cls_model_dir='C:\\\\Users\\\\Jandrik/.paddleocr/whl\\\\cls\\\\ch_ppocr_mobile_v2.0_cls_infer', cls_image_shape='3, 48, 192', label_list=['0', '180'], cls_batch_num=6, cls_thresh=0.9, enable_mkldnn=False, cpu_threads=10, use_pdserving=False, warmup=False, sr_model_dir=None, sr_image_shape='3, 32, 128', sr_batch_num=1, draw_img_save_dir='./inference_results', save_crop_res=False, crop_res_save_dir='./output', use_mp=False, total_process_num=1, process_id=0, benchmark=False, save_log_path='./log_output/', show_log=True, use_onnx=False, return_word_box=False, output='./output', table_max_len=488, table_algorithm='TableAttn', table_model_dir=None, merge_no_span_structure=True, table_char_dict_path=None, formula_algorithm='LaTeXOCR', formula_model_dir=None, formula_char_dict_path=None, formula_batch_num=1, layout_model_dir=None, layout_dict_path=None, layout_score_threshold=0.5, layout_nms_threshold=0.5, kie_algorithm='LayoutXLM', ser_model_dir=None, re_model_dir=None, use_visual_backbone=True, ser_dict_path='../train_data/XFUND/class_list_xfun.txt', ocr_order_method=None, mode='structure', image_orientation=False, layout=True, table=True, formula=False, ocr=True, recovery=False, recovery_to_markdown=False, use_pdf2docx_api=False, invert=False, binarize=False, alphacolor=(255, 255, 255), lang='en', det=True, rec=True, type='ocr', savefile=False, ocr_version='PP-OCRv4', structure_version='PP-StructureV2')\n"
     ]
    },
    {
     "name": "stderr",
     "output_type": "stream",
     "text": [
      "\n"
     ]
    }
   ],
   "source": [
    "from paddleocr import PaddleOCR\n",
    "ocr = PaddleOCR(use_angle_cls=True, lang=\"en\")\n"
   ]
  },
  {
   "cell_type": "code",
   "execution_count": 11,
   "metadata": {},
   "outputs": [
    {
     "name": "stdout",
     "output_type": "stream",
     "text": [
      "[2025/02/19 10:40:05] ppocr DEBUG: Namespace(help='==SUPPRESS==', use_gpu=False, use_xpu=False, use_npu=False, use_mlu=False, ir_optim=True, use_tensorrt=False, min_subgraph_size=15, precision='fp32', gpu_mem=500, gpu_id=0, image_dir=None, page_num=0, det_algorithm='DB', det_model_dir='C:\\\\Users\\\\Jandrik/.paddleocr/whl\\\\det\\\\en\\\\en_PP-OCRv3_det_infer', det_limit_side_len=960, det_limit_type='max', det_box_type='quad', det_db_thresh=0.3, det_db_box_thresh=0.6, det_db_unclip_ratio=1.5, max_batch_size=10, use_dilation=False, det_db_score_mode='fast', det_east_score_thresh=0.8, det_east_cover_thresh=0.1, det_east_nms_thresh=0.2, det_sast_score_thresh=0.5, det_sast_nms_thresh=0.2, det_pse_thresh=0, det_pse_box_thresh=0.85, det_pse_min_area=16, det_pse_scale=1, scales=[8, 16, 32], alpha=1.0, beta=1.0, fourier_degree=5, rec_algorithm='SVTR_LCNet', rec_model_dir='C:\\\\Users\\\\Jandrik/.paddleocr/whl\\\\rec\\\\en\\\\en_PP-OCRv4_rec_infer', rec_image_inverse=True, rec_image_shape='3, 48, 320', rec_batch_num=6, max_text_length=25, rec_char_dict_path='c:\\\\Users\\\\Jandrik\\\\Documents\\\\MyFILES\\\\Programming\\\\Python Files\\\\Programs\\\\vino\\\\Lib\\\\site-packages\\\\paddleocr\\\\ppocr\\\\utils\\\\en_dict.txt', use_space_char=True, vis_font_path='./doc/fonts/simfang.ttf', drop_score=0.5, e2e_algorithm='PGNet', e2e_model_dir=None, e2e_limit_side_len=768, e2e_limit_type='max', e2e_pgnet_score_thresh=0.5, e2e_char_dict_path='./ppocr/utils/ic15_dict.txt', e2e_pgnet_valid_set='totaltext', e2e_pgnet_mode='fast', use_angle_cls=True, cls_model_dir='C:\\\\Users\\\\Jandrik/.paddleocr/whl\\\\cls\\\\ch_ppocr_mobile_v2.0_cls_infer', cls_image_shape='3, 48, 192', label_list=['0', '180'], cls_batch_num=6, cls_thresh=0.9, enable_mkldnn=False, cpu_threads=10, use_pdserving=False, warmup=False, sr_model_dir=None, sr_image_shape='3, 32, 128', sr_batch_num=1, draw_img_save_dir='./inference_results', save_crop_res=False, crop_res_save_dir='./output', use_mp=False, total_process_num=1, process_id=0, benchmark=False, save_log_path='./log_output/', show_log=True, use_onnx=False, return_word_box=False, output='./output', table_max_len=488, table_algorithm='TableAttn', table_model_dir=None, merge_no_span_structure=True, table_char_dict_path=None, formula_algorithm='LaTeXOCR', formula_model_dir=None, formula_char_dict_path=None, formula_batch_num=1, layout_model_dir=None, layout_dict_path=None, layout_score_threshold=0.5, layout_nms_threshold=0.5, kie_algorithm='LayoutXLM', ser_model_dir=None, re_model_dir=None, use_visual_backbone=True, ser_dict_path='../train_data/XFUND/class_list_xfun.txt', ocr_order_method=None, mode='structure', image_orientation=False, layout=True, table=True, formula=False, ocr=True, recovery=False, recovery_to_markdown=False, use_pdf2docx_api=False, invert=False, binarize=False, alphacolor=(255, 255, 255), lang='en', det=True, rec=True, type='ocr', savefile=False, ocr_version='PP-OCRv4', structure_version='PP-StructureV2')\n"
     ]
    }
   ],
   "source": [
    "import ocr_module"
   ]
  },
  {
   "cell_type": "code",
   "execution_count": 13,
   "metadata": {},
   "outputs": [
    {
     "name": "stdout",
     "output_type": "stream",
     "text": [
      "[2025/02/19 10:41:13] ppocr DEBUG: dt_boxes num : 13, elapsed : 0.09532475471496582\n",
      "[2025/02/19 10:41:13] ppocr DEBUG: cls num  : 13, elapsed : 0.031423330307006836\n",
      "[2025/02/19 10:41:13] ppocr DEBUG: rec_res num  : 13, elapsed : 0.789665937423706\n"
     ]
    }
   ],
   "source": [
    "result = ocr_module.extract_image_text('test.jpg')"
   ]
  },
  {
   "cell_type": "code",
   "execution_count": 9,
   "metadata": {},
   "outputs": [
    {
     "ename": "IndexError",
     "evalue": "list index out of range",
     "output_type": "error",
     "traceback": [
      "\u001b[1;31m---------------------------------------------------------------------------\u001b[0m",
      "\u001b[1;31mIndexError\u001b[0m                                Traceback (most recent call last)",
      "Cell \u001b[1;32mIn[9], line 1\u001b[0m\n\u001b[1;32m----> 1\u001b[0m result[\u001b[38;5;241m1\u001b[39m]\n",
      "\u001b[1;31mIndexError\u001b[0m: list index out of range"
     ]
    }
   ],
   "source": [
    "result[1]"
   ]
  }
 ],
 "metadata": {
  "kernelspec": {
   "display_name": "Python 3",
   "language": "python",
   "name": "python3"
  },
  "language_info": {
   "codemirror_mode": {
    "name": "ipython",
    "version": 3
   },
   "file_extension": ".py",
   "mimetype": "text/x-python",
   "name": "python",
   "nbconvert_exporter": "python",
   "pygments_lexer": "ipython3",
   "version": "3.11.9"
  }
 },
 "nbformat": 4,
 "nbformat_minor": 2
}
