{
 "cells": [
  {
   "cell_type": "markdown",
   "id": "7e0cfc86",
   "metadata": {},
   "source": [
    "## API Testing"
   ]
  },
  {
   "cell_type": "code",
   "execution_count": 1,
   "id": "da8eb026",
   "metadata": {},
   "outputs": [],
   "source": [
    "import requests, json"
   ]
  },
  {
   "cell_type": "code",
   "execution_count": null,
   "id": "ad85a181",
   "metadata": {},
   "outputs": [],
   "source": [
    "url = \"https://fastapi-app-214117940810.asia-southeast1.run.app/upload-image/\"\n",
    "files = {\"file\": open(\"test_images/test.jpg\", \"rb\")}\n",
    "\n",
    "response = requests.post(url, files=files)\n",
    "response.json()"
   ]
  },
  {
   "cell_type": "code",
   "execution_count": null,
   "id": "b3661129",
   "metadata": {},
   "outputs": [],
   "source": []
  },
  {
   "cell_type": "code",
   "execution_count": 3,
   "id": "2d7c0b92",
   "metadata": {},
   "outputs": [
    {
     "data": {
      "text/plain": [
       "{'matches': [{'INDEX': 2351,\n",
       "   'Registration Number': 'DRHR-1355',\n",
       "   'Generic Name': 'Ascorbic Acid',\n",
       "   'Brand Name': 'Bewell C',\n",
       "   'Dosage Strength': '500 mg',\n",
       "   'Dosage Form': 'Capsule',\n",
       "   'Classification': 'Household Remedy (HR)',\n",
       "   'Packaging': \"Alu-Red PVC Blister Pack x 10's (Box of 100's and 200's)\",\n",
       "   'Pharmacologic Category': '-',\n",
       "   'Manufacturer': 'Lejal Laboratories Inc.',\n",
       "   'Country of Origin': 'Philippines',\n",
       "   'Trader': 'Bewell Nutraceutical Corp.',\n",
       "   'Importer': None,\n",
       "   'Distributor': None,\n",
       "   'Application Type': '-',\n",
       "   'Issuance Date': '24-Jul-20',\n",
       "   'Expiry Date': '28-Aug-25',\n",
       "   'Score': 0.85,\n",
       "   'rx_info': {'Name': 'Ascorbic Acid (Vitamin C)',\n",
       "    'URL': 'https://www.rxlist.com/ascorbic-acid-drug.htm',\n",
       "    'What is': '\\nAscorbic Acid (vitamin C) is a water-soluble vitamin recommended for the prevention and treatment of scurvy. Ascorbic acid is available in generic form.',\n",
       "    'What Are Side Effects': '\\nCommon side effects of ascorbic acid include transient mild soreness at the site of intramuscular or subcutaneous injection. Too-rapid intravenous administration of the solution may cause temporary faintness or dizziness. Other side effects of ascorbic acid include:\\n\\nnausea, \\nvomiting, \\nheartburn, \\nstomach cramps, and \\nheadache.\\n',\n",
       "    'Children': 'No info',\n",
       "    'Dosage': '\\nThe average protective dose of Ascorbic Acid (vitamin C) for adults is 70 to 150 mg daily. In the presence of scurvy, doses of 300 mg to 1 g daily are recommended.',\n",
       "    'Interact': '\\nAscorbic acid may influence the intensity and duration of action of bishydroxycoumarin. Tell your doctor about any prescription or over-the-counter medicines you are taking, including vitamins, minerals, and herbal products.',\n",
       "    'Pregnancy': '\\nAscorbic Acid (vitamin \\r\\nC) injection should be given to a pregnant woman only if prescribed. It is also not known whether Ascorbic Acid (vitamin \\r\\nC) injection can cause fetal harm. Caution should be exercised when Ascorbic Acid (vitamin \\r\\nC) Injection is administered to a nursing woman. Consult your doctor if you are breastfeeding. '},\n",
       "   'image_url': '/pill-images/Ascorbic_Acid_BewellC.jpg'},\n",
       "  {'INDEX': 6844,\n",
       "   'Registration Number': 'HRP-149',\n",
       "   'Generic Name': 'Carbocisteine',\n",
       "   'Brand Name': 'Marluxyn',\n",
       "   'Dosage Strength': '500mg',\n",
       "   'Dosage Form': 'Capsule',\n",
       "   'Classification': 'Household Remedy (HR)',\n",
       "   'Packaging': \"Blister Pack by 10's\",\n",
       "   'Pharmacologic Category': 'Mucolytic',\n",
       "   'Manufacturer': 'Lumar Pharmaceutical Laboratory',\n",
       "   'Country of Origin': 'Philippines',\n",
       "   'Trader': None,\n",
       "   'Importer': None,\n",
       "   'Distributor': None,\n",
       "   'Application Type': 'Automatic Renewal',\n",
       "   'Issuance Date': '21-Jul-22',\n",
       "   'Expiry Date': '3-Sep-27',\n",
       "   'Score': 0.27,\n",
       "   'rx_info': {'Name': 'Proscar (Finasteride)',\n",
       "    'URL': 'https://www.rxlist.com/proscar-drug.htm',\n",
       "    'What is': '\\nProscar (finasteride) is an inhibitor of steroid Type II 5a-reductase, that works by decreasing the amount of a natural body hormone dihydrotestosterone (DHT) that causes growth of the prostate, and is used to treat symptoms of benign prostatic hyperplasia (BPH) in men with an enlarged prostate. Proscar is available in generic form.',\n",
       "    'What Are Side Effects': '\\nCommon side effects of Proscar include\\nimpotence,loss of interest in sex,trouble having an orgasm,abnormal ejaculation,swelling in your hands or feet,swelling or tenderness in your breasts,dizziness,weakness,feeling faint,headache,runny nose, orskin rash.\\nIn some men, Proscar can decrease the amount of semen released during sex. This is harmless. Proscar may also increase hair growth. The sexual side effects of Proscar may continue after you stop taking it. Talk to your doctor if you have concerns about these side effects.\\nSeek medical care or call 911 at once if you have the following serious side effects:\\n\\nSerious eye symptoms such as sudden vision loss, blurred vision, tunnel vision, eye pain or swelling, or seeing halos around lights;\\nSerious heart symptoms such as fast, irregular, or pounding heartbeats; fluttering in your chest; shortness of breath; and sudden dizziness, lightheadedness, or passing out;\\nSevere headache, confusion, slurred speech, arm or leg weakness, trouble walking, loss of coordination, feeling unsteady, very stiff muscles, high fever, profuse sweating, or tremors.\\n\\nThis document does not contain all possible side effects and others may occur. Check with your physician for additional information about side effects.',\n",
       "    'Children': 'No info',\n",
       "    'Dosage': '\\nThe recommended dose of Proscar is one tablet (5 mg) taken once a day.',\n",
       "    'Interact': '\\nOther drugs may interact with Proscar. Tell your doctor all prescription and over-the-counter medications and supplements you use.',\n",
       "    'Pregnancy': '\\nProscar is not recommended for use in women and must not be used during pregnancy. This medication is not usually used in women. Therefore, it is unlikely to be used during pregnancy or breast-feeding.'},\n",
       "   'image_url': '/pill-images/Carbocisteine_Marluxyn.jpg'},\n",
       "  {'INDEX': 9010,\n",
       "   'Registration Number': 'HMRP-21',\n",
       "   'Generic Name': 'Vitex Negundo L. (Lagundi Leaf)',\n",
       "   'Brand Name': 'Ascof Forte',\n",
       "   'Dosage Strength': '600 mg',\n",
       "   'Dosage Form': 'Capsule',\n",
       "   'Classification': 'Household Remedy (HR)',\n",
       "   'Packaging': \"Blister Pack of 10's (Box of 60's)\\r\\nBlister Pack of 10's (Box of 120's)\",\n",
       "   'Pharmacologic Category': 'Herbal Medicine (Anti-cough / Anti-asthma)',\n",
       "   'Manufacturer': 'Pascual Laboratories, Inc.',\n",
       "   'Country of Origin': 'Philippines',\n",
       "   'Trader': None,\n",
       "   'Importer': None,\n",
       "   'Distributor': None,\n",
       "   'Application Type': 'Automatic Renewal (PCPR Conversion)',\n",
       "   'Issuance Date': '29-May-23',\n",
       "   'Expiry Date': '17-Oct-28',\n",
       "   'Score': 0.23,\n",
       "   'rx_info': {'Name': 'Finerenone Tablets (Kerendia)',\n",
       "    'URL': 'https://www.rxlist.com/kerendia-drug.htm',\n",
       "    'What is': 'No info',\n",
       "    'What Are Side Effects': 'No info',\n",
       "    'Children': 'No info',\n",
       "    'Dosage': 'No info',\n",
       "    'Interact': 'No info',\n",
       "    'Pregnancy': 'No info'},\n",
       "   'image_url': '/pill-images/Vitex_Negundo_L_Lagundi_Leaf_Ascof_Forte.jpg'}],\n",
       " 'images': []}"
      ]
     },
     "execution_count": 3,
     "metadata": {},
     "output_type": "execute_result"
    }
   ],
   "source": [
    "\n",
    "\n",
    "url = \"https://fastapi-app-214117940810.asia-southeast1.run.app/upload-pill-image/\"\n",
    "files = {\"file\": open(\"test_pills/Bewell-C.jpg\", \"rb\")}\n",
    "\n",
    "response = requests.post(url, files=files)\n",
    "response.json()"
   ]
  },
  {
   "cell_type": "markdown",
   "id": "27d221b0",
   "metadata": {},
   "source": [
    "## Testing"
   ]
  },
  {
   "cell_type": "code",
   "execution_count": 1,
   "id": "dd6e4d0e",
   "metadata": {},
   "outputs": [
    {
     "name": "stdout",
     "output_type": "stream",
     "text": [
      "[2025/06/26 09:29:51] ppocr DEBUG: Namespace(help='==SUPPRESS==', use_gpu=False, use_xpu=False, use_npu=False, use_mlu=False, ir_optim=True, use_tensorrt=False, min_subgraph_size=15, precision='fp32', gpu_mem=500, gpu_id=0, image_dir=None, page_num=0, det_algorithm='DB', det_model_dir='C:\\\\Users\\\\Jandrik/.paddleocr/whl\\\\det\\\\en\\\\en_PP-OCRv3_det_infer', det_limit_side_len=960, det_limit_type='max', det_box_type='quad', det_db_thresh=0.3, det_db_box_thresh=0.6, det_db_unclip_ratio=1.5, max_batch_size=10, use_dilation=False, det_db_score_mode='fast', det_east_score_thresh=0.8, det_east_cover_thresh=0.1, det_east_nms_thresh=0.2, det_sast_score_thresh=0.5, det_sast_nms_thresh=0.2, det_pse_thresh=0, det_pse_box_thresh=0.85, det_pse_min_area=16, det_pse_scale=1, scales=[8, 16, 32], alpha=1.0, beta=1.0, fourier_degree=5, rec_algorithm='SVTR_LCNet', rec_model_dir='C:\\\\Users\\\\Jandrik/.paddleocr/whl\\\\rec\\\\en\\\\en_PP-OCRv4_rec_infer', rec_image_inverse=True, rec_image_shape='3, 48, 320', rec_batch_num=6, max_text_length=25, rec_char_dict_path='c:\\\\Users\\\\Jandrik\\\\Documents\\\\MyFILES\\\\Programming\\\\Python Files\\\\Programs\\\\vino\\\\Lib\\\\site-packages\\\\paddleocr\\\\ppocr\\\\utils\\\\en_dict.txt', use_space_char=True, vis_font_path='./doc/fonts/simfang.ttf', drop_score=0.5, e2e_algorithm='PGNet', e2e_model_dir=None, e2e_limit_side_len=768, e2e_limit_type='max', e2e_pgnet_score_thresh=0.5, e2e_char_dict_path='./ppocr/utils/ic15_dict.txt', e2e_pgnet_valid_set='totaltext', e2e_pgnet_mode='fast', use_angle_cls=True, cls_model_dir='C:\\\\Users\\\\Jandrik/.paddleocr/whl\\\\cls\\\\ch_ppocr_mobile_v2.0_cls_infer', cls_image_shape='3, 48, 192', label_list=['0', '180'], cls_batch_num=6, cls_thresh=0.9, enable_mkldnn=False, cpu_threads=10, use_pdserving=False, warmup=False, sr_model_dir=None, sr_image_shape='3, 32, 128', sr_batch_num=1, draw_img_save_dir='./inference_results', save_crop_res=False, crop_res_save_dir='./output', use_mp=False, total_process_num=1, process_id=0, benchmark=False, save_log_path='./log_output/', show_log=True, use_onnx=False, return_word_box=False, output='./output', table_max_len=488, table_algorithm='TableAttn', table_model_dir=None, merge_no_span_structure=True, table_char_dict_path=None, formula_algorithm='LaTeXOCR', formula_model_dir=None, formula_char_dict_path=None, formula_batch_num=1, layout_model_dir=None, layout_dict_path=None, layout_score_threshold=0.5, layout_nms_threshold=0.5, kie_algorithm='LayoutXLM', ser_model_dir=None, re_model_dir=None, use_visual_backbone=True, ser_dict_path='../train_data/XFUND/class_list_xfun.txt', ocr_order_method=None, mode='structure', image_orientation=False, layout=True, table=True, formula=False, ocr=True, recovery=False, recovery_to_markdown=False, use_pdf2docx_api=False, invert=False, binarize=False, alphacolor=(255, 255, 255), lang='en', det=True, rec=True, type='ocr', savefile=False, ocr_version='PP-OCRv4', structure_version='PP-StructureV2')\n"
     ]
    }
   ],
   "source": [
    "import package_identification"
   ]
  },
  {
   "cell_type": "code",
   "execution_count": 23,
   "id": "658d8142",
   "metadata": {},
   "outputs": [],
   "source": [
    "from pymongo import MongoClient\n"
   ]
  },
  {
   "cell_type": "code",
   "execution_count": 25,
   "id": "5d4c1fce",
   "metadata": {},
   "outputs": [],
   "source": [
    "db = client[\"medications_db\"] "
   ]
  },
  {
   "cell_type": "code",
   "execution_count": 8,
   "id": "0f4c040a",
   "metadata": {},
   "outputs": [],
   "source": [
    "collection = db[\"FDA_pills\"] "
   ]
  },
  {
   "cell_type": "code",
   "execution_count": 9,
   "id": "a1be67ba",
   "metadata": {},
   "outputs": [],
   "source": [
    "import pandas as pd"
   ]
  },
  {
   "cell_type": "code",
   "execution_count": 10,
   "id": "022c4976",
   "metadata": {},
   "outputs": [],
   "source": [
    "drugdata_df = pd.read_csv('FDA_ALL.csv')\n",
    "#drugdata_df = drugdata_df.drop(columns=['INDEX'])\n"
   ]
  },
  {
   "cell_type": "code",
   "execution_count": 29,
   "id": "aa08ca82",
   "metadata": {},
   "outputs": [],
   "source": [
    "fda_all = pd.read_csv('FDA_ALL.csv')\n",
    "fda_all = fda_all.drop(columns=['INDEX'])\n"
   ]
  },
  {
   "cell_type": "code",
   "execution_count": 11,
   "id": "1362f893",
   "metadata": {},
   "outputs": [],
   "source": [
    "all_df_data = []\n",
    "\n",
    "for index, row in drugdata_df.iterrows():\n",
    "    all_df_data.append(dict(row))\n"
   ]
  },
  {
   "cell_type": "code",
   "execution_count": null,
   "id": "d331cb4a",
   "metadata": {},
   "outputs": [],
   "source": [
    "# Fetch all documents\n",
    "collection = db[\"drug_list\"] \n",
    "all_docs = collection.find()\n",
    "\n",
    "# Iterate through documents\n",
    "for doc in all_docs:\n",
    "    print(doc)\n",
    "    break"
   ]
  },
  {
   "cell_type": "markdown",
   "id": "1fefa0fd",
   "metadata": {},
   "source": [
    "## Testing 2\n"
   ]
  },
  {
   "cell_type": "code",
   "execution_count": null,
   "id": "016e3131",
   "metadata": {},
   "outputs": [],
   "source": [
    "from pymongo import MongoClient\n",
    "\n",
    "uri = \n",
    "client = MongoClient(uri)\n",
    "db = client[\"medications_db\"] "
   ]
  },
  {
   "cell_type": "code",
   "execution_count": 74,
   "id": "1efa38ca",
   "metadata": {},
   "outputs": [],
   "source": [
    "collection_names = [\"drug_data\", \"drug_list\", \"FDA_pills\"] \n",
    "\n",
    "def get_cols(collection):\n",
    "    sample_doc = collection.find_one()\n",
    "    cols = [k for k in sample_doc.keys() if k != '_id']\n",
    "    return cols\n",
    "\n",
    "def get_data_and_convert_to_df(collection_name):\n",
    "\n",
    "    df_columns = get_cols(collection=db[collection_name])\n",
    "    df = {c: [] for c in df_columns}\n",
    "    df = pd.DataFrame(df)\n",
    "    all_docs = db[collection_name].find()\n",
    "    # Iterate through documents\n",
    "    for doc in all_docs:\n",
    "        doc.pop('_id')\n",
    "        df = pd.concat([df, pd.DataFrame([doc])])\n",
    "    return df"
   ]
  },
  {
   "cell_type": "code",
   "execution_count": null,
   "id": "3033f3df",
   "metadata": {},
   "outputs": [],
   "source": [
    "get_data_and_convert_to_df(collection_names[1])"
   ]
  },
  {
   "cell_type": "markdown",
   "id": "a82f6ff1",
   "metadata": {},
   "source": [
    "## Testing 3"
   ]
  },
  {
   "cell_type": "code",
   "execution_count": 3,
   "id": "0cde66cd",
   "metadata": {},
   "outputs": [],
   "source": [
    "from pymongo import MongoClient\n",
    "import pandas as pd\n",
    "from tqdm import tqdm\n",
    "from google.cloud import secretmanager\n",
    "\n",
    "def access_secret(secret_id, version_id=\"latest\", project_id=\"your-gcp-project-id\"):\n",
    "    client = secretmanager.SecretManagerServiceClient()\n",
    "    name = f\"projects/{project_id}/secrets/{secret_id}/versions/{version_id}\"\n",
    "    response = client.access_secret_version(request={\"name\": name})\n",
    "    return response.payload.data.decode(\"UTF-8\")\n",
    "\n",
    "uri = access_secret(\"mongo-uri\", project_id=\"resolute-casing-464009-s1\")\n",
    "\n",
    "client = MongoClient(uri)\n",
    "db = client[\"medications_db\"] "
   ]
  },
  {
   "cell_type": "code",
   "execution_count": 1,
   "id": "703128dc",
   "metadata": {},
   "outputs": [
    {
     "name": "stdout",
     "output_type": "stream",
     "text": [
      "[2025/06/27 13:48:58] ppocr DEBUG: Namespace(help='==SUPPRESS==', use_gpu=False, use_xpu=False, use_npu=False, use_mlu=False, ir_optim=True, use_tensorrt=False, min_subgraph_size=15, precision='fp32', gpu_mem=500, gpu_id=0, image_dir=None, page_num=0, det_algorithm='DB', det_model_dir='C:\\\\Users\\\\Jandrik/.paddleocr/whl\\\\det\\\\en\\\\en_PP-OCRv3_det_infer', det_limit_side_len=960, det_limit_type='max', det_box_type='quad', det_db_thresh=0.3, det_db_box_thresh=0.6, det_db_unclip_ratio=1.5, max_batch_size=10, use_dilation=False, det_db_score_mode='fast', det_east_score_thresh=0.8, det_east_cover_thresh=0.1, det_east_nms_thresh=0.2, det_sast_score_thresh=0.5, det_sast_nms_thresh=0.2, det_pse_thresh=0, det_pse_box_thresh=0.85, det_pse_min_area=16, det_pse_scale=1, scales=[8, 16, 32], alpha=1.0, beta=1.0, fourier_degree=5, rec_algorithm='SVTR_LCNet', rec_model_dir='C:\\\\Users\\\\Jandrik/.paddleocr/whl\\\\rec\\\\en\\\\en_PP-OCRv4_rec_infer', rec_image_inverse=True, rec_image_shape='3, 48, 320', rec_batch_num=6, max_text_length=25, rec_char_dict_path='c:\\\\Users\\\\Jandrik\\\\Documents\\\\MyFILES\\\\Programming\\\\Python Files\\\\Programs\\\\vino\\\\Lib\\\\site-packages\\\\paddleocr\\\\ppocr\\\\utils\\\\en_dict.txt', use_space_char=True, vis_font_path='./doc/fonts/simfang.ttf', drop_score=0.5, e2e_algorithm='PGNet', e2e_model_dir=None, e2e_limit_side_len=768, e2e_limit_type='max', e2e_pgnet_score_thresh=0.5, e2e_char_dict_path='./ppocr/utils/ic15_dict.txt', e2e_pgnet_valid_set='totaltext', e2e_pgnet_mode='fast', use_angle_cls=True, cls_model_dir='C:\\\\Users\\\\Jandrik/.paddleocr/whl\\\\cls\\\\ch_ppocr_mobile_v2.0_cls_infer', cls_image_shape='3, 48, 192', label_list=['0', '180'], cls_batch_num=6, cls_thresh=0.9, enable_mkldnn=False, cpu_threads=10, use_pdserving=False, warmup=False, sr_model_dir=None, sr_image_shape='3, 32, 128', sr_batch_num=1, draw_img_save_dir='./inference_results', save_crop_res=False, crop_res_save_dir='./output', use_mp=False, total_process_num=1, process_id=0, benchmark=False, save_log_path='./log_output/', show_log=True, use_onnx=False, return_word_box=False, output='./output', table_max_len=488, table_algorithm='TableAttn', table_model_dir=None, merge_no_span_structure=True, table_char_dict_path=None, formula_algorithm='LaTeXOCR', formula_model_dir=None, formula_char_dict_path=None, formula_batch_num=1, layout_model_dir=None, layout_dict_path=None, layout_score_threshold=0.5, layout_nms_threshold=0.5, kie_algorithm='LayoutXLM', ser_model_dir=None, re_model_dir=None, use_visual_backbone=True, ser_dict_path='../train_data/XFUND/class_list_xfun.txt', ocr_order_method=None, mode='structure', image_orientation=False, layout=True, table=True, formula=False, ocr=True, recovery=False, recovery_to_markdown=False, use_pdf2docx_api=False, invert=False, binarize=False, alphacolor=(255, 255, 255), lang='en', det=True, rec=True, type='ocr', savefile=False, ocr_version='PP-OCRv4', structure_version='PP-StructureV2')\n",
      "Fetching FDA_pills...\n"
     ]
    },
    {
     "name": "stderr",
     "output_type": "stream",
     "text": [
      "17558it [00:10, 1696.09it/s]\n"
     ]
    },
    {
     "name": "stdout",
     "output_type": "stream",
     "text": [
      "Fetching drug_list...\n"
     ]
    },
    {
     "name": "stderr",
     "output_type": "stream",
     "text": [
      "28it [00:00, 722.74it/s]\n"
     ]
    },
    {
     "name": "stdout",
     "output_type": "stream",
     "text": [
      "Fetching drug_data...\n"
     ]
    },
    {
     "name": "stderr",
     "output_type": "stream",
     "text": [
      "8787it [00:03, 2859.12it/s]\n"
     ]
    },
    {
     "name": "stdout",
     "output_type": "stream",
     "text": [
      "Fetching drug_rx...\n"
     ]
    },
    {
     "name": "stderr",
     "output_type": "stream",
     "text": [
      "8787it [00:01, 4982.57it/s]\n"
     ]
    }
   ],
   "source": [
    "import package_identification"
   ]
  },
  {
   "cell_type": "code",
   "execution_count": null,
   "id": "67e154d6",
   "metadata": {},
   "outputs": [],
   "source": [
    "orig_fda_df = pd.read_csv('FDA_ALL.csv')"
   ]
  },
  {
   "cell_type": "code",
   "execution_count": null,
   "id": "23c6d2a5",
   "metadata": {},
   "outputs": [],
   "source": [
    "import medication_matching"
   ]
  },
  {
   "cell_type": "code",
   "execution_count": 3,
   "id": "1929ee33",
   "metadata": {},
   "outputs": [],
   "source": [
    "import pandas as pd\n"
   ]
  },
  {
   "cell_type": "code",
   "execution_count": 4,
   "id": "857bd57a",
   "metadata": {},
   "outputs": [],
   "source": [
    "fda_df = medication_matching.fda_df"
   ]
  },
  {
   "cell_type": "code",
   "execution_count": 6,
   "id": "e2f8a4e6",
   "metadata": {},
   "outputs": [],
   "source": [
    "fda_df['INDEX'] = fda_df['INDEX'].astype(int)"
   ]
  },
  {
   "cell_type": "code",
   "execution_count": null,
   "id": "d88bcc64",
   "metadata": {},
   "outputs": [],
   "source": [
    "fda_df.iloc[0]"
   ]
  },
  {
   "cell_type": "code",
   "execution_count": null,
   "id": "be82ae64",
   "metadata": {},
   "outputs": [],
   "source": [
    "fda_df.drop(columns=['INDEX'])"
   ]
  },
  {
   "cell_type": "markdown",
   "id": "49eaf6d5",
   "metadata": {},
   "source": [
    "## Test 4"
   ]
  },
  {
   "cell_type": "code",
   "execution_count": 1,
   "id": "019c9d29",
   "metadata": {},
   "outputs": [],
   "source": [
    "from google.cloud import secretmanager\n",
    "from pymongo import MongoClient"
   ]
  },
  {
   "cell_type": "code",
   "execution_count": null,
   "id": "52f76611",
   "metadata": {},
   "outputs": [],
   "source": []
  },
  {
   "cell_type": "code",
   "execution_count": null,
   "id": "9125e328",
   "metadata": {},
   "outputs": [],
   "source": [
    "def access_secret(secret_id, version_id=\"latest\", project_id=\"your-gcp-project-id\"):\n",
    "    client = secretmanager.SecretManagerServiceClient()\n",
    "    name = f\"projects/{project_id}/secrets/{secret_id}/versions/{version_id}\"\n",
    "    response = client.access_secret_version(request={\"name\": name})\n",
    "    return response.payload.data.decode(\"UTF-8\")\n",
    "\n",
    "uri = access_secret(\"mongo-uri\", project_id=\"resolute-casing-464009-s1\")\n",
    "uri"
   ]
  }
 ],
 "metadata": {
  "kernelspec": {
   "display_name": "Python 3",
   "language": "python",
   "name": "python3"
  },
  "language_info": {
   "codemirror_mode": {
    "name": "ipython",
    "version": 3
   },
   "file_extension": ".py",
   "mimetype": "text/x-python",
   "name": "python",
   "nbconvert_exporter": "python",
   "pygments_lexer": "ipython3",
   "version": "3.11.9"
  }
 },
 "nbformat": 4,
 "nbformat_minor": 5
}
