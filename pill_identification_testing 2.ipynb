{
 "cells": [
  {
   "cell_type": "markdown",
   "id": "7e0cfc86",
   "metadata": {},
   "source": [
    "## API Testing"
   ]
  },
  {
   "cell_type": "code",
   "execution_count": 1,
   "id": "da8eb026",
   "metadata": {},
   "outputs": [],
   "source": [
    "import requests, json"
   ]
  },
  {
   "cell_type": "code",
   "execution_count": null,
   "id": "b436d860",
   "metadata": {},
   "outputs": [],
   "source": [
    "\n",
    "\n",
    "url = \"https://fastapi-app-613987678533.asia-southeast1.run.app/upload-pill-image/\"\n",
    "files = {\"file\": open(\"test_pills/Bewell-C.jpg\", \"rb\")}\n",
    "\n",
    "response = requests.post(url, files=files)\n",
    "response.json()"
   ]
  },
  {
   "cell_type": "code",
   "execution_count": null,
   "id": "0b659479",
   "metadata": {},
   "outputs": [],
   "source": [
    "import requests, json\n",
    "\n",
    "url = \"http://192.168.254.118:8000/upload-pill-image/\"\n",
    "files = {\"file\": open(\"test_pills/Bewell-C.jpg\", \"rb\")}\n",
    "\n",
    "response = requests.post(url, files=files)\n",
    "response.json()"
   ]
  },
  {
   "cell_type": "markdown",
   "id": "27d221b0",
   "metadata": {},
   "source": [
    "## Testing"
   ]
  },
  {
   "cell_type": "code",
   "execution_count": 30,
   "id": "d31a3b5c",
   "metadata": {},
   "outputs": [
    {
     "name": "stdout",
     "output_type": "stream",
     "text": [
      "[2025/06/23 13:22:27] ppocr DEBUG: Namespace(help='==SUPPRESS==', use_gpu=False, use_xpu=False, use_npu=False, use_mlu=False, ir_optim=True, use_tensorrt=False, min_subgraph_size=15, precision='fp32', gpu_mem=500, gpu_id=0, image_dir=None, page_num=0, det_algorithm='DB', det_model_dir='C:\\\\Users\\\\Jandrik/.paddleocr/whl\\\\det\\\\en\\\\en_PP-OCRv3_det_infer', det_limit_side_len=960, det_limit_type='max', det_box_type='quad', det_db_thresh=0.3, det_db_box_thresh=0.6, det_db_unclip_ratio=1.5, max_batch_size=10, use_dilation=False, det_db_score_mode='fast', det_east_score_thresh=0.8, det_east_cover_thresh=0.1, det_east_nms_thresh=0.2, det_sast_score_thresh=0.5, det_sast_nms_thresh=0.2, det_pse_thresh=0, det_pse_box_thresh=0.85, det_pse_min_area=16, det_pse_scale=1, scales=[8, 16, 32], alpha=1.0, beta=1.0, fourier_degree=5, rec_algorithm='SVTR_LCNet', rec_model_dir='C:\\\\Users\\\\Jandrik/.paddleocr/whl\\\\rec\\\\en\\\\en_PP-OCRv4_rec_infer', rec_image_inverse=True, rec_image_shape='3, 48, 320', rec_batch_num=6, max_text_length=25, rec_char_dict_path='c:\\\\Users\\\\Jandrik\\\\Documents\\\\MyFILES\\\\Programming\\\\Python Files\\\\Programs\\\\vino\\\\Lib\\\\site-packages\\\\paddleocr\\\\ppocr\\\\utils\\\\en_dict.txt', use_space_char=True, vis_font_path='./doc/fonts/simfang.ttf', drop_score=0.5, e2e_algorithm='PGNet', e2e_model_dir=None, e2e_limit_side_len=768, e2e_limit_type='max', e2e_pgnet_score_thresh=0.5, e2e_char_dict_path='./ppocr/utils/ic15_dict.txt', e2e_pgnet_valid_set='totaltext', e2e_pgnet_mode='fast', use_angle_cls=True, cls_model_dir='C:\\\\Users\\\\Jandrik/.paddleocr/whl\\\\cls\\\\ch_ppocr_mobile_v2.0_cls_infer', cls_image_shape='3, 48, 192', label_list=['0', '180'], cls_batch_num=6, cls_thresh=0.9, enable_mkldnn=False, cpu_threads=10, use_pdserving=False, warmup=False, sr_model_dir=None, sr_image_shape='3, 32, 128', sr_batch_num=1, draw_img_save_dir='./inference_results', save_crop_res=False, crop_res_save_dir='./output', use_mp=False, total_process_num=1, process_id=0, benchmark=False, save_log_path='./log_output/', show_log=True, use_onnx=False, return_word_box=False, output='./output', table_max_len=488, table_algorithm='TableAttn', table_model_dir=None, merge_no_span_structure=True, table_char_dict_path=None, formula_algorithm='LaTeXOCR', formula_model_dir=None, formula_char_dict_path=None, formula_batch_num=1, layout_model_dir=None, layout_dict_path=None, layout_score_threshold=0.5, layout_nms_threshold=0.5, kie_algorithm='LayoutXLM', ser_model_dir=None, re_model_dir=None, use_visual_backbone=True, ser_dict_path='../train_data/XFUND/class_list_xfun.txt', ocr_order_method=None, mode='structure', image_orientation=False, layout=True, table=True, formula=False, ocr=True, recovery=False, recovery_to_markdown=False, use_pdf2docx_api=False, invert=False, binarize=False, alphacolor=(255, 255, 255), lang='en', det=True, rec=True, type='ocr', savefile=False, ocr_version='PP-OCRv4', structure_version='PP-StructureV2')\n"
     ]
    }
   ],
   "source": [
    "import medication_matching\n",
    "import ocr_module"
   ]
  },
  {
   "cell_type": "code",
   "execution_count": 31,
   "id": "05d7741a",
   "metadata": {},
   "outputs": [],
   "source": [
    "image_path = 'test_images/test2.jpg'"
   ]
  },
  {
   "cell_type": "code",
   "execution_count": 38,
   "id": "f7a8f11a",
   "metadata": {},
   "outputs": [
    {
     "name": "stdout",
     "output_type": "stream",
     "text": [
      "[2025/06/23 13:24:49] ppocr DEBUG: dt_boxes num : 10, elapsed : 0.10302162170410156\n",
      "[2025/06/23 13:24:49] ppocr DEBUG: cls num  : 10, elapsed : 0.023677349090576172\n",
      "[2025/06/23 13:24:50] ppocr DEBUG: rec_res num  : 10, elapsed : 0.585432767868042\n"
     ]
    },
    {
     "data": {
      "text/plain": [
       "{'matches': [{'INDEX': 6319,\n",
       "   'Registration Number': 'DRP-8154',\n",
       "   'Generic Name': 'Levothyroxine Sodium',\n",
       "   'Brand Name': 'Euthyrox 50',\n",
       "   'Dosage Strength': '50 mcg',\n",
       "   'Dosage Form': 'Tablet',\n",
       "   'Classification': 'Prescription Drug (RX)',\n",
       "   'Packaging': \"Alu-Alu Blister Pack x 25s (Box of 100's)\",\n",
       "   'Pharmacologic Category': 'Thyroid Hormone Replacement',\n",
       "   'Manufacturer': 'Merck S.A. DE C.V.',\n",
       "   'Country of Origin': 'Mexico',\n",
       "   'Trader': nan,\n",
       "   'Importer': 'Merck, Inc.',\n",
       "   'Distributor': nan,\n",
       "   'Application Type': 'Renewal',\n",
       "   'Issuance Date': '23-Jun-24',\n",
       "   'Expiry Date': '14-Aug-29',\n",
       "   'match_score': 79.1,\n",
       "   'rx_info': {'Name': 'Levothyroxine Sodium (Levoxyl)',\n",
       "    'URL': 'https://www.rxlist.com/levoxyl-drug.htm',\n",
       "    'What is': '\\nLevoxyl (levothyroxine sodium) Tablets is a replacement for a hormone that is normally produced by your thyroid gland used to treat hypothyroidism (low thyroid hormone). Levoxyl is also used to treat or prevent goiter (enlarged thyroid gland), which can be caused by hormone imbalances, radiation treatment, surgery, or cancer. Levoxyl is available in generic form.',\n",
       "    'What Are Side Effects': '\\nCommon side effects of Levoxyl include hair loss during the first few months of treatment. This effect is usually temporary as your body adjusts to Levoxyl. Contact your doctor if you have serious side effects of Levoxyl including:\\r\\n\\nheadache, \\nsleep problems (insomnia), \\nnervousness,\\nirritability,\\nfever, \\nhot flashes, \\nsweating, \\npounding heartbeats or fluttering in your chest, \\nchanges in your menstrual periods, or \\nappetite or weight changes.\\n\\nDosage for Levoxyl\\nDosage of Levoxyl is individualized. Levoxyl may interact with lithium, amiodarone, antidepressants, or radiation therapy with iodine.\\nWhat Drugs, Substances, or Supplements Interact with Levoxyl?\\nMany other drugs can interact with Levoxyl. Tell your doctor all prescription and over-the-counter medications you use. There are other drugs that can be taken while taking Levoxyl, but they must be taken 4 hours before, or 4 hours after taking Levoxyl. Consult your doctor.\\nLevoxyl During Pregnancy and Breastfeeding\\nCurrent information shows Levoxyl may be used during pregnancy. Tell your doctor if you are pregnant because your dose may need to be adjusted. This medication passes into breast milk but is unlikely to harm a nursing infant. Consult your doctor before breast-feeding. \\nAdditional Information\\nOur Levoxyl (levothyroxine sodium) Side Effects Drug Center provides a comprehensive view of available drug information on the potential side effects when taking this medication.\\r\\n',\n",
       "    'Children': 'No info',\n",
       "    'Dosage': 'No info',\n",
       "    'Interact': 'No info',\n",
       "    'Pregnancy': 'No info'}},\n",
       "  {'INDEX': 6318,\n",
       "   'Registration Number': 'DRP-8153',\n",
       "   'Generic Name': 'Levothyroxine Sodium',\n",
       "   'Brand Name': 'Euthyrox 100',\n",
       "   'Dosage Strength': '100 mcg',\n",
       "   'Dosage Form': 'Tablet',\n",
       "   'Classification': 'Prescription Drug (RX)',\n",
       "   'Packaging': \"Alu-Alu Blister x 25s (Box of 100's)\",\n",
       "   'Pharmacologic Category': 'Thyroid Hormone Replacement',\n",
       "   'Manufacturer': 'Merck S.A. de C.V.',\n",
       "   'Country of Origin': 'Mexico',\n",
       "   'Trader': nan,\n",
       "   'Importer': 'Merck, Inc.',\n",
       "   'Distributor': nan,\n",
       "   'Application Type': 'Renewal',\n",
       "   'Issuance Date': '10-Jul-24',\n",
       "   'Expiry Date': '14-Aug-29',\n",
       "   'match_score': 78.7,\n",
       "   'rx_info': {'Name': 'Levothyroxine Sodium (Levoxyl)',\n",
       "    'URL': 'https://www.rxlist.com/levoxyl-drug.htm',\n",
       "    'What is': '\\nLevoxyl (levothyroxine sodium) Tablets is a replacement for a hormone that is normally produced by your thyroid gland used to treat hypothyroidism (low thyroid hormone). Levoxyl is also used to treat or prevent goiter (enlarged thyroid gland), which can be caused by hormone imbalances, radiation treatment, surgery, or cancer. Levoxyl is available in generic form.',\n",
       "    'What Are Side Effects': '\\nCommon side effects of Levoxyl include hair loss during the first few months of treatment. This effect is usually temporary as your body adjusts to Levoxyl. Contact your doctor if you have serious side effects of Levoxyl including:\\r\\n\\nheadache, \\nsleep problems (insomnia), \\nnervousness,\\nirritability,\\nfever, \\nhot flashes, \\nsweating, \\npounding heartbeats or fluttering in your chest, \\nchanges in your menstrual periods, or \\nappetite or weight changes.\\n\\nDosage for Levoxyl\\nDosage of Levoxyl is individualized. Levoxyl may interact with lithium, amiodarone, antidepressants, or radiation therapy with iodine.\\nWhat Drugs, Substances, or Supplements Interact with Levoxyl?\\nMany other drugs can interact with Levoxyl. Tell your doctor all prescription and over-the-counter medications you use. There are other drugs that can be taken while taking Levoxyl, but they must be taken 4 hours before, or 4 hours after taking Levoxyl. Consult your doctor.\\nLevoxyl During Pregnancy and Breastfeeding\\nCurrent information shows Levoxyl may be used during pregnancy. Tell your doctor if you are pregnant because your dose may need to be adjusted. This medication passes into breast milk but is unlikely to harm a nursing infant. Consult your doctor before breast-feeding. \\nAdditional Information\\nOur Levoxyl (levothyroxine sodium) Side Effects Drug Center provides a comprehensive view of available drug information on the potential side effects when taking this medication.\\r\\n',\n",
       "    'Children': 'No info',\n",
       "    'Dosage': 'No info',\n",
       "    'Interact': 'No info',\n",
       "    'Pregnancy': 'No info'}},\n",
       "  {'INDEX': 15920,\n",
       "   'Registration Number': 'DRP-15160',\n",
       "   'Generic Name': 'Levothyroxine Sodium',\n",
       "   'Brand Name': 'Euthyrox',\n",
       "   'Dosage Strength': '100 mcg',\n",
       "   'Dosage Form': 'Tablet',\n",
       "   'Classification': 'Prescription (RX) Drug',\n",
       "   'Packaging': \"Alu/Alu Blister Pack x 25's (Box of 100's)\",\n",
       "   'Pharmacologic Category': 'Thyroid Hormone Replacement',\n",
       "   'Manufacturer': 'Merck Healthcare KGAA',\n",
       "   'Country of Origin': 'Germany',\n",
       "   'Trader': nan,\n",
       "   'Importer': 'Merck, Inc.',\n",
       "   'Distributor': 'Merck, Inc.',\n",
       "   'Application Type': 'Initial(Re-issuance)',\n",
       "   'Issuance Date': '16-May-24',\n",
       "   'Expiry Date': '17-Nov-26',\n",
       "   'match_score': 78.1,\n",
       "   'rx_info': {'Name': 'Levothyroxine Sodium (Levoxyl)',\n",
       "    'URL': 'https://www.rxlist.com/levoxyl-drug.htm',\n",
       "    'What is': '\\nLevoxyl (levothyroxine sodium) Tablets is a replacement for a hormone that is normally produced by your thyroid gland used to treat hypothyroidism (low thyroid hormone). Levoxyl is also used to treat or prevent goiter (enlarged thyroid gland), which can be caused by hormone imbalances, radiation treatment, surgery, or cancer. Levoxyl is available in generic form.',\n",
       "    'What Are Side Effects': '\\nCommon side effects of Levoxyl include hair loss during the first few months of treatment. This effect is usually temporary as your body adjusts to Levoxyl. Contact your doctor if you have serious side effects of Levoxyl including:\\r\\n\\nheadache, \\nsleep problems (insomnia), \\nnervousness,\\nirritability,\\nfever, \\nhot flashes, \\nsweating, \\npounding heartbeats or fluttering in your chest, \\nchanges in your menstrual periods, or \\nappetite or weight changes.\\n\\nDosage for Levoxyl\\nDosage of Levoxyl is individualized. Levoxyl may interact with lithium, amiodarone, antidepressants, or radiation therapy with iodine.\\nWhat Drugs, Substances, or Supplements Interact with Levoxyl?\\nMany other drugs can interact with Levoxyl. Tell your doctor all prescription and over-the-counter medications you use. There are other drugs that can be taken while taking Levoxyl, but they must be taken 4 hours before, or 4 hours after taking Levoxyl. Consult your doctor.\\nLevoxyl During Pregnancy and Breastfeeding\\nCurrent information shows Levoxyl may be used during pregnancy. Tell your doctor if you are pregnant because your dose may need to be adjusted. This medication passes into breast milk but is unlikely to harm a nursing infant. Consult your doctor before breast-feeding. \\nAdditional Information\\nOur Levoxyl (levothyroxine sodium) Side Effects Drug Center provides a comprehensive view of available drug information on the potential side effects when taking this medication.\\r\\n',\n",
       "    'Children': 'No info',\n",
       "    'Dosage': 'No info',\n",
       "    'Interact': 'No info',\n",
       "    'Pregnancy': 'No info'}}],\n",
       " 'images': ['/MedsForAll_Images/--LEVOTHYROXINE SODIUM ----EUTHYROX 50MCG TABLET----50mcg Tablet----.jpg',\n",
       "  '/MedsForAll_Images/--LEVOTHYROXINE SODIUM ----EUTHYROX 50MCG TABLET----50mcg Tablet----.jpg',\n",
       "  '/MedsForAll_Images/--LEVOTHYROXINE SODIUM ----EUTHYROX 50MCG TABLET----50mcg Tablet----.jpg']}"
      ]
     },
     "execution_count": 38,
     "metadata": {},
     "output_type": "execute_result"
    }
   ],
   "source": [
    "import package_identification\n",
    "\n",
    "package_identification.get_info(image_path)"
   ]
  },
  {
   "cell_type": "code",
   "execution_count": 32,
   "id": "fc750013",
   "metadata": {},
   "outputs": [
    {
     "name": "stdout",
     "output_type": "stream",
     "text": [
      "[2025/06/23 13:22:29] ppocr DEBUG: dt_boxes num : 10, elapsed : 0.4695017337799072\n",
      "[2025/06/23 13:22:29] ppocr DEBUG: cls num  : 10, elapsed : 0.12003445625305176\n",
      "[2025/06/23 13:22:30] ppocr DEBUG: rec_res num  : 10, elapsed : 1.1342177391052246\n"
     ]
    }
   ],
   "source": [
    "# Perform OCR on the downloaded image\n",
    "ocr_text = ocr_module.extract_image_text(image_path=image_path)\n",
    "# Get medication info\n",
    "med_info = medication_matching.get_info(ocr_text, threshold=60)"
   ]
  },
  {
   "cell_type": "code",
   "execution_count": 33,
   "id": "0a8bfd2c",
   "metadata": {},
   "outputs": [],
   "source": [
    "from fuzzywuzzy import fuzz\n",
    "import os\n",
    "\n",
    "available_package_images_names = os.listdir('MedsForAll_Images')\n"
   ]
  },
  {
   "cell_type": "code",
   "execution_count": 36,
   "id": "dfef603b",
   "metadata": {},
   "outputs": [],
   "source": [
    "image_matches = []\n",
    "threshold = 60\n",
    "\n",
    "for match in med_info['matches']:\n",
    "    match_name = f\"{match['Generic Name']} {match['Brand Name']} {match['Dosage Strength']}\"\n",
    "    best_image_match = None\n",
    "    best_match_score = 0\n",
    "    for package_name in available_package_images_names:\n",
    "        \n",
    "        score = fuzz.token_sort_ratio(match_name, package_name[:-3].replace('-', '').strip())\n",
    "        if score > best_match_score:\n",
    "            best_match_score = score\n",
    "            best_image_match = package_name\n",
    "\n",
    "    if best_match_score >= threshold:\n",
    "        image_matches.append(f'/MedsForAll_Images/{best_image_match}')\n",
    "    else:\n",
    "        image_matches.append('')"
   ]
  },
  {
   "cell_type": "code",
   "execution_count": 37,
   "id": "8506032c",
   "metadata": {},
   "outputs": [
    {
     "data": {
      "text/plain": [
       "['/MedsForAll_Images/--LEVOTHYROXINE SODIUM ----EUTHYROX 50MCG TABLET----50mcg Tablet----.jpg',\n",
       " '/MedsForAll_Images/--LEVOTHYROXINE SODIUM ----EUTHYROX 50MCG TABLET----50mcg Tablet----.jpg',\n",
       " '/MedsForAll_Images/--LEVOTHYROXINE SODIUM ----EUTHYROX 50MCG TABLET----50mcg Tablet----.jpg']"
      ]
     },
     "execution_count": 37,
     "metadata": {},
     "output_type": "execute_result"
    }
   ],
   "source": [
    "image_matches"
   ]
  },
  {
   "cell_type": "code",
   "execution_count": 2,
   "id": "9c049035",
   "metadata": {},
   "outputs": [],
   "source": [
    "import pickle"
   ]
  },
  {
   "cell_type": "code",
   "execution_count": 4,
   "id": "62a03ea4",
   "metadata": {},
   "outputs": [],
   "source": [
    "with open('pill_model/traintestsplit.pkl', 'rb') as tts_pkl:\n",
    "    traintestsplit = pickle.load(tts_pkl)"
   ]
  },
  {
   "cell_type": "code",
   "execution_count": 7,
   "id": "6e4c73d9",
   "metadata": {},
   "outputs": [],
   "source": [
    "pill_names_list = list(traintestsplit['class_to_label'].keys())"
   ]
  },
  {
   "cell_type": "code",
   "execution_count": null,
   "id": "885a27d3",
   "metadata": {},
   "outputs": [],
   "source": [
    "from pill_identification import preprocess_image, predict, get_info\n",
    "import pill_identification\n",
    "import os"
   ]
  },
  {
   "cell_type": "code",
   "execution_count": 25,
   "id": "314f2baa",
   "metadata": {},
   "outputs": [
    {
     "name": "stdout",
     "output_type": "stream",
     "text": [
      "Model Loadded.\n"
     ]
    },
    {
     "name": "stderr",
     "output_type": "stream",
     "text": [
      "c:\\Users\\Jandrik\\Documents\\MyFILES\\Programming\\Python Files\\Programs\\vino\\PillandPackageIdentification\\pill_identification.py:74: FutureWarning: You are using `torch.load` with `weights_only=False` (the current default value), which uses the default pickle module implicitly. It is possible to construct malicious pickle data which will execute arbitrary code during unpickling (See https://github.com/pytorch/pytorch/blob/main/SECURITY.md#untrusted-models for more details). In a future release, the default value for `weights_only` will be flipped to `True`. This limits the functions that could be executed during unpickling. Arbitrary objects will no longer be allowed to be loaded via this mode unless they are explicitly allowlisted by the user via `torch.serialization.add_safe_globals`. We recommend you start setting `weights_only=True` for any use case where you don't have full control of the loaded file. Please open an issue on GitHub for any issues related to this experimental feature.\n",
      "  support_set = torch.load('pill_model/support_embeddings.pt', map_location='cpu')\n"
     ]
    },
    {
     "data": {
      "text/plain": [
       "<module 'pill_identification' from 'c:\\\\Users\\\\Jandrik\\\\Documents\\\\MyFILES\\\\Programming\\\\Python Files\\\\Programs\\\\vino\\\\PillandPackageIdentification\\\\pill_identification.py'>"
      ]
     },
     "execution_count": 25,
     "metadata": {},
     "output_type": "execute_result"
    }
   ],
   "source": [
    "reload(pill_identification)"
   ]
  },
  {
   "cell_type": "code",
   "execution_count": 26,
   "id": "b294c4b4",
   "metadata": {},
   "outputs": [],
   "source": [
    "image_path = 'test_pills/Bewell-C.jpg'\n",
    "\n",
    "\n",
    "info = pill_identification.get_info(image_path)\n",
    "# image = pill_identification.preprocess_image(image_path)\n",
    "# predictions, scores = pill_identification.predict(image)\n",
    "\n"
   ]
  },
  {
   "cell_type": "code",
   "execution_count": null,
   "id": "e0062cfc",
   "metadata": {},
   "outputs": [],
   "source": []
  },
  {
   "cell_type": "code",
   "execution_count": 27,
   "id": "a8505818",
   "metadata": {},
   "outputs": [
    {
     "data": {
      "text/plain": [
       "{'matches': [{'INDEX': 2351,\n",
       "   'Registration Number': 'DRHR-1355',\n",
       "   'Generic Name': 'Ascorbic Acid',\n",
       "   'Brand Name': 'Bewell C',\n",
       "   'Dosage Strength': '500 mg',\n",
       "   'Dosage Form': 'Capsule',\n",
       "   'Classification': 'Household Remedy (HR)',\n",
       "   'Packaging': \"Alu-Red PVC Blister Pack x 10's (Box of 100's and 200's)\",\n",
       "   'Pharmacologic Category': '-',\n",
       "   'Manufacturer': 'Lejal Laboratories Inc.',\n",
       "   'Country of Origin': 'Philippines',\n",
       "   'Trader': 'Bewell Nutraceutical Corp.',\n",
       "   'Importer': nan,\n",
       "   'Distributor': nan,\n",
       "   'Application Type': '-',\n",
       "   'Issuance Date': '24-Jul-20',\n",
       "   'Expiry Date': '28-Aug-25',\n",
       "   'Score': 0.85,\n",
       "   'rx_info': {'Name': 'Ascorbic Acid (Vitamin C)',\n",
       "    'URL': 'https://www.rxlist.com/ascorbic-acid-drug.htm',\n",
       "    'What is': '\\nAscorbic Acid (vitamin C) is a water-soluble vitamin recommended for the prevention and treatment of scurvy. Ascorbic acid is available in generic form.',\n",
       "    'What Are Side Effects': '\\nCommon side effects of ascorbic acid include transient mild soreness at the site of intramuscular or subcutaneous injection. Too-rapid intravenous administration of the solution may cause temporary faintness or dizziness. Other side effects of ascorbic acid include:\\n\\nnausea, \\nvomiting, \\nheartburn, \\nstomach cramps, and \\nheadache.\\n',\n",
       "    'Children': 'No info',\n",
       "    'Dosage': '\\nThe average protective dose of Ascorbic Acid (vitamin C) for adults is 70 to 150 mg daily. In the presence of scurvy, doses of 300 mg to 1 g daily are recommended.',\n",
       "    'Interact': '\\nAscorbic acid may influence the intensity and duration of action of bishydroxycoumarin. Tell your doctor about any prescription or over-the-counter medicines you are taking, including vitamins, minerals, and herbal products.',\n",
       "    'Pregnancy': '\\nAscorbic Acid (vitamin \\r\\nC) injection should be given to a pregnant woman only if prescribed. It is also not known whether Ascorbic Acid (vitamin \\r\\nC) injection can cause fetal harm. Caution should be exercised when Ascorbic Acid (vitamin \\r\\nC) Injection is administered to a nursing woman. Consult your doctor if you are breastfeeding. '}},\n",
       "  {'INDEX': 6844,\n",
       "   'Registration Number': 'HRP-149',\n",
       "   'Generic Name': 'Carbocisteine',\n",
       "   'Brand Name': 'Marluxyn',\n",
       "   'Dosage Strength': '500mg',\n",
       "   'Dosage Form': 'Capsule',\n",
       "   'Classification': 'Household Remedy (HR)',\n",
       "   'Packaging': \"Blister Pack by 10's\",\n",
       "   'Pharmacologic Category': 'Mucolytic',\n",
       "   'Manufacturer': 'Lumar Pharmaceutical Laboratory',\n",
       "   'Country of Origin': 'Philippines',\n",
       "   'Trader': nan,\n",
       "   'Importer': nan,\n",
       "   'Distributor': nan,\n",
       "   'Application Type': 'Automatic Renewal',\n",
       "   'Issuance Date': '21-Jul-22',\n",
       "   'Expiry Date': '3-Sep-27',\n",
       "   'Score': 0.27,\n",
       "   'rx_info': {'Name': 'Carbocaine (Mepivacaine)',\n",
       "    'URL': 'https://www.rxlist.com/carbocaine-drug.htm',\n",
       "    'What is': '\\nCarbocaine (mepivacaine) is an anesthetic (numbing medicine) used as a local (in one area) anesthetic for an epidural or spinal block. Carbocaine is available in generic form.',\n",
       "    'What Are Side Effects': '\\nCommon side effects of Carbocaine include:\\n\\nnausea,\\nvomiting,\\nnervousness,\\ndizziness, or\\ndrowsiness\\n\\nTell your doctor if you experience signs of an allergic reaction to Carbocaine include hives, difficulty breathing, or swelling or puffiness of your face, lips, tongue, or throat.\\r\\n\\r\\nCarbocaine\\xa0may cause serious side effects including:\\n\\nhives,\\ndifficulty breathing,\\nswelling of your face, lips, tongue, or throat,\\nskin redness,\\nnausea,\\nvomiting,\\nsweating,\\nfeeling hot,\\nfast heartbeats,\\nsneezing,\\ndizziness,\\nfainting,\\nnumbness and tingling in your mouth or lips,\\nmetallic taste in your mouth,\\nringing in your ears,\\nblurred vision,\\nslurred speech,\\nheadache,\\nconfusion,\\ndepression,\\nsevere drowsiness,\\nlightheadedness,\\nslow heart rate,\\nweak pulse,\\nshallow breathing,\\nfever,\\nneck stiffness,\\nincreased sensitivity to light,\\ntremors or muscle twitching,\\nanxiety,\\nrestlessness,\\nongoing numbness,\\nweakness,\\nloss of movement in your legs or feet,\\nloss or bladder or bowel control,\\nloss of feeling in your lower stomach, groin, or genitals,\\npainful or difficult urination,\\nfast heart rate,\\nrapid breathing, and\\nfeeling hot\\n\\nGet medical help right away, if you have any of the symptoms listed above.\\nSeek medical care or call 911 at once if you have the following serious side effects:\\n\\nSerious eye symptoms such as sudden vision loss, blurred vision, tunnel vision, eye pain or swelling, or seeing halos around lights;\\nSerious heart symptoms such as fast, irregular, or pounding heartbeats; fluttering in your chest; shortness of breath; and sudden dizziness, lightheartedness, or passing out;\\nSevere headache, confusion, slurred speech, arm or leg weakness, trouble walking, loss of coordination, feeling unsteady, very stiff muscles, high fever, profuse sweating, or tremors.\\n\\nThis document does not contain all possible side effects and others may occur. Check with your physician for additional information about side effects.\\nDosage for Carbocaine\\nThe dose of Carbocaine varies with the anesthetic procedure, the area to be anesthetized, the vascularity of the tissues, the number of neuronal segments to be blocked, the depth of anesthesia and degree of muscle relaxation required, the duration of anesthesia desired, individual tolerance and the physical condition of the patient. The smallest dose and concentration required to produce the desired result should be administered.\\nWhat Drugs, Substances, or Supplements Interact with Carbocaine?\\nCarbocaine may interact with cold medicine, diet pills, stimulants, medication to treat ADHD, medicine to treat psychiatric disorders, medication to treat nausea and vomiting, ergot medicine, MAO inhibitors, or antidepressants. Tell your doctor all medications you use.\\nCarbocaine During Pregnancy or Breastfeeding\\nDuring pregnancy, Carbocaine should be used only if prescribed. It may be harmful to a fetus. It is unknown if this drug passes into breast milk or if it could harm a nursing baby. Consult your doctor before breastfeeding.\\nAdditional Information\\nOur Carbocaine (mepivacaine) Drug Center provides a comprehensive view of available drug information as well as related drugs, user reviews, supplements, and diseases and conditions articles.\\r\\n',\n",
       "    'Children': 'No info',\n",
       "    'Dosage': 'No info',\n",
       "    'Interact': 'No info',\n",
       "    'Pregnancy': 'No info'}}],\n",
       " 'images': ['Pill Images Samples/Ascorbic_Acid_BewellC.jpg',\n",
       "  'Pill Images Samples/Carbocisteine_Marluxyn.jpg']}"
      ]
     },
     "execution_count": 27,
     "metadata": {},
     "output_type": "execute_result"
    }
   ],
   "source": [
    "info"
   ]
  }
 ],
 "metadata": {
  "kernelspec": {
   "display_name": "Python 3",
   "language": "python",
   "name": "python3"
  },
  "language_info": {
   "codemirror_mode": {
    "name": "ipython",
    "version": 3
   },
   "file_extension": ".py",
   "mimetype": "text/x-python",
   "name": "python",
   "nbconvert_exporter": "python",
   "pygments_lexer": "ipython3",
   "version": "3.11.9"
  }
 },
 "nbformat": 4,
 "nbformat_minor": 5
}
