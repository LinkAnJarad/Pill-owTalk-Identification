{
 "cells": [
  {
   "cell_type": "markdown",
   "id": "7e0cfc86",
   "metadata": {},
   "source": [
    "## API Testing"
   ]
  },
  {
   "cell_type": "code",
   "execution_count": 1,
   "id": "da8eb026",
   "metadata": {},
   "outputs": [],
   "source": [
    "import requests, json"
   ]
  },
  {
   "cell_type": "code",
   "execution_count": null,
   "id": "b436d860",
   "metadata": {},
   "outputs": [],
   "source": [
    "\n",
    "\n",
    "url = \"https://fastapi-app-613987678533.asia-southeast1.run.app/upload-pill-image/\"\n",
    "files = {\"file\": open(\"test_pills/Bewell-C.jpg\", \"rb\")}\n",
    "\n",
    "response = requests.post(url, files=files)\n",
    "response.json()"
   ]
  },
  {
   "cell_type": "code",
   "execution_count": null,
   "id": "0b659479",
   "metadata": {},
   "outputs": [],
   "source": [
    "import requests, json\n",
    "\n",
    "url = \"http://192.168.254.118:8000/upload-pill-image/\"\n",
    "files = {\"file\": open(\"test_pills/Bewell-C.jpg\", \"rb\")}\n",
    "\n",
    "response = requests.post(url, files=files)\n",
    "response.json()"
   ]
  },
  {
   "cell_type": "markdown",
   "id": "27d221b0",
   "metadata": {},
   "source": [
    "## Testing"
   ]
  },
  {
   "cell_type": "code",
   "execution_count": 2,
   "id": "d31a3b5c",
   "metadata": {},
   "outputs": [
    {
     "name": "stdout",
     "output_type": "stream",
     "text": [
      "[2025/06/17 12:45:56] ppocr DEBUG: Namespace(help='==SUPPRESS==', use_gpu=False, use_xpu=False, use_npu=False, use_mlu=False, ir_optim=True, use_tensorrt=False, min_subgraph_size=15, precision='fp32', gpu_mem=500, gpu_id=0, image_dir=None, page_num=0, det_algorithm='DB', det_model_dir='C:\\\\Users\\\\Jandrik/.paddleocr/whl\\\\det\\\\en\\\\en_PP-OCRv3_det_infer', det_limit_side_len=960, det_limit_type='max', det_box_type='quad', det_db_thresh=0.3, det_db_box_thresh=0.6, det_db_unclip_ratio=1.5, max_batch_size=10, use_dilation=False, det_db_score_mode='fast', det_east_score_thresh=0.8, det_east_cover_thresh=0.1, det_east_nms_thresh=0.2, det_sast_score_thresh=0.5, det_sast_nms_thresh=0.2, det_pse_thresh=0, det_pse_box_thresh=0.85, det_pse_min_area=16, det_pse_scale=1, scales=[8, 16, 32], alpha=1.0, beta=1.0, fourier_degree=5, rec_algorithm='SVTR_LCNet', rec_model_dir='C:\\\\Users\\\\Jandrik/.paddleocr/whl\\\\rec\\\\en\\\\en_PP-OCRv4_rec_infer', rec_image_inverse=True, rec_image_shape='3, 48, 320', rec_batch_num=6, max_text_length=25, rec_char_dict_path='c:\\\\Users\\\\Jandrik\\\\Documents\\\\MyFILES\\\\Programming\\\\Python Files\\\\Programs\\\\vino\\\\Lib\\\\site-packages\\\\paddleocr\\\\ppocr\\\\utils\\\\en_dict.txt', use_space_char=True, vis_font_path='./doc/fonts/simfang.ttf', drop_score=0.5, e2e_algorithm='PGNet', e2e_model_dir=None, e2e_limit_side_len=768, e2e_limit_type='max', e2e_pgnet_score_thresh=0.5, e2e_char_dict_path='./ppocr/utils/ic15_dict.txt', e2e_pgnet_valid_set='totaltext', e2e_pgnet_mode='fast', use_angle_cls=True, cls_model_dir='C:\\\\Users\\\\Jandrik/.paddleocr/whl\\\\cls\\\\ch_ppocr_mobile_v2.0_cls_infer', cls_image_shape='3, 48, 192', label_list=['0', '180'], cls_batch_num=6, cls_thresh=0.9, enable_mkldnn=False, cpu_threads=10, use_pdserving=False, warmup=False, sr_model_dir=None, sr_image_shape='3, 32, 128', sr_batch_num=1, draw_img_save_dir='./inference_results', save_crop_res=False, crop_res_save_dir='./output', use_mp=False, total_process_num=1, process_id=0, benchmark=False, save_log_path='./log_output/', show_log=True, use_onnx=False, return_word_box=False, output='./output', table_max_len=488, table_algorithm='TableAttn', table_model_dir=None, merge_no_span_structure=True, table_char_dict_path=None, formula_algorithm='LaTeXOCR', formula_model_dir=None, formula_char_dict_path=None, formula_batch_num=1, layout_model_dir=None, layout_dict_path=None, layout_score_threshold=0.5, layout_nms_threshold=0.5, kie_algorithm='LayoutXLM', ser_model_dir=None, re_model_dir=None, use_visual_backbone=True, ser_dict_path='../train_data/XFUND/class_list_xfun.txt', ocr_order_method=None, mode='structure', image_orientation=False, layout=True, table=True, formula=False, ocr=True, recovery=False, recovery_to_markdown=False, use_pdf2docx_api=False, invert=False, binarize=False, alphacolor=(255, 255, 255), lang='en', det=True, rec=True, type='ocr', savefile=False, ocr_version='PP-OCRv4', structure_version='PP-StructureV2')\n"
     ]
    }
   ],
   "source": [
    "import medication_matching\n",
    "import ocr_module"
   ]
  },
  {
   "cell_type": "code",
   "execution_count": 3,
   "id": "05d7741a",
   "metadata": {},
   "outputs": [],
   "source": [
    "image_path = 'test_images/test2.jpg'"
   ]
  },
  {
   "cell_type": "code",
   "execution_count": 5,
   "id": "fc750013",
   "metadata": {},
   "outputs": [
    {
     "name": "stdout",
     "output_type": "stream",
     "text": [
      "[2025/06/17 12:47:05] ppocr DEBUG: dt_boxes num : 10, elapsed : 0.7110025882720947\n",
      "[2025/06/17 12:47:05] ppocr DEBUG: cls num  : 10, elapsed : 0.13431549072265625\n",
      "[2025/06/17 12:47:06] ppocr DEBUG: rec_res num  : 10, elapsed : 1.3132984638214111\n"
     ]
    }
   ],
   "source": [
    "# Perform OCR on the downloaded image\n",
    "ocr_text = ocr_module.extract_image_text(image_path=image_path)\n",
    "# Get medication info\n",
    "med_info = medication_matching.get_info(ocr_text, threshold=60)"
   ]
  },
  {
   "cell_type": "code",
   "execution_count": 1,
   "id": "0a8bfd2c",
   "metadata": {},
   "outputs": [],
   "source": [
    "from fuzzywuzzy import fuzz\n",
    "import os\n",
    "\n",
    "available_package_images_names = os.listdir('MedsForAll_Images')\n"
   ]
  },
  {
   "cell_type": "code",
   "execution_count": null,
   "id": "dfef603b",
   "metadata": {},
   "outputs": [],
   "source": [
    "image_matches = []\n",
    "threshold = 60\n",
    "\n",
    "for match in med_info['matches']:\n",
    "    match_name = f\"{match['Generic Name']} {match['Brand Name']} {match['Dosage Strength']}\"\n",
    "    best_image_match = None\n",
    "    best_match_score = 0\n",
    "    for package_name in available_package_images_names:\n",
    "        \n",
    "        score = fuzz.token_sort_ratio(match_name, package_name[:-3].replace('-', '').strip())\n",
    "        if score > best_match_score:\n",
    "            best_match_score = score\n",
    "            best_image_match = package_name\n",
    "\n",
    "    if best_match_score >= threshold:\n",
    "        image_matches.append(best_image_match)\n",
    "    else:\n",
    "        image_matches.append('')"
   ]
  },
  {
   "cell_type": "code",
   "execution_count": 2,
   "id": "9c049035",
   "metadata": {},
   "outputs": [],
   "source": [
    "import pickle"
   ]
  },
  {
   "cell_type": "code",
   "execution_count": 4,
   "id": "62a03ea4",
   "metadata": {},
   "outputs": [],
   "source": [
    "with open('pill_model/traintestsplit.pkl', 'rb') as tts_pkl:\n",
    "    traintestsplit = pickle.load(tts_pkl)"
   ]
  },
  {
   "cell_type": "code",
   "execution_count": 7,
   "id": "6e4c73d9",
   "metadata": {},
   "outputs": [],
   "source": [
    "pill_names_list = list(traintestsplit['class_to_label'].keys())"
   ]
  },
  {
   "cell_type": "code",
   "execution_count": 8,
   "id": "67c3bcb2",
   "metadata": {},
   "outputs": [
    {
     "data": {
      "text/plain": [
       "['Aciclovir_Herpex_800_mg',\n",
       " 'Ascorbic_Acid_BewellC',\n",
       " 'Azithromycin_as_dihydrate_Zithromax',\n",
       " 'Carbocisteine_Marluxyn',\n",
       " 'Carbocisteine_Solmux',\n",
       " 'DoloNeurobion_3B',\n",
       " 'Iron__Pyridoxine__Cyanacobalamin__Folic_Acid_Hemarate',\n",
       " 'KremilS',\n",
       " 'Loperamide_Hydrochloride_Diatabs',\n",
       " 'Loratadine_Allerta',\n",
       " 'Loratadine_Claritin',\n",
       " 'Losartan_Potassium_Medzart',\n",
       " 'MX3',\n",
       " 'Meclizine_Hydrochloride_Bonamine',\n",
       " 'Mefenamic_Acid_Myrefen',\n",
       " 'Montelukast_as_sodium__Levocetirizine_hydrochloride_Allerkast',\n",
       " 'Multivatimins__Minerals_Centrum_Advance',\n",
       " 'Naproxen_Sodium_Skelan_550',\n",
       " 'Paracetamol_Biogesic',\n",
       " 'Paracetamol_Tempaid',\n",
       " 'Paracetamol_Tempra',\n",
       " 'Phenylephrine_Hydrochloride__Chlorphenamine_Maleate__Paracetamol_Bioflu',\n",
       " 'Rosuvastatin_Rosusaph10',\n",
       " 'Sambong_Leaf_Uricare_500mg',\n",
       " 'Sinecod_Forte',\n",
       " 'Sodium_Ascorbate__Zinc_ImmunPro',\n",
       " 'Vitex_Negundo_L_Lagundi_Leaf_Ascof_Forte',\n",
       " 'Wild_Alaskan_Fish_Oil_1400_mg']"
      ]
     },
     "execution_count": 8,
     "metadata": {},
     "output_type": "execute_result"
    }
   ],
   "source": [
    "pill_names_list"
   ]
  },
  {
   "cell_type": "code",
   "execution_count": null,
   "id": "885a27d3",
   "metadata": {},
   "outputs": [],
   "source": []
  }
 ],
 "metadata": {
  "kernelspec": {
   "display_name": "Python 3",
   "language": "python",
   "name": "python3"
  },
  "language_info": {
   "codemirror_mode": {
    "name": "ipython",
    "version": 3
   },
   "file_extension": ".py",
   "mimetype": "text/x-python",
   "name": "python",
   "nbconvert_exporter": "python",
   "pygments_lexer": "ipython3",
   "version": "3.11.9"
  }
 },
 "nbformat": 4,
 "nbformat_minor": 5
}
