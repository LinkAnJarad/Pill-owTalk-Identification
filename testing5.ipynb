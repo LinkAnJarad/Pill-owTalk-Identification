{
 "cells": [
  {
   "cell_type": "code",
   "execution_count": 8,
   "metadata": {},
   "outputs": [],
   "source": [
    "from fuzzywuzzy import fuzz\n",
    "import pandas as pd\n",
    "import numpy as np\n",
    "\n",
    "fda_df = pd.read_csv('FDA_ALL.csv')\n",
    "rx_df = pd.read_csv('RX_ALL.csv')\n",
    "\n",
    "\n",
    "def match_with_fda(match_string, category=None, indexes=None):\n",
    "    matches = []\n",
    "    scores = []\n",
    "\n",
    "    if indexes is None:\n",
    "        indexes = list(range(len(fda_df)))\n",
    "\n",
    "    for i in indexes:\n",
    "        \n",
    "        if category is None:\n",
    "            medication_entry = str(fda_df.iloc[i]['Generic Name']) + str(fda_df.iloc[i]['Brand Name']) + str(fda_df.iloc[i]['Manufacturer']) + str(fda_df.iloc[i]['Dosage Strength']) + str(fda_df.iloc[i]['Packaging']) + str(fda_df.iloc[i]['Importer'])\n",
    "        else:\n",
    "            medication_entry = str(fda_df.iloc[i][category])\n",
    "        score = fuzz.token_set_ratio(medication_entry.lower(), match_string.lower())\n",
    "\n",
    "        matches.append(fda_df.iloc[i]['INDEX'])\n",
    "        scores.append(score)\n",
    "    \n",
    "    matches, scores = zip(*sorted(zip(matches, scores), key=lambda x: x[1], reverse=True))\n",
    "    return matches, scores"
   ]
  },
  {
   "cell_type": "code",
   "execution_count": 44,
   "metadata": {},
   "outputs": [],
   "source": [
    "from fuzzywuzzy import fuzz\n",
    "\n",
    "def match_with_fda_hierarchical(match_string, threshold=70):\n",
    "    match_string = match_string.lower().strip()\n",
    "    \n",
    "    matches = []\n",
    "    scores = []\n",
    "\n",
    "    def safe_str(value):\n",
    "        \"\"\" Convert NaN or None to an empty string \"\"\"\n",
    "        return str(value).lower().strip() if pd.notna(value) else \"\"\n",
    "\n",
    "    # Stage 1: Match by Generic Name + Brand Name (High Priority)\n",
    "    first_pass = []\n",
    "    for i in range(len(fda_df)):\n",
    "        generic_brand = f\"{safe_str(fda_df.iloc[i]['Generic Name'])} {safe_str(fda_df.iloc[i]['Brand Name'])}\"\n",
    "        score = fuzz.token_set_ratio(generic_brand, match_string)\n",
    "        if score >= threshold:\n",
    "            first_pass.append((i, score))\n",
    "\n",
    "    if not first_pass:  # If no strong matches, relax threshold slightly\n",
    "        first_pass = [(i, fuzz.token_set_ratio(safe_str(fda_df.iloc[i]['Generic Name']), match_string)) \n",
    "                      for i in range(len(fda_df))]\n",
    "\n",
    "    # Stage 2: Filter by Pharmacologic Category\n",
    "    second_pass = []\n",
    "    for i, prev_score in first_pass:\n",
    "        category = safe_str(fda_df.iloc[i]['Pharmacologic Category'])\n",
    "        score = fuzz.token_set_ratio(category, match_string)\n",
    "        final_score = (prev_score * 0.7) + (score * 0.3)\n",
    "        if score >= threshold:\n",
    "            second_pass.append((i, final_score))\n",
    "\n",
    "    # Stage 3: Manufacturer & Dosage Strength\n",
    "    third_pass = []\n",
    "    for i, prev_score in second_pass:\n",
    "        manufacturer = safe_str(fda_df.iloc[i]['Manufacturer'])\n",
    "        dosage = safe_str(fda_df.iloc[i]['Dosage Strength'])\n",
    "\n",
    "        manufacturer_score = fuzz.token_set_ratio(manufacturer, match_string)\n",
    "        dosage_score = fuzz.token_set_ratio(dosage, match_string)\n",
    "\n",
    "        final_score = (prev_score * 0.6) + (manufacturer_score * 0.15) + (dosage_score * 0.25)\n",
    "\n",
    "        if dosage_score >= threshold or manufacturer_score >= threshold:\n",
    "            third_pass.append((i, final_score))\n",
    "\n",
    "    # Stage 4: Final Refinement with Packaging & Importer\n",
    "    for i, prev_score in third_pass:\n",
    "        packaging = safe_str(fda_df.iloc[i]['Packaging'])\n",
    "        importer = safe_str(fda_df.iloc[i]['Importer'])\n",
    "\n",
    "        packaging_score = fuzz.token_set_ratio(packaging, match_string)\n",
    "        importer_score = fuzz.token_set_ratio(importer, match_string)\n",
    "\n",
    "        final_score = (prev_score * 0.8) + (packaging_score * 0.1) + (importer_score * 0.1)\n",
    "\n",
    "        matches.append(fda_df.iloc[i]['INDEX'])\n",
    "        scores.append(final_score)\n",
    "\n",
    "    # Sort by final score\n",
    "    if matches:\n",
    "        matches, scores = zip(*sorted(zip(matches, scores), key=lambda x: x[1], reverse=True))\n",
    "    \n",
    "    return matches, scores\n"
   ]
  },
  {
   "cell_type": "markdown",
   "metadata": {},
   "source": [
    "## OCR"
   ]
  },
  {
   "cell_type": "code",
   "execution_count": 16,
   "metadata": {},
   "outputs": [
    {
     "name": "stdout",
     "output_type": "stream",
     "text": [
      "[2025/02/21 15:38:25] ppocr DEBUG: Namespace(help='==SUPPRESS==', use_gpu=False, use_xpu=False, use_npu=False, use_mlu=False, ir_optim=True, use_tensorrt=False, min_subgraph_size=15, precision='fp32', gpu_mem=500, gpu_id=0, image_dir=None, page_num=0, det_algorithm='DB', det_model_dir='C:\\\\Users\\\\Jandrik/.paddleocr/whl\\\\det\\\\en\\\\en_PP-OCRv3_det_infer', det_limit_side_len=960, det_limit_type='max', det_box_type='quad', det_db_thresh=0.3, det_db_box_thresh=0.6, det_db_unclip_ratio=1.5, max_batch_size=10, use_dilation=False, det_db_score_mode='fast', det_east_score_thresh=0.8, det_east_cover_thresh=0.1, det_east_nms_thresh=0.2, det_sast_score_thresh=0.5, det_sast_nms_thresh=0.2, det_pse_thresh=0, det_pse_box_thresh=0.85, det_pse_min_area=16, det_pse_scale=1, scales=[8, 16, 32], alpha=1.0, beta=1.0, fourier_degree=5, rec_algorithm='SVTR_LCNet', rec_model_dir='C:\\\\Users\\\\Jandrik/.paddleocr/whl\\\\rec\\\\en\\\\en_PP-OCRv4_rec_infer', rec_image_inverse=True, rec_image_shape='3, 48, 320', rec_batch_num=6, max_text_length=25, rec_char_dict_path='c:\\\\Users\\\\Jandrik\\\\Documents\\\\MyFILES\\\\Programming\\\\Python Files\\\\Programs\\\\vino\\\\Lib\\\\site-packages\\\\paddleocr\\\\ppocr\\\\utils\\\\en_dict.txt', use_space_char=True, vis_font_path='./doc/fonts/simfang.ttf', drop_score=0.5, e2e_algorithm='PGNet', e2e_model_dir=None, e2e_limit_side_len=768, e2e_limit_type='max', e2e_pgnet_score_thresh=0.5, e2e_char_dict_path='./ppocr/utils/ic15_dict.txt', e2e_pgnet_valid_set='totaltext', e2e_pgnet_mode='fast', use_angle_cls=True, cls_model_dir='C:\\\\Users\\\\Jandrik/.paddleocr/whl\\\\cls\\\\ch_ppocr_mobile_v2.0_cls_infer', cls_image_shape='3, 48, 192', label_list=['0', '180'], cls_batch_num=6, cls_thresh=0.9, enable_mkldnn=False, cpu_threads=10, use_pdserving=False, warmup=False, sr_model_dir=None, sr_image_shape='3, 32, 128', sr_batch_num=1, draw_img_save_dir='./inference_results', save_crop_res=False, crop_res_save_dir='./output', use_mp=False, total_process_num=1, process_id=0, benchmark=False, save_log_path='./log_output/', show_log=True, use_onnx=False, return_word_box=False, output='./output', table_max_len=488, table_algorithm='TableAttn', table_model_dir=None, merge_no_span_structure=True, table_char_dict_path=None, formula_algorithm='LaTeXOCR', formula_model_dir=None, formula_char_dict_path=None, formula_batch_num=1, layout_model_dir=None, layout_dict_path=None, layout_score_threshold=0.5, layout_nms_threshold=0.5, kie_algorithm='LayoutXLM', ser_model_dir=None, re_model_dir=None, use_visual_backbone=True, ser_dict_path='../train_data/XFUND/class_list_xfun.txt', ocr_order_method=None, mode='structure', image_orientation=False, layout=True, table=True, formula=False, ocr=True, recovery=False, recovery_to_markdown=False, use_pdf2docx_api=False, invert=False, binarize=False, alphacolor=(255, 255, 255), lang='en', det=True, rec=True, type='ocr', savefile=False, ocr_version='PP-OCRv4', structure_version='PP-StructureV2')\n"
     ]
    }
   ],
   "source": [
    "import ocr_module"
   ]
  },
  {
   "cell_type": "code",
   "execution_count": 33,
   "metadata": {},
   "outputs": [
    {
     "name": "stdout",
     "output_type": "stream",
     "text": [
      "[2025/02/21 15:47:49] ppocr DEBUG: dt_boxes num : 16, elapsed : 0.13587570190429688\n",
      "[2025/02/21 15:47:49] ppocr DEBUG: cls num  : 16, elapsed : 0.07323408126831055\n",
      "[2025/02/21 15:47:50] ppocr DEBUG: rec_res num  : 16, elapsed : 1.2540688514709473\n"
     ]
    },
    {
     "data": {
      "text/plain": [
       "'100 Tablets MEDIZOLE 500 mg Film-Coated Tablet ANTIPROTOZOAL R Manufactured by: Imported & Distributed by MEDICO REMEDIES LIMITED I.E.Medica Inc. 8 &9,Dewan &Sons Udyog Nagar Lokmanya Nagar, MEDICO 5/F RFM Corporate Center Pioneer St. Palghar,Dist.Thane-401404Maharashtra India Mandaluyong City,Philippines'"
      ]
     },
     "execution_count": 33,
     "metadata": {},
     "output_type": "execute_result"
    }
   ],
   "source": [
    "ocr_text = ocr_module.extract_image_text('test6.jpg')\n",
    "ocr_text"
   ]
  },
  {
   "cell_type": "code",
   "execution_count": 48,
   "metadata": {},
   "outputs": [
    {
     "data": {
      "text/plain": [
       "'100 Tablets MEDIZOLE 500 mg Film-Coated Tablet ANTIPROTOZOAL R Manufactured by: Imported & Distributed by MEDICO REMEDIES LIMITED I.E.Medica Inc. 8 &9,Dewan &Sons Udyog Nagar Lokmanya Nagar, MEDICO 5/F RFM Corporate Center Pioneer St. Palghar,Dist.Thane-401404Maharashtra India Mandaluyong City,Philippines'"
      ]
     },
     "execution_count": 48,
     "metadata": {},
     "output_type": "execute_result"
    }
   ],
   "source": [
    "ocr_text"
   ]
  },
  {
   "cell_type": "code",
   "execution_count": 49,
   "metadata": {},
   "outputs": [
    {
     "name": "stdout",
     "output_type": "stream",
     "text": [
      "--------------------------------------------------\n",
      "INDEX                                                                5521\n",
      "Registration Number                                              DRP-6688\n",
      "Generic Name                                                Metronidazole\n",
      "Brand Name                                                       Medizole\n",
      "Dosage Strength                                                    500 mg\n",
      "Dosage Form                                            Film Coated Tablet\n",
      "Classification                                     Prescription Drug (RX)\n",
      "Packaging                 Alu/Clear PVC Blister pack x 10's (Box of 30's)\n",
      "Pharmacologic Category                                      Antiprotozoal\n",
      "Manufacturer                                    Medico Remedies Pvt. Ltd.\n",
      "Country of Origin                                                   India\n",
      "Trader                                                                NaN\n",
      "Importer                                                   MedEthix, Inc.\n",
      "Distributor                                                MedEthix, Inc.\n",
      "Application Type                                                  Renewal\n",
      "Issuance Date                                                   19-Dec-23\n",
      "Expiry Date                                                     20-May-29\n",
      "Name: 5521, dtype: object\n",
      "52.903999999999996\n",
      "--------------------------------------------------\n",
      "INDEX                                                      10857\n",
      "Registration Number                                   DR-XY47670\n",
      "Generic Name                                       Metronidazole\n",
      "Brand Name                                             Sydenzole\n",
      "Dosage Strength                                           500 mg\n",
      "Dosage Form                                               Tablet\n",
      "Classification                            Prescription Drug (Rx)\n",
      "Packaging                 Paper Foil Strip x 10's (Box of 100's)\n",
      "Pharmacologic Category                             Antiprotozoal\n",
      "Manufacturer                         Sydenham Laboratories, Inc.\n",
      "Country of Origin                                    Philippines\n",
      "Trader                                                       NaN\n",
      "Importer                          Sydenham Pharmaceuticals, Inc.\n",
      "Distributor                       Sydenham Pharmaceuticals, Inc.\n",
      "Application Type                                         Initial\n",
      "Issuance Date                                          19-Jan-22\n",
      "Expiry Date                                            19-Jan-27\n",
      "Name: 10857, dtype: object\n",
      "43.64399999999999\n",
      "--------------------------------------------------\n",
      "INDEX                                                      12655\n",
      "Registration Number                                    DRP-11633\n",
      "Generic Name                                       Metronidazole\n",
      "Brand Name                                             Sydenzole\n",
      "Dosage Strength                                           500 mg\n",
      "Dosage Form                                               Tablet\n",
      "Classification                            Prescription Drug (RX)\n",
      "Packaging                 Paper Foil Strip x 10's (Box of 100's)\n",
      "Pharmacologic Category                             Antiprotozoal\n",
      "Manufacturer                         Sydenham Laboratories, Inc.\n",
      "Country of Origin                                    Philippines\n",
      "Trader                                                       NaN\n",
      "Importer                          Sydenham Pharmaceuticals, Inc.\n",
      "Distributor                       Sydenham Pharmaceuticals, Inc.\n",
      "Application Type                               Automatic Renewal\n",
      "Issuance Date                                          19-Jan-22\n",
      "Expiry Date                                            19-Jan-27\n",
      "Name: 12655, dtype: object\n",
      "43.64399999999999\n"
     ]
    }
   ],
   "source": [
    "#ocr = \"Levothyroxine sodium Euthyrox 50 mcg Tablet Thyroid Hormone Replacement CK R Imported by Merck Inc. 36th Floor,The Finance Center 26th Street corner 9th Avenue, Bonifacio Global City,Taguig 100 Tablets MERCK\"\n",
    "m, s = match_with_fda_hierarchical(ocr_text, 70)\n",
    "for e, i in enumerate(m[:3]):\n",
    "    print('-'*50)\n",
    "    print(fda_df.iloc[i])\n",
    "    print(s[e])"
   ]
  },
  {
   "cell_type": "markdown",
   "metadata": {},
   "source": [
    "## Testing"
   ]
  },
  {
   "cell_type": "code",
   "execution_count": 35,
   "metadata": {},
   "outputs": [],
   "source": [
    "import medication_matching"
   ]
  },
  {
   "cell_type": "code",
   "execution_count": 55,
   "metadata": {},
   "outputs": [
    {
     "data": {
      "text/plain": [
       "[{'INDEX': 5521,\n",
       "  'Registration Number': 'DRP-6688',\n",
       "  'Generic Name': 'Metronidazole',\n",
       "  'Brand Name': 'Medizole',\n",
       "  'Dosage Strength': '500 mg',\n",
       "  'Dosage Form': 'Film Coated Tablet',\n",
       "  'Classification': 'Prescription Drug (RX)',\n",
       "  'Packaging': \"Alu/Clear PVC Blister pack x 10's (Box of 30's)\",\n",
       "  'Pharmacologic Category': 'Antiprotozoal',\n",
       "  'Manufacturer': 'Medico Remedies Pvt. Ltd.',\n",
       "  'Country of Origin': 'India',\n",
       "  'Trader': nan,\n",
       "  'Importer': 'MedEthix, Inc.',\n",
       "  'Distributor': 'MedEthix, Inc.',\n",
       "  'Application Type': 'Renewal',\n",
       "  'Issuance Date': '19-Dec-23',\n",
       "  'Expiry Date': '20-May-29',\n",
       "  'match_score': 52.903999999999996,\n",
       "  'rx_info': {'INDEX': 3106,\n",
       "   'Drug_Name': 'Flagyl (Metronidazole)',\n",
       "   'URL': 'https://www.rxlist.com/flagyl-drug.htm'}},\n",
       " {'INDEX': 10857,\n",
       "  'Registration Number': 'DR-XY47670',\n",
       "  'Generic Name': 'Metronidazole',\n",
       "  'Brand Name': 'Sydenzole',\n",
       "  'Dosage Strength': '500 mg',\n",
       "  'Dosage Form': 'Tablet',\n",
       "  'Classification': 'Prescription Drug (Rx)',\n",
       "  'Packaging': \"Paper Foil Strip x 10's (Box of 100's)\",\n",
       "  'Pharmacologic Category': 'Antiprotozoal',\n",
       "  'Manufacturer': 'Sydenham Laboratories, Inc.',\n",
       "  'Country of Origin': 'Philippines',\n",
       "  'Trader': nan,\n",
       "  'Importer': 'Sydenham Pharmaceuticals, Inc.',\n",
       "  'Distributor': 'Sydenham Pharmaceuticals, Inc.',\n",
       "  'Application Type': 'Initial',\n",
       "  'Issuance Date': '19-Jan-22',\n",
       "  'Expiry Date': '19-Jan-27',\n",
       "  'match_score': 43.64399999999999,\n",
       "  'rx_info': {'INDEX': 3106,\n",
       "   'Drug_Name': 'Flagyl (Metronidazole)',\n",
       "   'URL': 'https://www.rxlist.com/flagyl-drug.htm'}},\n",
       " {'INDEX': 12655,\n",
       "  'Registration Number': 'DRP-11633',\n",
       "  'Generic Name': 'Metronidazole',\n",
       "  'Brand Name': 'Sydenzole',\n",
       "  'Dosage Strength': '500 mg',\n",
       "  'Dosage Form': 'Tablet',\n",
       "  'Classification': 'Prescription Drug (RX)',\n",
       "  'Packaging': \"Paper Foil Strip x 10's (Box of 100's)\",\n",
       "  'Pharmacologic Category': 'Antiprotozoal',\n",
       "  'Manufacturer': 'Sydenham Laboratories, Inc.',\n",
       "  'Country of Origin': 'Philippines',\n",
       "  'Trader': nan,\n",
       "  'Importer': 'Sydenham Pharmaceuticals, Inc.',\n",
       "  'Distributor': 'Sydenham Pharmaceuticals, Inc.',\n",
       "  'Application Type': 'Automatic Renewal',\n",
       "  'Issuance Date': '19-Jan-22',\n",
       "  'Expiry Date': '19-Jan-27',\n",
       "  'match_score': 43.64399999999999,\n",
       "  'rx_info': {'INDEX': 3106,\n",
       "   'Drug_Name': 'Flagyl (Metronidazole)',\n",
       "   'URL': 'https://www.rxlist.com/flagyl-drug.htm'}}]"
      ]
     },
     "execution_count": 55,
     "metadata": {},
     "output_type": "execute_result"
    }
   ],
   "source": [
    "medication_matching.get_info(ocr_text)"
   ]
  },
  {
   "cell_type": "code",
   "execution_count": 40,
   "metadata": {},
   "outputs": [
    {
     "data": {
      "text/plain": [
       "INDEX                         0\n",
       "Registration Number           0\n",
       "Generic Name                 18\n",
       "Brand Name                 2100\n",
       "Dosage Strength              39\n",
       "Dosage Form                   0\n",
       "Classification                5\n",
       "Packaging                    20\n",
       "Pharmacologic Category        0\n",
       "Manufacturer                 12\n",
       "Country of Origin           119\n",
       "Trader                    13498\n",
       "Importer                   6380\n",
       "Distributor                4536\n",
       "Application Type              4\n",
       "Issuance Date                 2\n",
       "Expiry Date                   0\n",
       "dtype: int64"
      ]
     },
     "execution_count": 40,
     "metadata": {},
     "output_type": "execute_result"
    }
   ],
   "source": [
    "fda_df.isna().sum()"
   ]
  }
 ],
 "metadata": {
  "kernelspec": {
   "display_name": "Python 3",
   "language": "python",
   "name": "python3"
  },
  "language_info": {
   "codemirror_mode": {
    "name": "ipython",
    "version": 3
   },
   "file_extension": ".py",
   "mimetype": "text/x-python",
   "name": "python",
   "nbconvert_exporter": "python",
   "pygments_lexer": "ipython3",
   "version": "3.11.9"
  }
 },
 "nbformat": 4,
 "nbformat_minor": 2
}
