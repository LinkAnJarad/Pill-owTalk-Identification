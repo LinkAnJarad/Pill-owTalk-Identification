{
 "cells": [
  {
   "cell_type": "code",
   "execution_count": 1,
   "metadata": {},
   "outputs": [
    {
     "name": "stdout",
     "output_type": "stream",
     "text": [
      "[2025/02/21 13:41:19] ppocr DEBUG: Namespace(help='==SUPPRESS==', use_gpu=False, use_xpu=False, use_npu=False, use_mlu=False, ir_optim=True, use_tensorrt=False, min_subgraph_size=15, precision='fp32', gpu_mem=500, gpu_id=0, image_dir=None, page_num=0, det_algorithm='DB', det_model_dir='C:\\\\Users\\\\Jandrik/.paddleocr/whl\\\\det\\\\en\\\\en_PP-OCRv3_det_infer', det_limit_side_len=960, det_limit_type='max', det_box_type='quad', det_db_thresh=0.3, det_db_box_thresh=0.6, det_db_unclip_ratio=1.5, max_batch_size=10, use_dilation=False, det_db_score_mode='fast', det_east_score_thresh=0.8, det_east_cover_thresh=0.1, det_east_nms_thresh=0.2, det_sast_score_thresh=0.5, det_sast_nms_thresh=0.2, det_pse_thresh=0, det_pse_box_thresh=0.85, det_pse_min_area=16, det_pse_scale=1, scales=[8, 16, 32], alpha=1.0, beta=1.0, fourier_degree=5, rec_algorithm='SVTR_LCNet', rec_model_dir='C:\\\\Users\\\\Jandrik/.paddleocr/whl\\\\rec\\\\en\\\\en_PP-OCRv4_rec_infer', rec_image_inverse=True, rec_image_shape='3, 48, 320', rec_batch_num=6, max_text_length=25, rec_char_dict_path='c:\\\\Users\\\\Jandrik\\\\Documents\\\\MyFILES\\\\Programming\\\\Python Files\\\\Programs\\\\vino\\\\Lib\\\\site-packages\\\\paddleocr\\\\ppocr\\\\utils\\\\en_dict.txt', use_space_char=True, vis_font_path='./doc/fonts/simfang.ttf', drop_score=0.5, e2e_algorithm='PGNet', e2e_model_dir=None, e2e_limit_side_len=768, e2e_limit_type='max', e2e_pgnet_score_thresh=0.5, e2e_char_dict_path='./ppocr/utils/ic15_dict.txt', e2e_pgnet_valid_set='totaltext', e2e_pgnet_mode='fast', use_angle_cls=True, cls_model_dir='C:\\\\Users\\\\Jandrik/.paddleocr/whl\\\\cls\\\\ch_ppocr_mobile_v2.0_cls_infer', cls_image_shape='3, 48, 192', label_list=['0', '180'], cls_batch_num=6, cls_thresh=0.9, enable_mkldnn=False, cpu_threads=10, use_pdserving=False, warmup=False, sr_model_dir=None, sr_image_shape='3, 32, 128', sr_batch_num=1, draw_img_save_dir='./inference_results', save_crop_res=False, crop_res_save_dir='./output', use_mp=False, total_process_num=1, process_id=0, benchmark=False, save_log_path='./log_output/', show_log=True, use_onnx=False, return_word_box=False, output='./output', table_max_len=488, table_algorithm='TableAttn', table_model_dir=None, merge_no_span_structure=True, table_char_dict_path=None, formula_algorithm='LaTeXOCR', formula_model_dir=None, formula_char_dict_path=None, formula_batch_num=1, layout_model_dir=None, layout_dict_path=None, layout_score_threshold=0.5, layout_nms_threshold=0.5, kie_algorithm='LayoutXLM', ser_model_dir=None, re_model_dir=None, use_visual_backbone=True, ser_dict_path='../train_data/XFUND/class_list_xfun.txt', ocr_order_method=None, mode='structure', image_orientation=False, layout=True, table=True, formula=False, ocr=True, recovery=False, recovery_to_markdown=False, use_pdf2docx_api=False, invert=False, binarize=False, alphacolor=(255, 255, 255), lang='en', det=True, rec=True, type='ocr', savefile=False, ocr_version='PP-OCRv4', structure_version='PP-StructureV2')\n"
     ]
    },
    {
     "name": "stderr",
     "output_type": "stream",
     "text": [
      "Special tokens have been added in the vocabulary, make sure the associated word embeddings are fine-tuned or trained.\n"
     ]
    },
    {
     "name": "stdout",
     "output_type": "stream",
     "text": [
      "Loading Model... \n",
      "\n",
      "\n"
     ]
    },
    {
     "data": {
      "application/vnd.jupyter.widget-view+json": {
       "model_id": "d725dbb4892e42aeacdd2f56e4fd202b",
       "version_major": 2,
       "version_minor": 0
      },
      "text/plain": [
       "Loading checkpoint shards:   0%|          | 0/2 [00:00<?, ?it/s]"
      ]
     },
     "metadata": {},
     "output_type": "display_data"
    }
   ],
   "source": [
    "import ocr_module\n",
    "import ocr_postprocess\n",
    "import medication_matching"
   ]
  },
  {
   "cell_type": "code",
   "execution_count": null,
   "metadata": {},
   "outputs": [],
   "source": []
  },
  {
   "cell_type": "code",
   "execution_count": 2,
   "metadata": {},
   "outputs": [
    {
     "name": "stdout",
     "output_type": "stream",
     "text": [
      "[2025/02/21 13:41:54] ppocr DEBUG: dt_boxes num : 10, elapsed : 1.1224629878997803\n",
      "[2025/02/21 13:41:55] ppocr DEBUG: cls num  : 10, elapsed : 0.2727363109588623\n",
      "[2025/02/21 13:41:57] ppocr DEBUG: rec_res num  : 10, elapsed : 2.3669161796569824\n"
     ]
    }
   ],
   "source": [
    "image_text = ocr_module.extract_image_text('test2.jpg')"
   ]
  },
  {
   "cell_type": "code",
   "execution_count": 7,
   "metadata": {},
   "outputs": [
    {
     "data": {
      "text/plain": [
       "'Levothyroxine sodium Euthyrox 50 mcg Tablet Thyroid Hormone Replacement CK R Imported by Merck Inc. 36th Floor,The Finance Center 26th Street corner 9th Avenue, Bonifacio Global City,Taguig 100 Tablets MERCK'"
      ]
     },
     "execution_count": 7,
     "metadata": {},
     "output_type": "execute_result"
    }
   ],
   "source": [
    "image_text"
   ]
  },
  {
   "cell_type": "code",
   "execution_count": 4,
   "metadata": {},
   "outputs": [
    {
     "name": "stdout",
     "output_type": "stream",
     "text": [
      "system\n",
      "You are Qwen, created by Alibaba Cloud. You are a helpful assistant.\n",
      "user\n",
      "Extract the medication name from this OCR text of a medicine package:\n",
      "    Levothyroxine sodium Euthyrox 50 mcg Tablet Thyroid Hormone Replacement CK R Imported by Merck Inc. 36th Floor,The Finance Center 26th Street corner 9th Avenue, Bonifacio Global City,Taguig 100 Tablets MERCK \n",
      "\n",
      "    Return only the generic medication name, manufacturer/laboratory, dosage, and packaging quantity of the OCR text, don't add addresses or any labeling. Return them seperated by |.\n",
      "system\n",
      "Levothyroxine sodium|Merck Inc.|50 mcg|36 tablets\n"
     ]
    }
   ],
   "source": [
    "extracted_text = ocr_postprocess.extract_info_from_ocr(image_text)"
   ]
  },
  {
   "cell_type": "code",
   "execution_count": 6,
   "metadata": {},
   "outputs": [
    {
     "data": {
      "text/plain": [
       "[{'INDEX': 5892,\n",
       "  'Registration Number': 'DRP-7270',\n",
       "  'Generic Name': 'Levothyroxine (as sodium)',\n",
       "  'Brand Name': 'Zaliana',\n",
       "  'Dosage Strength': '50 mg',\n",
       "  'Dosage Form': 'Tablet',\n",
       "  'Classification': 'Prescription Drug (RX)',\n",
       "  'Packaging': \"Amber Glass Bottle x 100 tablets (Box of 1's)\",\n",
       "  'Pharmacologic Category': 'Thyroid Hormone Replacement',\n",
       "  'Manufacturer': 'Sterile-Gene Life Sciences (P) Ltd.',\n",
       "  'Country of Origin': 'India',\n",
       "  'Trader': nan,\n",
       "  'Importer': 'Lloyd Laboratories, Inc.',\n",
       "  'Distributor': 'Innogen Pharmaceuticals, Inc.',\n",
       "  'Application Type': 'Renewal',\n",
       "  'Issuance Date': '12-Mar-24',\n",
       "  'Expiry Date': '30-Jul-29',\n",
       "  'match_score': 78,\n",
       "  'rx_info': {'INDEX': 4527,\n",
       "   'Drug_Name': 'Levothyroxine Sodium (Levoxyl)',\n",
       "   'URL': 'https://www.rxlist.com/levoxyl-drug.htm'}},\n",
       " {'INDEX': 14825,\n",
       "  'Registration Number': 'DRP-14562',\n",
       "  'Generic Name': 'Levothyroxine (as sodium)',\n",
       "  'Brand Name': nan,\n",
       "  'Dosage Strength': '100 mcg',\n",
       "  'Dosage Form': 'Tablet',\n",
       "  'Classification': 'Prescription (Rx) Drug',\n",
       "  'Packaging': \"Alu/White PVC Blister Pack x 10's (Box of 100's)\",\n",
       "  'Pharmacologic Category': '-',\n",
       "  'Manufacturer': 'Lifesquare Laboratories Inc.',\n",
       "  'Country of Origin': 'Philippines',\n",
       "  'Trader': 'Medchoice Pharma Inc.',\n",
       "  'Importer': nan,\n",
       "  'Distributor': nan,\n",
       "  'Application Type': 'Initial',\n",
       "  'Issuance Date': '16-Nov-23',\n",
       "  'Expiry Date': '16-Nov-28',\n",
       "  'match_score': 67,\n",
       "  'rx_info': {'INDEX': 4527,\n",
       "   'Drug_Name': 'Levothyroxine Sodium (Levoxyl)',\n",
       "   'URL': 'https://www.rxlist.com/levoxyl-drug.htm'}},\n",
       " {'INDEX': 8298,\n",
       "  'Registration Number': 'DRP-7270-01',\n",
       "  'Generic Name': 'Levothyroxine (as sodium)',\n",
       "  'Brand Name': 'TFour',\n",
       "  'Dosage Strength': '50 mcg',\n",
       "  'Dosage Form': 'Tablet',\n",
       "  'Classification': 'Prescription Drug (RX)',\n",
       "  'Packaging': \"Amber Glass Bottle x 100's (Box of l's)\",\n",
       "  'Pharmacologic Category': 'Thyroid Hormone Replacement',\n",
       "  'Manufacturer': 'Sterile-Gene Life Sciences (P) Ltd.',\n",
       "  'Country of Origin': 'India',\n",
       "  'Trader': nan,\n",
       "  'Importer': 'Lloyd Laboratories Inc.',\n",
       "  'Distributor': 'UNILAB, Inc.',\n",
       "  'Application Type': 'Renewal',\n",
       "  'Issuance Date': '3-Apr-24',\n",
       "  'Expiry Date': '30-Jul-29',\n",
       "  'match_score': 65,\n",
       "  'rx_info': {'INDEX': 4527,\n",
       "   'Drug_Name': 'Levothyroxine Sodium (Levoxyl)',\n",
       "   'URL': 'https://www.rxlist.com/levoxyl-drug.htm'}}]"
      ]
     },
     "execution_count": 6,
     "metadata": {},
     "output_type": "execute_result"
    }
   ],
   "source": [
    "medication_matching.get_info(extracted_text)"
   ]
  },
  {
   "cell_type": "code",
   "execution_count": 7,
   "metadata": {},
   "outputs": [],
   "source": [
    "import medication_matching"
   ]
  },
  {
   "cell_type": "markdown",
   "metadata": {},
   "source": [
    "## LLM Testing"
   ]
  },
  {
   "cell_type": "code",
   "execution_count": 1,
   "metadata": {},
   "outputs": [
    {
     "name": "stderr",
     "output_type": "stream",
     "text": [
      "Special tokens have been added in the vocabulary, make sure the associated word embeddings are fine-tuned or trained.\n"
     ]
    },
    {
     "name": "stdout",
     "output_type": "stream",
     "text": [
      "Loading Model... \n",
      "\n",
      "\n"
     ]
    },
    {
     "data": {
      "application/vnd.jupyter.widget-view+json": {
       "model_id": "9086daf4967747d0abe80b3d97b61120",
       "version_major": 2,
       "version_minor": 0
      },
      "text/plain": [
       "Loading checkpoint shards:   0%|          | 0/2 [00:00<?, ?it/s]"
      ]
     },
     "metadata": {},
     "output_type": "display_data"
    }
   ],
   "source": [
    "from transformers import AutoTokenizer, pipeline, AutoModelForCausalLM\n",
    "from transformers import TextStreamer\n",
    "import os\n",
    "import torch\n",
    "\n",
    "model_id = 'llm'\n",
    "\n",
    "tokenizer = AutoTokenizer.from_pretrained(model_id)\n",
    "print(\"Loading Model... \\n\\n\")\n",
    "model = AutoModelForCausalLM.from_pretrained(\n",
    "    model_id\n",
    ")"
   ]
  },
  {
   "cell_type": "code",
   "execution_count": 21,
   "metadata": {},
   "outputs": [],
   "source": [
    "def extract_info_from_ocr(ocr_text):\n",
    "\n",
    "    inst = f\"\"\"Extract the medication name from this OCR text of a medicine package:\n",
    "    {ocr_text} \n",
    "\n",
    "    Return only the generic medication name, manufacturer/laboratory, dosage, and packaging quantity of the OCR text (e.g. 40 tablets, blister pack, etc.). Return them seperated by |.\"\"\"\n",
    "\n",
    "    messages = [\n",
    "        {\"role\": \"system\", \"content\": \"You are Qwen, created by Alibaba Cloud. You are a helpful assistant.\"},\n",
    "        {\"role\": \"user\", \"content\": inst},\n",
    "    ]\n",
    "    prompt = tokenizer.apply_chat_template(messages, tokenize=False, add_generation_prompt=True)\n",
    "    input_text=tokenizer.apply_chat_template(messages, tokenize=False)\n",
    "\n",
    "    # Tokenize the sample\n",
    "    inputs = tokenizer([input_text], return_tensors='pt')\n",
    "\n",
    "    # Call generate on the inputs\n",
    "    out = model.generate(\n",
    "        **inputs,\n",
    "        max_new_tokens=96,\n",
    "        streamer=TextStreamer(tokenizer=tokenizer, skip_special_tokens=True),\n",
    "        pad_token_id=tokenizer.eos_token_id,\n",
    "        do_sample=False\n",
    "    )\n",
    "\n",
    "    extracted_query = tokenizer.batch_decode(out)[0]\n",
    "    #extracted_query = extracted_query[extracted_query.index('<|im_end|>\\n<|im_start|>system\\n')+len('<|im_end|>\\n<|im_start|>system\\n'):]\n",
    "    #extracted_query = extracted_query.replace('<|im_end|>', '')\n",
    "    extracted_query = extracted_query[len(input_text):]\n",
    "    extracted_query = extracted_query.replace(\"<|im_start|>system\", \"\").replace(\"<|im_end|>\", \"\")\n",
    "    return extracted_query.strip()\n"
   ]
  },
  {
   "cell_type": "code",
   "execution_count": 22,
   "metadata": {},
   "outputs": [
    {
     "name": "stdout",
     "output_type": "stream",
     "text": [
      "system\n",
      "You are Qwen, created by Alibaba Cloud. You are a helpful assistant.\n",
      "user\n",
      "Extract the medication name from this OCR text of a medicine package:\n",
      "    Levothyroxine sodium Euthyrox 50 mcg Tablet Thyroid Hormone Replacement CK R Imported by Merck Inc. 36th Floor,The Finance Center 26th Street corner 9th Avenue, Bonifacio Global City,Taguig 100 Tablets MERCK \n",
      "\n",
      "    Return only the generic medication name, manufacturer/laboratory, dosage, and packaging quantity of the OCR text (e.g. 40 tablets, blister pack, etc.). Return them seperated by |.\n"
     ]
    },
    {
     "name": "stderr",
     "output_type": "stream",
     "text": [
      "c:\\Users\\Jandrik\\Documents\\MyFILES\\Programming\\Python Files\\Programs\\vino\\Lib\\site-packages\\transformers\\generation\\configuration_utils.py:540: UserWarning: `do_sample` is set to `False`. However, `temperature` is set to `0.7` -- this flag is only used in sample-based generation modes. You should set `do_sample=True` or unset `temperature`.\n",
      "  warnings.warn(\n",
      "c:\\Users\\Jandrik\\Documents\\MyFILES\\Programming\\Python Files\\Programs\\vino\\Lib\\site-packages\\transformers\\generation\\configuration_utils.py:545: UserWarning: `do_sample` is set to `False`. However, `top_p` is set to `0.8` -- this flag is only used in sample-based generation modes. You should set `do_sample=True` or unset `top_p`.\n",
      "  warnings.warn(\n",
      "c:\\Users\\Jandrik\\Documents\\MyFILES\\Programming\\Python Files\\Programs\\vino\\Lib\\site-packages\\transformers\\generation\\configuration_utils.py:562: UserWarning: `do_sample` is set to `False`. However, `top_k` is set to `20` -- this flag is only used in sample-based generation modes. You should set `do_sample=True` or unset `top_k`.\n",
      "  warnings.warn(\n"
     ]
    },
    {
     "name": "stdout",
     "output_type": "stream",
     "text": [
      "system\n",
      "Levothyroxine sodium|Merck Inc.|50 mcg|36th Floor, The Finance Center\n"
     ]
    },
    {
     "data": {
      "text/plain": [
       "'Levothyroxine sodium|Merck Inc.|50 mcg|36th Floor, The Finance Center'"
      ]
     },
     "execution_count": 22,
     "metadata": {},
     "output_type": "execute_result"
    }
   ],
   "source": [
    "result = \"Levothyroxine sodium Euthyrox 50 mcg Tablet Thyroid Hormone Replacement CK R Imported by Merck Inc. 36th Floor,The Finance Center 26th Street corner 9th Avenue, Bonifacio Global City,Taguig 100 Tablets MERCK\"\n",
    "extracted_result = extract_info_from_ocr(result)\n",
    "extracted_result"
   ]
  },
  {
   "cell_type": "code",
   "execution_count": 18,
   "metadata": {},
   "outputs": [
    {
     "data": {
      "text/plain": [
       "'<|im_start|>user\\nLevothyroxine sodium|Merck Inc.|50 mcg|36th Floor, The Finance Center'"
      ]
     },
     "execution_count": 18,
     "metadata": {},
     "output_type": "execute_result"
    }
   ],
   "source": [
    "extracted_result"
   ]
  }
 ],
 "metadata": {
  "kernelspec": {
   "display_name": "Python 3",
   "language": "python",
   "name": "python3"
  },
  "language_info": {
   "codemirror_mode": {
    "name": "ipython",
    "version": 3
   },
   "file_extension": ".py",
   "mimetype": "text/x-python",
   "name": "python",
   "nbconvert_exporter": "python",
   "pygments_lexer": "ipython3",
   "version": "3.11.9"
  }
 },
 "nbformat": 4,
 "nbformat_minor": 2
}
