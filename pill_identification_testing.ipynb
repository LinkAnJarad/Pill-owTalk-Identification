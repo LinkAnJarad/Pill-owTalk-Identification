{
 "cells": [
  {
   "cell_type": "code",
   "execution_count": 1,
   "id": "f3c1d983",
   "metadata": {},
   "outputs": [],
   "source": [
    "import torch\n",
    "from torch import nn\n",
    "import timm\n",
    "from torchvision import transforms\n",
    "import pickle\n",
    "import torch.nn.functional as F"
   ]
  },
  {
   "cell_type": "code",
   "execution_count": 2,
   "id": "40590c4d",
   "metadata": {},
   "outputs": [],
   "source": [
    "with open('pill_model/traintestsplit.pkl', 'rb') as splits:\n",
    "    traintestsplit = pickle.load(splits)\n",
    "\n",
    "train_paths = traintestsplit['train_paths']\n",
    "train_labels = traintestsplit['train_labels']\n",
    "test_paths = traintestsplit['test_paths']\n",
    "test_labels = traintestsplit['test_labels']\n",
    "class_to_label = traintestsplit['class_to_label']\n",
    "label_to_class = {class_to_label[c]: c for c in class_to_label}"
   ]
  },
  {
   "cell_type": "code",
   "execution_count": 85,
   "id": "b6a62c60",
   "metadata": {},
   "outputs": [
    {
     "data": {
      "text/plain": [
       "{'Aciclovir_Herpex_800_mg': 0,\n",
       " 'Ascorbic_Acid_BewellC': 1,\n",
       " 'Azithromycin_as_dihydrate_Zithromax': 2,\n",
       " 'Carbocisteine_Marluxyn': 3,\n",
       " 'Carbocisteine_Solmux': 4,\n",
       " 'DoloNeurobion_3B': 5,\n",
       " 'Iron__Pyridoxine__Cyanacobalamin__Folic_Acid_Hemarate': 6,\n",
       " 'KremilS': 7,\n",
       " 'Loperamide_Hydrochloride_Diatabs': 8,\n",
       " 'Loratadine_Allerta': 9,\n",
       " 'Loratadine_Claritin': 10,\n",
       " 'Losartan_Potassium_Medzart': 11,\n",
       " 'MX3': 12,\n",
       " 'Meclizine_Hydrochloride_Bonamine': 13,\n",
       " 'Mefenamic_Acid_Myrefen': 14,\n",
       " 'Montelukast_as_sodium__Levocetirizine_hydrochloride_Allerkast': 15,\n",
       " 'Multivatimins__Minerals_Centrum_Advance': 16,\n",
       " 'Naproxen_Sodium_Skelan_550': 17,\n",
       " 'Paracetamol_Biogesic': 18,\n",
       " 'Paracetamol_Tempaid': 19,\n",
       " 'Paracetamol_Tempra': 20,\n",
       " 'Phenylephrine_Hydrochloride__Chlorphenamine_Maleate__Paracetamol_Bioflu': 21,\n",
       " 'Rosuvastatin_Rosusaph10': 22,\n",
       " 'Sambong_Leaf_Uricare_500mg': 23,\n",
       " 'Sinecod_Forte': 24,\n",
       " 'Sodium_Ascorbate__Zinc_ImmunPro': 25,\n",
       " 'Vitex_Negundo_L_Lagundi_Leaf_Ascof_Forte': 26,\n",
       " 'Wild_Alaskan_Fish_Oil_1400_mg': 27}"
      ]
     },
     "execution_count": 85,
     "metadata": {},
     "output_type": "execute_result"
    }
   ],
   "source": [
    "class_to_label"
   ]
  },
  {
   "cell_type": "code",
   "execution_count": 87,
   "id": "85dbe78c",
   "metadata": {},
   "outputs": [],
   "source": [
    "import fuzzywuzzy"
   ]
  },
  {
   "cell_type": "code",
   "execution_count": null,
   "id": "794d14d1",
   "metadata": {},
   "outputs": [],
   "source": [
    "# pd_drug_names = list(drug_list['Name'])\n",
    "# c2l_names = list(class_to_label.keys())\n",
    "\n",
    "# from fuzzywuzzy import process\n",
    "\n",
    "# def fuzzy_match_lists(reference_list, query_list, threshold=80):\n",
    "#     matched_list = []\n",
    "#     for query in query_list:\n",
    "#         match, score = process.extractOne(query, reference_list)\n",
    "#         if score >= threshold:\n",
    "#             matched_list.append(match)\n",
    "#         else:\n",
    "#             matched_list.append(None)\n",
    "#     return matched_list\n",
    "\n",
    "# matched_names = fuzzy_match_lists(c2l_names, pd_drug_names, 70)"
   ]
  },
  {
   "cell_type": "code",
   "execution_count": 96,
   "id": "00b191cb",
   "metadata": {},
   "outputs": [],
   "source": [
    "# for i in range(len(matched_names)):\n",
    "#     print(matched_names[i] + ' === ' + pd_drug_names[i])"
   ]
  },
  {
   "cell_type": "code",
   "execution_count": 27,
   "id": "0a500fac",
   "metadata": {},
   "outputs": [],
   "source": [
    "base_transform = transforms.Compose([\n",
    "    transforms.Resize((512, 512)),\n",
    "    transforms.CenterCrop(224),\n",
    "    transforms.ToTensor(),\n",
    "    transforms.Normalize(mean=[0.485, 0.456, 0.406], \n",
    "                         std=[0.229, 0.224, 0.225])\n",
    "])"
   ]
  },
  {
   "cell_type": "code",
   "execution_count": 4,
   "id": "08bd48a8",
   "metadata": {},
   "outputs": [],
   "source": [
    "class ContrastiveClassifier(nn.Module):\n",
    "    def __init__(self, embedding_dim, num_classes):\n",
    "        super().__init__()\n",
    "\n",
    "        self.encoder = timm.create_model('convnextv2_nano', pretrained=False)\n",
    "    \n",
    "        self.encoder.head.fc = nn.Identity()\n",
    "        \n",
    "        self.classifier_head = nn.Sequential(\n",
    "            nn.Linear(640, embedding_dim),\n",
    "            nn.LayerNorm(embedding_dim, eps=1e-05, elementwise_affine=True),\n",
    "            nn.SiLU(),\n",
    "            nn.Dropout(0.1),\n",
    "            nn.Linear(embedding_dim, num_classes, bias=True)  # Output contrastive embedding\n",
    "        )\n",
    "        self.projection_head = nn.Sequential(\n",
    "            nn.Linear(640, embedding_dim),\n",
    "            nn.LayerNorm(embedding_dim, eps=1e-05, elementwise_affine=True),\n",
    "            nn.SiLU(),\n",
    "            nn.Dropout(0.1),\n",
    "            nn.Linear(embedding_dim, embedding_dim, bias=True)  # Output contrastive embedding\n",
    "        )\n",
    "\n",
    "    def forward(self, x):\n",
    "        features = self.encoder(x)\n",
    "        embeddings = self.projection_head(features)\n",
    "        logits = self.classifier_head(features)\n",
    "        return embeddings, logits"
   ]
  },
  {
   "cell_type": "code",
   "execution_count": 5,
   "id": "de5ac873",
   "metadata": {},
   "outputs": [],
   "source": [
    "OUT_FEATURES = 512\n",
    "num_classes = 28\n",
    "model = ContrastiveClassifier(OUT_FEATURES, num_classes)"
   ]
  },
  {
   "cell_type": "code",
   "execution_count": 6,
   "id": "82381a8e",
   "metadata": {},
   "outputs": [
    {
     "name": "stdout",
     "output_type": "stream",
     "text": [
      "Loaded\n"
     ]
    }
   ],
   "source": [
    "PATH = 'pill_model/model_last.pt'\n",
    "state_dict = torch.load(PATH, weights_only=False, map_location='cpu')\n",
    "model.load_state_dict(state_dict['model_state_dict'])\n",
    "model.eval()\n",
    "print(\"Loaded\")"
   ]
  },
  {
   "cell_type": "code",
   "execution_count": 7,
   "id": "221b4cd4",
   "metadata": {},
   "outputs": [
    {
     "name": "stderr",
     "output_type": "stream",
     "text": [
      "C:\\Users\\Jandrik\\AppData\\Local\\Temp\\ipykernel_12524\\2765179869.py:1: FutureWarning: You are using `torch.load` with `weights_only=False` (the current default value), which uses the default pickle module implicitly. It is possible to construct malicious pickle data which will execute arbitrary code during unpickling (See https://github.com/pytorch/pytorch/blob/main/SECURITY.md#untrusted-models for more details). In a future release, the default value for `weights_only` will be flipped to `True`. This limits the functions that could be executed during unpickling. Arbitrary objects will no longer be allowed to be loaded via this mode unless they are explicitly allowlisted by the user via `torch.serialization.add_safe_globals`. We recommend you start setting `weights_only=True` for any use case where you don't have full control of the loaded file. Please open an issue on GitHub for any issues related to this experimental feature.\n",
      "  support_set = torch.load('pill_model/support_embeddings.pt', map_location='cpu')\n"
     ]
    }
   ],
   "source": [
    "support_set = torch.load('pill_model/support_embeddings.pt', map_location='cpu')\n",
    "mean_embeddings = support_set['mean_embeddings']\n",
    "support_embeddings = torch.vstack(list(mean_embeddings.values()))\n",
    "labels = list(mean_embeddings.keys())"
   ]
  },
  {
   "cell_type": "code",
   "execution_count": 8,
   "id": "1f61f5a5",
   "metadata": {},
   "outputs": [
    {
     "data": {
      "text/plain": [
       "[1, 16, 7]"
      ]
     },
     "execution_count": 8,
     "metadata": {},
     "output_type": "execute_result"
    }
   ],
   "source": [
    "embedding = torch.randn(1, 512)\n",
    "scores = F.cosine_similarity(support_embeddings, embedding)\n",
    "top_values, top_indices = scores.topk(3)\n",
    "top_labels = [labels[i] for i in top_indices]\n",
    "top_labels"
   ]
  },
  {
   "cell_type": "code",
   "execution_count": 54,
   "id": "9cf38f04",
   "metadata": {},
   "outputs": [
    {
     "data": {
      "text/plain": [
       "'2.4.0+cpu'"
      ]
     },
     "execution_count": 54,
     "metadata": {},
     "output_type": "execute_result"
    }
   ],
   "source": [
    "torch.__version__"
   ]
  },
  {
   "cell_type": "code",
   "execution_count": 17,
   "id": "6531ce03",
   "metadata": {},
   "outputs": [],
   "source": [
    "from dis_bg_remover import remove_background\n",
    "import cv2\n",
    "import numpy as np\n",
    "from PIL import Image"
   ]
  },
  {
   "cell_type": "code",
   "execution_count": 127,
   "id": "16e7d3a0",
   "metadata": {},
   "outputs": [],
   "source": [
    "bg_model_path = \"pill_model/isnet_dis.onnx\"\n",
    "input_img_path = 'test_pills\\LoratadineClaritin.jpg'\n",
    "\n",
    "def preprocess_image(input_img_path):\n",
    "    img, mask = remove_background(bg_model_path, input_img_path)\n",
    "                    \n",
    "    # Handle potential differences in dimensions\n",
    "    if img.shape[2] == 4:  # BGRA image\n",
    "        img = cv2.cvtColor(img, cv2.COLOR_BGR2RGB)  # Convert to BGR\n",
    "\n",
    "    # Ensure mask is 2D\n",
    "    if len(mask.shape) > 2:\n",
    "        mask = mask[:,:,0]  # Take first channel if mask has multiple channels\n",
    "\n",
    "    bg_color = 128\n",
    "    # Create gray background\n",
    "    h, w = img.shape[:2]\n",
    "    gray_bg = np.ones((h, w, 3), dtype=np.uint8) * np.array(bg_color, dtype=np.uint8)\n",
    "\n",
    "    # Convert binary mask to 3-channel mask for multiplication\n",
    "    # Ensure mask has values between 0 and 1\n",
    "    mask = mask.astype(np.float32) / 255.0 if np.max(mask) > 1 else mask.astype(np.float32)\n",
    "    mask_3channel = np.stack([mask, mask, mask], axis=2)\n",
    "    # Blend foreground with gray background using the mask\n",
    "    result = (img * mask_3channel + gray_bg * (1 - mask_3channel)).astype(np.uint8)\n",
    "    result = Image.fromarray(result)\n",
    "\n",
    "    return result\n",
    "\n",
    "@torch.no_grad()\n",
    "def predict(image):\n",
    "    preprocessed_image_tensor = base_transform(image).unsqueeze(0)\n",
    "    pred_embedding, _ = model(preprocessed_image_tensor)\n",
    "\n",
    "    scores = F.cosine_similarity(support_embeddings, pred_embedding)\n",
    "    top_values, top_indices = scores.topk(3)\n",
    "    top_labels = [labels[i] for i in top_indices]\n",
    "    top_predictions = [label_to_class[i] for i in top_labels]\n",
    "    return top_predictions, [round(i, 2) for i in top_values.numpy().tolist()]\n"
   ]
  },
  {
   "cell_type": "code",
   "execution_count": 140,
   "id": "273d1311",
   "metadata": {},
   "outputs": [
    {
     "data": {
      "text/plain": [
       "['Ascorbic_Acid_BewellC', 'MX3', 'Carbocisteine_Marluxyn']"
      ]
     },
     "execution_count": 140,
     "metadata": {},
     "output_type": "execute_result"
    }
   ],
   "source": [
    "image = preprocess_image('test_pills/Bewell-C.jpg')\n",
    "predictions, scores = predict(image)\n",
    "predictions"
   ]
  },
  {
   "cell_type": "code",
   "execution_count": 110,
   "id": "62378339",
   "metadata": {},
   "outputs": [],
   "source": [
    "import pandas as pd\n",
    "\n",
    "fda_df = pd.read_csv('FDA_ALL.csv')\n",
    "drug_list = pd.read_csv(\"Medications List Clean.csv\")"
   ]
  },
  {
   "cell_type": "code",
   "execution_count": 148,
   "id": "de35c684",
   "metadata": {},
   "outputs": [
    {
     "data": {
      "text/html": [
       "<div>\n",
       "<style scoped>\n",
       "    .dataframe tbody tr th:only-of-type {\n",
       "        vertical-align: middle;\n",
       "    }\n",
       "\n",
       "    .dataframe tbody tr th {\n",
       "        vertical-align: top;\n",
       "    }\n",
       "\n",
       "    .dataframe thead th {\n",
       "        text-align: right;\n",
       "    }\n",
       "</style>\n",
       "<table border=\"1\" class=\"dataframe\">\n",
       "  <thead>\n",
       "    <tr style=\"text-align: right;\">\n",
       "      <th></th>\n",
       "      <th>INDEX</th>\n",
       "      <th>Registration Number</th>\n",
       "      <th>Generic Name</th>\n",
       "      <th>Brand Name</th>\n",
       "      <th>Dosage Strength</th>\n",
       "      <th>Dosage Form</th>\n",
       "      <th>Classification</th>\n",
       "      <th>Packaging</th>\n",
       "      <th>Pharmacologic Category</th>\n",
       "      <th>Manufacturer</th>\n",
       "      <th>Country of Origin</th>\n",
       "      <th>Trader</th>\n",
       "      <th>Importer</th>\n",
       "      <th>Distributor</th>\n",
       "      <th>Application Type</th>\n",
       "      <th>Issuance Date</th>\n",
       "      <th>Expiry Date</th>\n",
       "    </tr>\n",
       "  </thead>\n",
       "  <tbody>\n",
       "  </tbody>\n",
       "</table>\n",
       "</div>"
      ],
      "text/plain": [
       "Empty DataFrame\n",
       "Columns: [INDEX, Registration Number, Generic Name, Brand Name, Dosage Strength, Dosage Form, Classification, Packaging, Pharmacologic Category, Manufacturer, Country of Origin, Trader, Importer, Distributor, Application Type, Issuance Date, Expiry Date]\n",
       "Index: []"
      ]
     },
     "execution_count": 148,
     "metadata": {},
     "output_type": "execute_result"
    }
   ],
   "source": [
    "list_entry = drug_list[drug_list['Name'] == 'MX3'].iloc[0]\n",
    "registration_num = list_entry['FDA Link'].split(\"=\")[-1]\n",
    "fda_df[fda_df['Registration Number'] == registration_num]"
   ]
  },
  {
   "cell_type": "code",
   "execution_count": 151,
   "id": "a6b9d7db",
   "metadata": {},
   "outputs": [],
   "source": [
    "def get_pill_info(drug_name):\n",
    "    list_entry = drug_list[drug_list['Name'] == drug_name].iloc[0]\n",
    "    if 'drug_products' not in list_entry['FDA Link']:\n",
    "        return 'Not Drug'\n",
    "    registration_num = list_entry['FDA Link'].split(\"=\")[-1]\n",
    "    pill_entry = fda_df[fda_df['Registration Number'] == registration_num].iloc[0]\n",
    "    pill_entry = dict(pill_entry)\n",
    "    return pill_entry\n"
   ]
  },
  {
   "cell_type": "code",
   "execution_count": 164,
   "id": "8eb7a79f",
   "metadata": {},
   "outputs": [],
   "source": [
    "from medication_matching import match_with_rx\n",
    "drugdata_df = pd.read_csv('drug_data.csv')"
   ]
  },
  {
   "cell_type": "code",
   "execution_count": null,
   "id": "42a9b3b4",
   "metadata": {},
   "outputs": [],
   "source": [
    "pill_pred_info = {'matches': []}\n",
    "for p, s in zip(predictions, scores):\n",
    "    pill_info = get_pill_info(p)\n",
    "    if pill_info == 'Not Drug':\n",
    "        continue\n",
    "    pill_info['Score'] = s\n",
    "    pill_pred_info['matches'].append(pill_info)\n",
    "    matches, _ = match_with_rx(pill_info['Generic Name'])\n",
    "    rx_info = dict(drugdata_df.iloc[matches[0]])\n",
    "    pill_info['rx_info'] = rx_info"
   ]
  },
  {
   "cell_type": "code",
   "execution_count": null,
   "id": "03a1d98f",
   "metadata": {},
   "outputs": [],
   "source": []
  },
  {
   "cell_type": "markdown",
   "id": "7e0cfc86",
   "metadata": {},
   "source": [
    "## API Testing"
   ]
  },
  {
   "cell_type": "code",
   "execution_count": 184,
   "id": "5fcba563",
   "metadata": {},
   "outputs": [
    {
     "data": {
      "text/plain": [
       "'10.4.0'"
      ]
     },
     "execution_count": 184,
     "metadata": {},
     "output_type": "execute_result"
    }
   ],
   "source": [
    "PIL.__version__"
   ]
  },
  {
   "cell_type": "code",
   "execution_count": 1,
   "id": "b436d860",
   "metadata": {},
   "outputs": [
    {
     "data": {
      "text/plain": [
       "{'matches': [{'INDEX': 2351,\n",
       "   'Registration Number': 'DRHR-1355',\n",
       "   'Generic Name': 'Ascorbic Acid',\n",
       "   'Brand Name': 'Bewell C',\n",
       "   'Dosage Strength': '500 mg',\n",
       "   'Dosage Form': 'Capsule',\n",
       "   'Classification': 'Household Remedy (HR)',\n",
       "   'Packaging': \"Alu-Red PVC Blister Pack x 10's (Box of 100's and 200's)\",\n",
       "   'Pharmacologic Category': '-',\n",
       "   'Manufacturer': 'Lejal Laboratories Inc.',\n",
       "   'Country of Origin': 'Philippines',\n",
       "   'Trader': 'Bewell Nutraceutical Corp.',\n",
       "   'Importer': None,\n",
       "   'Distributor': None,\n",
       "   'Application Type': '-',\n",
       "   'Issuance Date': '24-Jul-20',\n",
       "   'Expiry Date': '28-Aug-25',\n",
       "   'Score': 0.85,\n",
       "   'rx_info': {'Name': 'Ascorbic Acid (Vitamin C)',\n",
       "    'URL': 'https://www.rxlist.com/ascorbic-acid-drug.htm',\n",
       "    'What is': '\\nAscorbic Acid (vitamin C) is a water-soluble vitamin recommended for the prevention and treatment of scurvy. Ascorbic acid is available in generic form.',\n",
       "    'What Are Side Effects': '\\nCommon side effects of ascorbic acid include transient mild soreness at the site of intramuscular or subcutaneous injection. Too-rapid intravenous administration of the solution may cause temporary faintness or dizziness. Other side effects of ascorbic acid include:\\n\\nnausea, \\nvomiting, \\nheartburn, \\nstomach cramps, and \\nheadache.\\n',\n",
       "    'Children': 'No info',\n",
       "    'Dosage': '\\nThe average protective dose of Ascorbic Acid (vitamin C) for adults is 70 to 150 mg daily. In the presence of scurvy, doses of 300 mg to 1 g daily are recommended.',\n",
       "    'Interact': '\\nAscorbic acid may influence the intensity and duration of action of bishydroxycoumarin. Tell your doctor about any prescription or over-the-counter medicines you are taking, including vitamins, minerals, and herbal products.',\n",
       "    'Pregnancy': '\\nAscorbic Acid (vitamin \\r\\nC) injection should be given to a pregnant woman only if prescribed. It is also not known whether Ascorbic Acid (vitamin \\r\\nC) injection can cause fetal harm. Caution should be exercised when Ascorbic Acid (vitamin \\r\\nC) Injection is administered to a nursing woman. Consult your doctor if you are breastfeeding. '}},\n",
       "  {'INDEX': 6844,\n",
       "   'Registration Number': 'HRP-149',\n",
       "   'Generic Name': 'Carbocisteine',\n",
       "   'Brand Name': 'Marluxyn',\n",
       "   'Dosage Strength': '500mg',\n",
       "   'Dosage Form': 'Capsule',\n",
       "   'Classification': 'Household Remedy (HR)',\n",
       "   'Packaging': \"Blister Pack by 10's\",\n",
       "   'Pharmacologic Category': 'Mucolytic',\n",
       "   'Manufacturer': 'Lumar Pharmaceutical Laboratory',\n",
       "   'Country of Origin': 'Philippines',\n",
       "   'Trader': None,\n",
       "   'Importer': None,\n",
       "   'Distributor': None,\n",
       "   'Application Type': 'Automatic Renewal',\n",
       "   'Issuance Date': '21-Jul-22',\n",
       "   'Expiry Date': '3-Sep-27',\n",
       "   'Score': 0.27,\n",
       "   'rx_info': {'Name': 'Proscar (Finasteride)',\n",
       "    'URL': 'https://www.rxlist.com/proscar-drug.htm',\n",
       "    'What is': '\\nProscar (finasteride) is an inhibitor of steroid Type II 5a-reductase, that works by decreasing the amount of a natural body hormone dihydrotestosterone (DHT) that causes growth of the prostate, and is used to treat symptoms of benign prostatic hyperplasia (BPH) in men with an enlarged prostate. Proscar is available in generic form.',\n",
       "    'What Are Side Effects': '\\nCommon side effects of Proscar include\\nimpotence,loss of interest in sex,trouble having an orgasm,abnormal ejaculation,swelling in your hands or feet,swelling or tenderness in your breasts,dizziness,weakness,feeling faint,headache,runny nose, orskin rash.\\nIn some men, Proscar can decrease the amount of semen released during sex. This is harmless. Proscar may also increase hair growth. The sexual side effects of Proscar may continue after you stop taking it. Talk to your doctor if you have concerns about these side effects.\\nSeek medical care or call 911 at once if you have the following serious side effects:\\n\\nSerious eye symptoms such as sudden vision loss, blurred vision, tunnel vision, eye pain or swelling, or seeing halos around lights;\\nSerious heart symptoms such as fast, irregular, or pounding heartbeats; fluttering in your chest; shortness of breath; and sudden dizziness, lightheadedness, or passing out;\\nSevere headache, confusion, slurred speech, arm or leg weakness, trouble walking, loss of coordination, feeling unsteady, very stiff muscles, high fever, profuse sweating, or tremors.\\n\\nThis document does not contain all possible side effects and others may occur. Check with your physician for additional information about side effects.',\n",
       "    'Children': 'No info',\n",
       "    'Dosage': '\\nThe recommended dose of Proscar is one tablet (5 mg) taken once a day.',\n",
       "    'Interact': '\\nOther drugs may interact with Proscar. Tell your doctor all prescription and over-the-counter medications and supplements you use.',\n",
       "    'Pregnancy': '\\nProscar is not recommended for use in women and must not be used during pregnancy. This medication is not usually used in women. Therefore, it is unlikely to be used during pregnancy or breast-feeding.'}}]}"
      ]
     },
     "execution_count": 1,
     "metadata": {},
     "output_type": "execute_result"
    }
   ],
   "source": [
    "import requests, json\n",
    "\n",
    "url = \"https://fastapi-app-613987678533.asia-southeast1.run.app/upload-pill-image/\"\n",
    "files = {\"file\": open(\"test_pills/Bewell-C.jpg\", \"rb\")}\n",
    "\n",
    "response = requests.post(url, files=files)\n",
    "response.json()"
   ]
  },
  {
   "cell_type": "code",
   "execution_count": 177,
   "id": "0b659479",
   "metadata": {},
   "outputs": [
    {
     "data": {
      "text/plain": [
       "{'matches': [{'INDEX': 2351,\n",
       "   'Registration Number': 'DRHR-1355',\n",
       "   'Generic Name': 'Ascorbic Acid',\n",
       "   'Brand Name': 'Bewell C',\n",
       "   'Dosage Strength': '500 mg',\n",
       "   'Dosage Form': 'Capsule',\n",
       "   'Classification': 'Household Remedy (HR)',\n",
       "   'Packaging': \"Alu-Red PVC Blister Pack x 10's (Box of 100's and 200's)\",\n",
       "   'Pharmacologic Category': '-',\n",
       "   'Manufacturer': 'Lejal Laboratories Inc.',\n",
       "   'Country of Origin': 'Philippines',\n",
       "   'Trader': 'Bewell Nutraceutical Corp.',\n",
       "   'Importer': None,\n",
       "   'Distributor': None,\n",
       "   'Application Type': '-',\n",
       "   'Issuance Date': '24-Jul-20',\n",
       "   'Expiry Date': '28-Aug-25',\n",
       "   'Score': 0.85,\n",
       "   'rx_info': {'Name': 'Ascorbic Acid (Vitamin C)',\n",
       "    'URL': 'https://www.rxlist.com/ascorbic-acid-drug.htm',\n",
       "    'What is': '\\nAscorbic Acid (vitamin C) is a water-soluble vitamin recommended for the prevention and treatment of scurvy. Ascorbic acid is available in generic form.',\n",
       "    'What Are Side Effects': '\\nCommon side effects of ascorbic acid include transient mild soreness at the site of intramuscular or subcutaneous injection. Too-rapid intravenous administration of the solution may cause temporary faintness or dizziness. Other side effects of ascorbic acid include:\\n\\nnausea, \\nvomiting, \\nheartburn, \\nstomach cramps, and \\nheadache.\\n',\n",
       "    'Children': 'No info',\n",
       "    'Dosage': '\\nThe average protective dose of Ascorbic Acid (vitamin C) for adults is 70 to 150 mg daily. In the presence of scurvy, doses of 300 mg to 1 g daily are recommended.',\n",
       "    'Interact': '\\nAscorbic acid may influence the intensity and duration of action of bishydroxycoumarin. Tell your doctor about any prescription or over-the-counter medicines you are taking, including vitamins, minerals, and herbal products.',\n",
       "    'Pregnancy': '\\nAscorbic Acid (vitamin \\r\\nC) injection should be given to a pregnant woman only if prescribed. It is also not known whether Ascorbic Acid (vitamin \\r\\nC) injection can cause fetal harm. Caution should be exercised when Ascorbic Acid (vitamin \\r\\nC) Injection is administered to a nursing woman. Consult your doctor if you are breastfeeding. '}},\n",
       "  {'INDEX': 6844,\n",
       "   'Registration Number': 'HRP-149',\n",
       "   'Generic Name': 'Carbocisteine',\n",
       "   'Brand Name': 'Marluxyn',\n",
       "   'Dosage Strength': '500mg',\n",
       "   'Dosage Form': 'Capsule',\n",
       "   'Classification': 'Household Remedy (HR)',\n",
       "   'Packaging': \"Blister Pack by 10's\",\n",
       "   'Pharmacologic Category': 'Mucolytic',\n",
       "   'Manufacturer': 'Lumar Pharmaceutical Laboratory',\n",
       "   'Country of Origin': 'Philippines',\n",
       "   'Trader': None,\n",
       "   'Importer': None,\n",
       "   'Distributor': None,\n",
       "   'Application Type': 'Automatic Renewal',\n",
       "   'Issuance Date': '21-Jul-22',\n",
       "   'Expiry Date': '3-Sep-27',\n",
       "   'Score': 0.27,\n",
       "   'rx_info': {'Name': 'Carbocaine (Mepivacaine)',\n",
       "    'URL': 'https://www.rxlist.com/carbocaine-drug.htm',\n",
       "    'What is': '\\nCarbocaine (mepivacaine) is an anesthetic (numbing medicine) used as a local (in one area) anesthetic for an epidural or spinal block. Carbocaine is available in generic form.',\n",
       "    'What Are Side Effects': '\\nCommon side effects of Carbocaine include:\\n\\nnausea,\\nvomiting,\\nnervousness,\\ndizziness, or\\ndrowsiness\\n\\nTell your doctor if you experience signs of an allergic reaction to Carbocaine include hives, difficulty breathing, or swelling or puffiness of your face, lips, tongue, or throat.\\r\\n\\r\\nCarbocaine\\xa0may cause serious side effects including:\\n\\nhives,\\ndifficulty breathing,\\nswelling of your face, lips, tongue, or throat,\\nskin redness,\\nnausea,\\nvomiting,\\nsweating,\\nfeeling hot,\\nfast heartbeats,\\nsneezing,\\ndizziness,\\nfainting,\\nnumbness and tingling in your mouth or lips,\\nmetallic taste in your mouth,\\nringing in your ears,\\nblurred vision,\\nslurred speech,\\nheadache,\\nconfusion,\\ndepression,\\nsevere drowsiness,\\nlightheadedness,\\nslow heart rate,\\nweak pulse,\\nshallow breathing,\\nfever,\\nneck stiffness,\\nincreased sensitivity to light,\\ntremors or muscle twitching,\\nanxiety,\\nrestlessness,\\nongoing numbness,\\nweakness,\\nloss of movement in your legs or feet,\\nloss or bladder or bowel control,\\nloss of feeling in your lower stomach, groin, or genitals,\\npainful or difficult urination,\\nfast heart rate,\\nrapid breathing, and\\nfeeling hot\\n\\nGet medical help right away, if you have any of the symptoms listed above.\\nSeek medical care or call 911 at once if you have the following serious side effects:\\n\\nSerious eye symptoms such as sudden vision loss, blurred vision, tunnel vision, eye pain or swelling, or seeing halos around lights;\\nSerious heart symptoms such as fast, irregular, or pounding heartbeats; fluttering in your chest; shortness of breath; and sudden dizziness, lightheartedness, or passing out;\\nSevere headache, confusion, slurred speech, arm or leg weakness, trouble walking, loss of coordination, feeling unsteady, very stiff muscles, high fever, profuse sweating, or tremors.\\n\\nThis document does not contain all possible side effects and others may occur. Check with your physician for additional information about side effects.\\nDosage for Carbocaine\\nThe dose of Carbocaine varies with the anesthetic procedure, the area to be anesthetized, the vascularity of the tissues, the number of neuronal segments to be blocked, the depth of anesthesia and degree of muscle relaxation required, the duration of anesthesia desired, individual tolerance and the physical condition of the patient. The smallest dose and concentration required to produce the desired result should be administered.\\nWhat Drugs, Substances, or Supplements Interact with Carbocaine?\\nCarbocaine may interact with cold medicine, diet pills, stimulants, medication to treat ADHD, medicine to treat psychiatric disorders, medication to treat nausea and vomiting, ergot medicine, MAO inhibitors, or antidepressants. Tell your doctor all medications you use.\\nCarbocaine During Pregnancy or Breastfeeding\\nDuring pregnancy, Carbocaine should be used only if prescribed. It may be harmful to a fetus. It is unknown if this drug passes into breast milk or if it could harm a nursing baby. Consult your doctor before breastfeeding.\\nAdditional Information\\nOur Carbocaine (mepivacaine) Drug Center provides a comprehensive view of available drug information as well as related drugs, user reviews, supplements, and diseases and conditions articles.\\r\\n',\n",
       "    'Children': 'No info',\n",
       "    'Dosage': 'No info',\n",
       "    'Interact': 'No info',\n",
       "    'Pregnancy': 'No info'}}]}"
      ]
     },
     "execution_count": 177,
     "metadata": {},
     "output_type": "execute_result"
    }
   ],
   "source": [
    "import requests, json\n",
    "\n",
    "url = \"http://192.168.254.118:8000/upload-pill-image/\"\n",
    "files = {\"file\": open(\"test_pills/Bewell-C.jpg\", \"rb\")}\n",
    "\n",
    "response = requests.post(url, files=files)\n",
    "response.json()"
   ]
  }
 ],
 "metadata": {
  "kernelspec": {
   "display_name": "Python 3",
   "language": "python",
   "name": "python3"
  },
  "language_info": {
   "codemirror_mode": {
    "name": "ipython",
    "version": 3
   },
   "file_extension": ".py",
   "mimetype": "text/x-python",
   "name": "python",
   "nbconvert_exporter": "python",
   "pygments_lexer": "ipython3",
   "version": "3.11.9"
  }
 },
 "nbformat": 4,
 "nbformat_minor": 5
}
