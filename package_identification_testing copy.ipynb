{
 "cells": [
  {
   "cell_type": "code",
   "execution_count": 29,
   "metadata": {},
   "outputs": [],
   "source": [
    "from PIL import Image\n",
    "from fuzzywuzzy import fuzz\n",
    "from tqdm import tqdm\n",
    "import os\n",
    "from medication_matching import get_info\n",
    "import ocr_module\n",
    "import random\n",
    "\n",
    "#Image.open('test_images/test4.jpg').resize((384, 384))"
   ]
  },
  {
   "cell_type": "code",
   "execution_count": 56,
   "metadata": {},
   "outputs": [],
   "source": [
    "image_paths = ['MedsForAll_Images/' + i for i in os.listdir('MedsForAll_Images')]\n",
    "image_paths = [i for i in image_paths if 'tablet' in i.lower()]\n",
    "\n",
    "test_paths = random.sample(image_paths, 100)"
   ]
  },
  {
   "cell_type": "code",
   "execution_count": 69,
   "metadata": {},
   "outputs": [
    {
     "name": "stderr",
     "output_type": "stream",
     "text": [
      "  0%|          | 0/100 [00:00<?, ?it/s]"
     ]
    },
    {
     "name": "stdout",
     "output_type": "stream",
     "text": [
      "[2025/04/24 11:19:29] ppocr DEBUG: dt_boxes num : 22, elapsed : 0.12370657920837402\n",
      "[2025/04/24 11:19:29] ppocr DEBUG: cls num  : 22, elapsed : 0.18153166770935059\n",
      "[2025/04/24 11:19:31] ppocr DEBUG: rec_res num  : 22, elapsed : 2.1292591094970703\n"
     ]
    },
    {
     "name": "stderr",
     "output_type": "stream",
     "text": [
      "  1%|          | 1/100 [00:04<07:46,  4.72s/it]"
     ]
    },
    {
     "name": "stdout",
     "output_type": "stream",
     "text": [
      "[2025/04/24 11:19:34] ppocr DEBUG: dt_boxes num : 14, elapsed : 0.8011467456817627\n",
      "[2025/04/24 11:19:34] ppocr DEBUG: cls num  : 14, elapsed : 0.06499719619750977\n",
      "[2025/04/24 11:19:37] ppocr DEBUG: rec_res num  : 14, elapsed : 2.3979501724243164\n"
     ]
    },
    {
     "name": "stderr",
     "output_type": "stream",
     "text": [
      "  2%|▏         | 2/100 [00:13<11:43,  7.18s/it]"
     ]
    },
    {
     "name": "stdout",
     "output_type": "stream",
     "text": [
      "[2025/04/24 11:19:43] ppocr DEBUG: dt_boxes num : 15, elapsed : 0.363619327545166\n",
      "[2025/04/24 11:19:43] ppocr DEBUG: cls num  : 15, elapsed : 0.23947811126708984\n",
      "[2025/04/24 11:19:45] ppocr DEBUG: rec_res num  : 15, elapsed : 2.1666433811187744\n"
     ]
    },
    {
     "name": "stderr",
     "output_type": "stream",
     "text": [
      "  3%|▎         | 3/100 [00:19<10:37,  6.57s/it]"
     ]
    },
    {
     "name": "stdout",
     "output_type": "stream",
     "text": [
      "[2025/04/24 11:19:49] ppocr DEBUG: dt_boxes num : 30, elapsed : 0.9645378589630127\n",
      "[2025/04/24 11:19:50] ppocr DEBUG: cls num  : 30, elapsed : 0.27140378952026367\n",
      "[2025/04/24 11:19:53] ppocr DEBUG: rec_res num  : 30, elapsed : 3.553914785385132\n"
     ]
    },
    {
     "name": "stderr",
     "output_type": "stream",
     "text": [
      "  4%|▍         | 4/100 [00:27<11:17,  7.06s/it]"
     ]
    },
    {
     "name": "stdout",
     "output_type": "stream",
     "text": [
      "[2025/04/24 11:19:56] ppocr DEBUG: dt_boxes num : 17, elapsed : 0.1489555835723877\n",
      "[2025/04/24 11:19:57] ppocr DEBUG: cls num  : 17, elapsed : 0.27133703231811523\n",
      "[2025/04/24 11:19:59] ppocr DEBUG: rec_res num  : 17, elapsed : 2.5016627311706543\n"
     ]
    },
    {
     "name": "stderr",
     "output_type": "stream",
     "text": [
      "  5%|▌         | 5/100 [00:33<10:26,  6.59s/it]"
     ]
    },
    {
     "name": "stdout",
     "output_type": "stream",
     "text": [
      "[2025/04/24 11:20:02] ppocr DEBUG: dt_boxes num : 17, elapsed : 0.14090609550476074\n",
      "[2025/04/24 11:20:02] ppocr DEBUG: cls num  : 17, elapsed : 0.09218668937683105\n",
      "[2025/04/24 11:20:04] ppocr DEBUG: rec_res num  : 17, elapsed : 2.263897657394409\n"
     ]
    },
    {
     "name": "stderr",
     "output_type": "stream",
     "text": [
      "  6%|▌         | 6/100 [00:38<09:38,  6.16s/it]"
     ]
    },
    {
     "name": "stdout",
     "output_type": "stream",
     "text": [
      "[2025/04/24 11:20:08] ppocr DEBUG: dt_boxes num : 16, elapsed : 0.3485703468322754\n",
      "[2025/04/24 11:20:08] ppocr DEBUG: cls num  : 16, elapsed : 0.27108144760131836\n",
      "[2025/04/24 11:20:10] ppocr DEBUG: rec_res num  : 16, elapsed : 2.3907251358032227\n"
     ]
    },
    {
     "name": "stderr",
     "output_type": "stream",
     "text": [
      "  7%|▋         | 7/100 [00:45<09:59,  6.44s/it]"
     ]
    },
    {
     "name": "stdout",
     "output_type": "stream",
     "text": [
      "[2025/04/24 11:20:15] ppocr DEBUG: dt_boxes num : 15, elapsed : 1.1507294178009033\n",
      "[2025/04/24 11:20:16] ppocr DEBUG: cls num  : 15, elapsed : 0.3357372283935547\n",
      "[2025/04/24 11:20:20] ppocr DEBUG: rec_res num  : 15, elapsed : 4.525049686431885\n"
     ]
    },
    {
     "name": "stderr",
     "output_type": "stream",
     "text": [
      "  8%|▊         | 8/100 [00:57<12:47,  8.34s/it]"
     ]
    },
    {
     "name": "stdout",
     "output_type": "stream",
     "text": [
      "[2025/04/24 11:20:27] ppocr DEBUG: dt_boxes num : 26, elapsed : 0.275601863861084\n",
      "[2025/04/24 11:20:27] ppocr DEBUG: cls num  : 26, elapsed : 0.4959096908569336\n",
      "[2025/04/24 11:20:32] ppocr DEBUG: rec_res num  : 26, elapsed : 4.809664011001587\n"
     ]
    },
    {
     "name": "stderr",
     "output_type": "stream",
     "text": [
      "  9%|▉         | 9/100 [01:09<14:01,  9.25s/it]"
     ]
    },
    {
     "name": "stdout",
     "output_type": "stream",
     "text": [
      "[2025/04/24 11:20:38] ppocr DEBUG: dt_boxes num : 15, elapsed : 0.33745574951171875\n",
      "[2025/04/24 11:20:39] ppocr DEBUG: cls num  : 15, elapsed : 0.273984432220459\n",
      "[2025/04/24 11:20:43] ppocr DEBUG: rec_res num  : 15, elapsed : 4.072524785995483\n"
     ]
    },
    {
     "name": "stderr",
     "output_type": "stream",
     "text": [
      " 10%|█         | 10/100 [01:19<14:17,  9.53s/it]"
     ]
    },
    {
     "name": "stdout",
     "output_type": "stream",
     "text": [
      "[2025/04/24 11:20:48] ppocr DEBUG: dt_boxes num : 15, elapsed : 0.14352130889892578\n",
      "[2025/04/24 11:20:48] ppocr DEBUG: cls num  : 15, elapsed : 0.08051514625549316\n",
      "[2025/04/24 11:20:51] ppocr DEBUG: rec_res num  : 15, elapsed : 2.9059040546417236\n"
     ]
    },
    {
     "name": "stderr",
     "output_type": "stream",
     "text": [
      " 11%|█         | 11/100 [01:27<13:34,  9.15s/it]"
     ]
    },
    {
     "name": "stdout",
     "output_type": "stream",
     "text": [
      "[2025/04/24 11:20:58] ppocr DEBUG: dt_boxes num : 21, elapsed : 1.5148882865905762\n",
      "[2025/04/24 11:20:58] ppocr DEBUG: cls num  : 21, elapsed : 0.23053932189941406\n",
      "[2025/04/24 11:21:02] ppocr DEBUG: rec_res num  : 21, elapsed : 3.7979729175567627\n"
     ]
    },
    {
     "name": "stderr",
     "output_type": "stream",
     "text": [
      " 12%|█▏        | 12/100 [01:38<14:17,  9.74s/it]"
     ]
    },
    {
     "name": "stdout",
     "output_type": "stream",
     "text": [
      "[2025/04/24 11:21:08] ppocr DEBUG: dt_boxes num : 20, elapsed : 0.31429481506347656\n",
      "[2025/04/24 11:21:09] ppocr DEBUG: cls num  : 20, elapsed : 0.9489717483520508\n",
      "[2025/04/24 11:21:13] ppocr DEBUG: rec_res num  : 20, elapsed : 3.7558858394622803\n"
     ]
    },
    {
     "name": "stderr",
     "output_type": "stream",
     "text": [
      " 13%|█▎        | 13/100 [01:48<14:00,  9.66s/it]"
     ]
    },
    {
     "name": "stdout",
     "output_type": "stream",
     "text": [
      "[2025/04/24 11:21:18] ppocr DEBUG: dt_boxes num : 14, elapsed : 1.0434749126434326\n",
      "[2025/04/24 11:21:18] ppocr DEBUG: cls num  : 14, elapsed : 0.09621047973632812\n",
      "[2025/04/24 11:21:22] ppocr DEBUG: rec_res num  : 14, elapsed : 3.7589657306671143\n"
     ]
    },
    {
     "name": "stderr",
     "output_type": "stream",
     "text": [
      " 14%|█▍        | 14/100 [01:57<13:44,  9.59s/it]"
     ]
    },
    {
     "name": "stdout",
     "output_type": "stream",
     "text": [
      "[2025/04/24 11:21:28] ppocr DEBUG: dt_boxes num : 17, elapsed : 1.5057802200317383\n",
      "[2025/04/24 11:21:28] ppocr DEBUG: cls num  : 17, elapsed : 0.3009030818939209\n",
      "[2025/04/24 11:21:32] ppocr DEBUG: rec_res num  : 17, elapsed : 3.9135565757751465\n"
     ]
    },
    {
     "name": "stderr",
     "output_type": "stream",
     "text": [
      " 15%|█▌        | 15/100 [02:06<13:33,  9.57s/it]"
     ]
    },
    {
     "name": "stdout",
     "output_type": "stream",
     "text": [
      "[2025/04/24 11:21:36] ppocr DEBUG: dt_boxes num : 15, elapsed : 0.1189885139465332\n",
      "[2025/04/24 11:21:37] ppocr DEBUG: cls num  : 15, elapsed : 0.3850538730621338\n",
      "[2025/04/24 11:21:40] ppocr DEBUG: rec_res num  : 15, elapsed : 3.2366576194763184\n"
     ]
    },
    {
     "name": "stderr",
     "output_type": "stream",
     "text": [
      " 16%|█▌        | 16/100 [02:14<12:37,  9.02s/it]"
     ]
    },
    {
     "name": "stdout",
     "output_type": "stream",
     "text": [
      "[2025/04/24 11:21:44] ppocr DEBUG: dt_boxes num : 23, elapsed : 0.1285114288330078\n",
      "[2025/04/24 11:21:44] ppocr DEBUG: cls num  : 23, elapsed : 0.1045377254486084\n",
      "[2025/04/24 11:21:48] ppocr DEBUG: rec_res num  : 23, elapsed : 4.017861366271973\n"
     ]
    },
    {
     "name": "stderr",
     "output_type": "stream",
     "text": [
      " 17%|█▋        | 17/100 [02:25<13:04,  9.45s/it]"
     ]
    },
    {
     "name": "stdout",
     "output_type": "stream",
     "text": [
      "[2025/04/24 11:21:55] ppocr DEBUG: dt_boxes num : 16, elapsed : 0.8676660060882568\n",
      "[2025/04/24 11:21:56] ppocr DEBUG: cls num  : 16, elapsed : 0.6877448558807373\n",
      "[2025/04/24 11:22:01] ppocr DEBUG: rec_res num  : 16, elapsed : 5.525561094284058\n"
     ]
    },
    {
     "name": "stderr",
     "output_type": "stream",
     "text": [
      " 18%|█▊        | 18/100 [02:46<17:52, 13.08s/it]"
     ]
    },
    {
     "name": "stdout",
     "output_type": "stream",
     "text": [
      "[2025/04/24 11:22:17] ppocr DEBUG: dt_boxes num : 8, elapsed : 1.433283805847168\n",
      "[2025/04/24 11:22:18] ppocr DEBUG: cls num  : 8, elapsed : 0.5804061889648438\n",
      "[2025/04/24 11:22:19] ppocr DEBUG: rec_res num  : 8, elapsed : 1.5370852947235107\n"
     ]
    },
    {
     "name": "stderr",
     "output_type": "stream",
     "text": [
      " 19%|█▉        | 19/100 [02:55<16:02, 11.88s/it]"
     ]
    },
    {
     "name": "stdout",
     "output_type": "stream",
     "text": [
      "[2025/04/24 11:22:25] ppocr DEBUG: dt_boxes num : 22, elapsed : 0.14155077934265137\n",
      "[2025/04/24 11:22:25] ppocr DEBUG: cls num  : 22, elapsed : 0.10916352272033691\n",
      "[2025/04/24 11:22:29] ppocr DEBUG: rec_res num  : 22, elapsed : 4.075747966766357\n"
     ]
    },
    {
     "name": "stderr",
     "output_type": "stream",
     "text": [
      " 20%|██        | 20/100 [03:05<14:53, 11.17s/it]"
     ]
    },
    {
     "name": "stdout",
     "output_type": "stream",
     "text": [
      "[2025/04/24 11:22:36] ppocr DEBUG: dt_boxes num : 16, elapsed : 1.3179781436920166\n",
      "[2025/04/24 11:22:36] ppocr DEBUG: cls num  : 16, elapsed : 0.2538459300994873\n",
      "[2025/04/24 11:22:40] ppocr DEBUG: rec_res num  : 16, elapsed : 4.096776247024536\n"
     ]
    },
    {
     "name": "stderr",
     "output_type": "stream",
     "text": [
      " 21%|██        | 21/100 [03:17<14:54, 11.32s/it]"
     ]
    },
    {
     "name": "stdout",
     "output_type": "stream",
     "text": [
      "[2025/04/24 11:22:46] ppocr DEBUG: dt_boxes num : 13, elapsed : 0.19638800621032715\n",
      "[2025/04/24 11:22:47] ppocr DEBUG: cls num  : 13, elapsed : 0.4227430820465088\n",
      "[2025/04/24 11:22:50] ppocr DEBUG: rec_res num  : 13, elapsed : 3.0751006603240967\n"
     ]
    },
    {
     "name": "stderr",
     "output_type": "stream",
     "text": [
      " 22%|██▏       | 22/100 [03:27<14:26, 11.11s/it]"
     ]
    },
    {
     "name": "stdout",
     "output_type": "stream",
     "text": [
      "[2025/04/24 11:22:58] ppocr DEBUG: dt_boxes num : 10, elapsed : 1.3495957851409912\n",
      "[2025/04/24 11:22:58] ppocr DEBUG: cls num  : 10, elapsed : 0.20796942710876465\n",
      "[2025/04/24 11:23:01] ppocr DEBUG: rec_res num  : 10, elapsed : 3.054037570953369\n"
     ]
    },
    {
     "name": "stderr",
     "output_type": "stream",
     "text": [
      " 23%|██▎       | 23/100 [03:39<14:29, 11.29s/it]"
     ]
    },
    {
     "name": "stdout",
     "output_type": "stream",
     "text": [
      "[2025/04/24 11:23:10] ppocr DEBUG: dt_boxes num : 21, elapsed : 1.7941515445709229\n",
      "[2025/04/24 11:23:11] ppocr DEBUG: cls num  : 21, elapsed : 0.582770824432373\n",
      "[2025/04/24 11:23:16] ppocr DEBUG: rec_res num  : 21, elapsed : 4.88804292678833\n"
     ]
    },
    {
     "name": "stderr",
     "output_type": "stream",
     "text": [
      " 24%|██▍       | 24/100 [03:54<15:44, 12.43s/it]"
     ]
    },
    {
     "name": "stdout",
     "output_type": "stream",
     "text": [
      "[2025/04/24 11:23:25] ppocr DEBUG: dt_boxes num : 18, elapsed : 1.44520902633667\n",
      "[2025/04/24 11:23:25] ppocr DEBUG: cls num  : 18, elapsed : 0.1782848834991455\n",
      "[2025/04/24 11:23:29] ppocr DEBUG: rec_res num  : 18, elapsed : 4.2292163372039795\n"
     ]
    },
    {
     "name": "stderr",
     "output_type": "stream",
     "text": [
      " 25%|██▌       | 25/100 [04:06<15:30, 12.41s/it]"
     ]
    },
    {
     "name": "stdout",
     "output_type": "stream",
     "text": [
      "[2025/04/24 11:23:36] ppocr DEBUG: dt_boxes num : 20, elapsed : 0.25282907485961914\n",
      "[2025/04/24 11:23:36] ppocr DEBUG: cls num  : 20, elapsed : 0.3005797863006592\n",
      "[2025/04/24 11:23:41] ppocr DEBUG: rec_res num  : 20, elapsed : 4.768782138824463\n"
     ]
    },
    {
     "name": "stderr",
     "output_type": "stream",
     "text": [
      " 26%|██▌       | 26/100 [04:18<15:10, 12.31s/it]"
     ]
    },
    {
     "name": "stdout",
     "output_type": "stream",
     "text": [
      "[2025/04/24 11:23:49] ppocr DEBUG: dt_boxes num : 6, elapsed : 1.2526671886444092\n",
      "[2025/04/24 11:23:49] ppocr DEBUG: cls num  : 6, elapsed : 0.21448111534118652\n",
      "[2025/04/24 11:23:51] ppocr DEBUG: rec_res num  : 6, elapsed : 1.321676254272461\n"
     ]
    },
    {
     "name": "stderr",
     "output_type": "stream",
     "text": [
      " 27%|██▋       | 27/100 [04:25<12:47, 10.51s/it]"
     ]
    },
    {
     "name": "stdout",
     "output_type": "stream",
     "text": [
      "[2025/04/24 11:23:54] ppocr DEBUG: dt_boxes num : 17, elapsed : 0.13369154930114746\n",
      "[2025/04/24 11:23:55] ppocr DEBUG: cls num  : 17, elapsed : 0.2744572162628174\n",
      "[2025/04/24 11:23:58] ppocr DEBUG: rec_res num  : 17, elapsed : 3.3111774921417236\n"
     ]
    },
    {
     "name": "stderr",
     "output_type": "stream",
     "text": [
      " 28%|██▊       | 28/100 [04:33<11:56,  9.96s/it]"
     ]
    },
    {
     "name": "stdout",
     "output_type": "stream",
     "text": [
      "[2025/04/24 11:24:03] ppocr DEBUG: dt_boxes num : 13, elapsed : 0.22974610328674316\n",
      "[2025/04/24 11:24:04] ppocr DEBUG: cls num  : 13, elapsed : 0.4485163688659668\n",
      "[2025/04/24 11:24:07] ppocr DEBUG: rec_res num  : 13, elapsed : 2.846389055252075\n"
     ]
    },
    {
     "name": "stderr",
     "output_type": "stream",
     "text": [
      " 29%|██▉       | 29/100 [04:41<11:04,  9.36s/it]"
     ]
    },
    {
     "name": "stdout",
     "output_type": "stream",
     "text": [
      "[2025/04/24 11:24:11] ppocr DEBUG: dt_boxes num : 17, elapsed : 0.12959647178649902\n",
      "[2025/04/24 11:24:11] ppocr DEBUG: cls num  : 17, elapsed : 0.10292530059814453\n",
      "[2025/04/24 11:24:15] ppocr DEBUG: rec_res num  : 17, elapsed : 3.924001693725586\n"
     ]
    },
    {
     "name": "stderr",
     "output_type": "stream",
     "text": [
      " 30%|███       | 30/100 [04:55<12:21, 10.60s/it]"
     ]
    },
    {
     "name": "stdout",
     "output_type": "stream",
     "text": [
      "[2025/04/24 11:24:25] ppocr DEBUG: dt_boxes num : 9, elapsed : 0.44776463508605957\n",
      "[2025/04/24 11:24:25] ppocr DEBUG: cls num  : 9, elapsed : 0.4925954341888428\n",
      "[2025/04/24 11:24:28] ppocr DEBUG: rec_res num  : 9, elapsed : 2.851393461227417\n"
     ]
    },
    {
     "name": "stderr",
     "output_type": "stream",
     "text": [
      " 31%|███       | 31/100 [05:04<11:34, 10.06s/it]"
     ]
    },
    {
     "name": "stdout",
     "output_type": "stream",
     "text": [
      "[2025/04/24 11:24:33] ppocr DEBUG: dt_boxes num : 11, elapsed : 0.123931884765625\n",
      "[2025/04/24 11:24:33] ppocr DEBUG: cls num  : 11, elapsed : 0.1943800449371338\n",
      "[2025/04/24 11:24:36] ppocr DEBUG: rec_res num  : 11, elapsed : 2.420041084289551\n"
     ]
    },
    {
     "name": "stderr",
     "output_type": "stream",
     "text": [
      " 32%|███▏      | 32/100 [05:11<10:30,  9.27s/it]"
     ]
    },
    {
     "name": "stdout",
     "output_type": "stream",
     "text": [
      "[2025/04/24 11:24:42] ppocr DEBUG: dt_boxes num : 11, elapsed : 1.0509788990020752\n",
      "[2025/04/24 11:24:42] ppocr DEBUG: cls num  : 11, elapsed : 0.06181812286376953\n",
      "[2025/04/24 11:24:45] ppocr DEBUG: rec_res num  : 11, elapsed : 3.21004056930542\n"
     ]
    },
    {
     "name": "stderr",
     "output_type": "stream",
     "text": [
      " 33%|███▎      | 33/100 [05:20<10:22,  9.29s/it]"
     ]
    },
    {
     "name": "stdout",
     "output_type": "stream",
     "text": [
      "[2025/04/24 11:24:50] ppocr DEBUG: dt_boxes num : 14, elapsed : 0.18170833587646484\n",
      "[2025/04/24 11:24:50] ppocr DEBUG: cls num  : 14, elapsed : 0.29871582984924316\n",
      "[2025/04/24 11:24:53] ppocr DEBUG: rec_res num  : 14, elapsed : 2.7487287521362305\n"
     ]
    },
    {
     "name": "stderr",
     "output_type": "stream",
     "text": [
      " 34%|███▍      | 34/100 [05:26<09:02,  8.22s/it]"
     ]
    },
    {
     "name": "stdout",
     "output_type": "stream",
     "text": [
      "[2025/04/24 11:24:56] ppocr DEBUG: dt_boxes num : 23, elapsed : 0.16219472885131836\n",
      "[2025/04/24 11:24:56] ppocr DEBUG: cls num  : 23, elapsed : 0.4457128047943115\n",
      "[2025/04/24 11:24:59] ppocr DEBUG: rec_res num  : 23, elapsed : 3.2355358600616455\n"
     ]
    },
    {
     "name": "stderr",
     "output_type": "stream",
     "text": [
      " 35%|███▌      | 35/100 [05:33<08:35,  7.94s/it]"
     ]
    },
    {
     "name": "stdout",
     "output_type": "stream",
     "text": [
      "[2025/04/24 11:25:03] ppocr DEBUG: dt_boxes num : 21, elapsed : 0.45162105560302734\n",
      "[2025/04/24 11:25:03] ppocr DEBUG: cls num  : 21, elapsed : 0.322110652923584\n",
      "[2025/04/24 11:25:08] ppocr DEBUG: rec_res num  : 21, elapsed : 4.183191776275635\n"
     ]
    },
    {
     "name": "stderr",
     "output_type": "stream",
     "text": [
      " 36%|███▌      | 36/100 [05:42<08:50,  8.29s/it]"
     ]
    },
    {
     "name": "stdout",
     "output_type": "stream",
     "text": [
      "[2025/04/24 11:25:12] ppocr DEBUG: dt_boxes num : 22, elapsed : 0.13025164604187012\n",
      "[2025/04/24 11:25:12] ppocr DEBUG: cls num  : 22, elapsed : 0.293475866317749\n",
      "[2025/04/24 11:25:16] ppocr DEBUG: rec_res num  : 22, elapsed : 3.879060983657837\n"
     ]
    },
    {
     "name": "stderr",
     "output_type": "stream",
     "text": [
      " 37%|███▋      | 37/100 [05:50<08:19,  7.92s/it]"
     ]
    },
    {
     "name": "stdout",
     "output_type": "stream",
     "text": [
      "[2025/04/24 11:25:20] ppocr DEBUG: dt_boxes num : 20, elapsed : 0.7749712467193604\n",
      "[2025/04/24 11:25:20] ppocr DEBUG: cls num  : 20, elapsed : 0.3600137233734131\n",
      "[2025/04/24 11:25:23] ppocr DEBUG: rec_res num  : 20, elapsed : 2.686095952987671\n"
     ]
    },
    {
     "name": "stderr",
     "output_type": "stream",
     "text": [
      " 38%|███▊      | 38/100 [05:56<07:46,  7.53s/it]"
     ]
    },
    {
     "name": "stdout",
     "output_type": "stream",
     "text": [
      "[2025/04/24 11:25:26] ppocr DEBUG: dt_boxes num : 16, elapsed : 0.8158664703369141\n",
      "[2025/04/24 11:25:27] ppocr DEBUG: cls num  : 16, elapsed : 0.24815726280212402\n",
      "[2025/04/24 11:25:29] ppocr DEBUG: rec_res num  : 16, elapsed : 2.3519442081451416\n"
     ]
    },
    {
     "name": "stderr",
     "output_type": "stream",
     "text": [
      " 39%|███▉      | 39/100 [06:03<07:21,  7.24s/it]"
     ]
    },
    {
     "name": "stdout",
     "output_type": "stream",
     "text": [
      "[2025/04/24 11:25:32] ppocr DEBUG: dt_boxes num : 15, elapsed : 0.14369797706604004\n",
      "[2025/04/24 11:25:33] ppocr DEBUG: cls num  : 15, elapsed : 0.2507333755493164\n",
      "[2025/04/24 11:25:35] ppocr DEBUG: rec_res num  : 15, elapsed : 2.6212716102600098\n"
     ]
    },
    {
     "name": "stderr",
     "output_type": "stream",
     "text": [
      " 40%|████      | 40/100 [06:10<07:07,  7.13s/it]"
     ]
    },
    {
     "name": "stdout",
     "output_type": "stream",
     "text": [
      "[2025/04/24 11:25:39] ppocr DEBUG: dt_boxes num : 8, elapsed : 0.15584802627563477\n",
      "[2025/04/24 11:25:40] ppocr DEBUG: cls num  : 8, elapsed : 0.38873910903930664\n",
      "[2025/04/24 11:25:41] ppocr DEBUG: rec_res num  : 8, elapsed : 1.2683498859405518\n"
     ]
    },
    {
     "name": "stderr",
     "output_type": "stream",
     "text": [
      " 41%|████      | 41/100 [06:15<06:36,  6.73s/it]"
     ]
    },
    {
     "name": "stdout",
     "output_type": "stream",
     "text": [
      "[2025/04/24 11:25:45] ppocr DEBUG: dt_boxes num : 22, elapsed : 0.14332342147827148\n",
      "[2025/04/24 11:25:45] ppocr DEBUG: cls num  : 22, elapsed : 0.18165183067321777\n",
      "[2025/04/24 11:25:49] ppocr DEBUG: rec_res num  : 22, elapsed : 4.216207504272461\n"
     ]
    },
    {
     "name": "stderr",
     "output_type": "stream",
     "text": [
      " 42%|████▏     | 42/100 [06:25<07:20,  7.60s/it]"
     ]
    },
    {
     "name": "stdout",
     "output_type": "stream",
     "text": [
      "[2025/04/24 11:25:55] ppocr DEBUG: dt_boxes num : 17, elapsed : 0.46510815620422363\n",
      "[2025/04/24 11:25:56] ppocr DEBUG: cls num  : 17, elapsed : 0.5128166675567627\n",
      "[2025/04/24 11:26:00] ppocr DEBUG: rec_res num  : 17, elapsed : 4.015432834625244\n"
     ]
    },
    {
     "name": "stderr",
     "output_type": "stream",
     "text": [
      " 43%|████▎     | 43/100 [06:34<07:35,  8.00s/it]"
     ]
    },
    {
     "name": "stdout",
     "output_type": "stream",
     "text": [
      "[2025/04/24 11:26:03] ppocr DEBUG: dt_boxes num : 13, elapsed : 0.13550090789794922\n",
      "[2025/04/24 11:26:04] ppocr DEBUG: cls num  : 13, elapsed : 0.349773645401001\n",
      "[2025/04/24 11:26:07] ppocr DEBUG: rec_res num  : 13, elapsed : 2.959645986557007\n"
     ]
    },
    {
     "name": "stderr",
     "output_type": "stream",
     "text": [
      " 44%|████▍     | 44/100 [06:41<07:14,  7.77s/it]"
     ]
    },
    {
     "name": "stdout",
     "output_type": "stream",
     "text": [
      "[2025/04/24 11:26:11] ppocr DEBUG: dt_boxes num : 12, elapsed : 0.1295621395111084\n",
      "[2025/04/24 11:26:11] ppocr DEBUG: cls num  : 12, elapsed : 0.053843021392822266\n",
      "[2025/04/24 11:26:12] ppocr DEBUG: rec_res num  : 12, elapsed : 1.2516698837280273\n"
     ]
    },
    {
     "name": "stderr",
     "output_type": "stream",
     "text": [
      " 45%|████▌     | 45/100 [06:47<06:29,  7.07s/it]"
     ]
    },
    {
     "name": "stdout",
     "output_type": "stream",
     "text": [
      "[2025/04/24 11:26:16] ppocr DEBUG: dt_boxes num : 14, elapsed : 0.39383554458618164\n",
      "[2025/04/24 11:26:17] ppocr DEBUG: cls num  : 14, elapsed : 0.2229917049407959\n",
      "[2025/04/24 11:26:20] ppocr DEBUG: rec_res num  : 14, elapsed : 3.23108172416687\n"
     ]
    },
    {
     "name": "stderr",
     "output_type": "stream",
     "text": [
      " 46%|████▌     | 46/100 [06:55<06:43,  7.47s/it]"
     ]
    },
    {
     "name": "stdout",
     "output_type": "stream",
     "text": [
      "[2025/04/24 11:26:24] ppocr DEBUG: dt_boxes num : 13, elapsed : 0.12609052658081055\n",
      "[2025/04/24 11:26:25] ppocr DEBUG: cls num  : 13, elapsed : 0.45627570152282715\n",
      "[2025/04/24 11:26:28] ppocr DEBUG: rec_res num  : 13, elapsed : 3.5028140544891357\n"
     ]
    },
    {
     "name": "stderr",
     "output_type": "stream",
     "text": [
      " 47%|████▋     | 47/100 [07:04<06:56,  7.86s/it]"
     ]
    },
    {
     "name": "stdout",
     "output_type": "stream",
     "text": [
      "[2025/04/24 11:26:35] ppocr DEBUG: dt_boxes num : 69, elapsed : 1.5339610576629639\n",
      "[2025/04/24 11:26:36] ppocr DEBUG: cls num  : 69, elapsed : 1.3016860485076904\n",
      "[2025/04/24 11:26:46] ppocr DEBUG: rec_res num  : 69, elapsed : 9.987292051315308\n"
     ]
    },
    {
     "name": "stderr",
     "output_type": "stream",
     "text": [
      " 48%|████▊     | 48/100 [07:21<09:14, 10.66s/it]"
     ]
    },
    {
     "name": "stdout",
     "output_type": "stream",
     "text": [
      "[2025/04/24 11:26:51] ppocr DEBUG: dt_boxes num : 15, elapsed : 0.53328537940979\n",
      "[2025/04/24 11:26:51] ppocr DEBUG: cls num  : 15, elapsed : 0.15111875534057617\n",
      "[2025/04/24 11:26:55] ppocr DEBUG: rec_res num  : 15, elapsed : 3.669466495513916\n"
     ]
    },
    {
     "name": "stderr",
     "output_type": "stream",
     "text": [
      " 49%|████▉     | 49/100 [07:30<08:42, 10.25s/it]"
     ]
    },
    {
     "name": "stdout",
     "output_type": "stream",
     "text": [
      "[2025/04/24 11:27:00] ppocr DEBUG: dt_boxes num : 12, elapsed : 0.14337158203125\n",
      "[2025/04/24 11:27:00] ppocr DEBUG: cls num  : 12, elapsed : 0.1839733123779297\n",
      "[2025/04/24 11:27:03] ppocr DEBUG: rec_res num  : 12, elapsed : 2.3959810733795166\n"
     ]
    },
    {
     "name": "stderr",
     "output_type": "stream",
     "text": [
      " 50%|█████     | 50/100 [07:40<08:26, 10.13s/it]"
     ]
    },
    {
     "name": "stdout",
     "output_type": "stream",
     "text": [
      "[2025/04/24 11:27:11] ppocr DEBUG: dt_boxes num : 13, elapsed : 1.5065600872039795\n",
      "[2025/04/24 11:27:12] ppocr DEBUG: cls num  : 13, elapsed : 0.3749814033508301\n",
      "[2025/04/24 11:27:15] ppocr DEBUG: rec_res num  : 13, elapsed : 3.4410343170166016\n"
     ]
    },
    {
     "name": "stderr",
     "output_type": "stream",
     "text": [
      " 51%|█████     | 51/100 [07:51<08:32, 10.45s/it]"
     ]
    },
    {
     "name": "stdout",
     "output_type": "stream",
     "text": [
      "[2025/04/24 11:27:21] ppocr DEBUG: dt_boxes num : 20, elapsed : 0.42201852798461914\n",
      "[2025/04/24 11:27:22] ppocr DEBUG: cls num  : 20, elapsed : 0.3928959369659424\n",
      "[2025/04/24 11:27:25] ppocr DEBUG: rec_res num  : 20, elapsed : 3.544348955154419\n"
     ]
    },
    {
     "name": "stderr",
     "output_type": "stream",
     "text": [
      " 52%|█████▏    | 52/100 [08:00<07:57,  9.94s/it]"
     ]
    },
    {
     "name": "stdout",
     "output_type": "stream",
     "text": [
      "[2025/04/24 11:27:30] ppocr DEBUG: dt_boxes num : 12, elapsed : 0.12747550010681152\n",
      "[2025/04/24 11:27:30] ppocr DEBUG: cls num  : 12, elapsed : 0.22466588020324707\n",
      "[2025/04/24 11:27:33] ppocr DEBUG: rec_res num  : 12, elapsed : 2.781580686569214\n"
     ]
    },
    {
     "name": "stderr",
     "output_type": "stream",
     "text": [
      " 53%|█████▎    | 53/100 [08:08<07:26,  9.49s/it]"
     ]
    },
    {
     "name": "stdout",
     "output_type": "stream",
     "text": [
      "[2025/04/24 11:27:38] ppocr DEBUG: dt_boxes num : 18, elapsed : 0.1566329002380371\n",
      "[2025/04/24 11:27:38] ppocr DEBUG: cls num  : 18, elapsed : 0.10051584243774414\n",
      "[2025/04/24 11:27:41] ppocr DEBUG: rec_res num  : 18, elapsed : 2.8290486335754395\n"
     ]
    },
    {
     "name": "stderr",
     "output_type": "stream",
     "text": [
      " 54%|█████▍    | 54/100 [08:17<06:57,  9.09s/it]"
     ]
    },
    {
     "name": "stdout",
     "output_type": "stream",
     "text": [
      "[2025/04/24 11:27:46] ppocr DEBUG: dt_boxes num : 20, elapsed : 0.14157652854919434\n",
      "[2025/04/24 11:27:46] ppocr DEBUG: cls num  : 20, elapsed : 0.10258102416992188\n",
      "[2025/04/24 11:27:50] ppocr DEBUG: rec_res num  : 20, elapsed : 3.944650650024414\n"
     ]
    },
    {
     "name": "stderr",
     "output_type": "stream",
     "text": [
      " 55%|█████▌    | 55/100 [08:27<07:06,  9.48s/it]"
     ]
    },
    {
     "name": "stdout",
     "output_type": "stream",
     "text": [
      "[2025/04/24 11:27:57] ppocr DEBUG: dt_boxes num : 13, elapsed : 0.7872738838195801\n",
      "[2025/04/24 11:27:58] ppocr DEBUG: cls num  : 13, elapsed : 0.413712739944458\n",
      "[2025/04/24 11:28:00] ppocr DEBUG: rec_res num  : 13, elapsed : 2.3718268871307373\n"
     ]
    },
    {
     "name": "stderr",
     "output_type": "stream",
     "text": [
      " 56%|█████▌    | 56/100 [08:35<06:36,  9.00s/it]"
     ]
    },
    {
     "name": "stdout",
     "output_type": "stream",
     "text": [
      "[2025/04/24 11:28:06] ppocr DEBUG: dt_boxes num : 12, elapsed : 1.5916578769683838\n",
      "[2025/04/24 11:28:07] ppocr DEBUG: cls num  : 12, elapsed : 0.42801809310913086\n",
      "[2025/04/24 11:28:10] ppocr DEBUG: rec_res num  : 12, elapsed : 3.0332891941070557\n"
     ]
    },
    {
     "name": "stderr",
     "output_type": "stream",
     "text": [
      " 57%|█████▋    | 57/100 [08:46<06:48,  9.51s/it]"
     ]
    },
    {
     "name": "stdout",
     "output_type": "stream",
     "text": [
      "[2025/04/24 11:28:15] ppocr DEBUG: dt_boxes num : 23, elapsed : 0.19527173042297363\n",
      "[2025/04/24 11:28:16] ppocr DEBUG: cls num  : 23, elapsed : 0.3766927719116211\n",
      "[2025/04/24 11:28:21] ppocr DEBUG: rec_res num  : 23, elapsed : 5.555769920349121\n"
     ]
    },
    {
     "name": "stderr",
     "output_type": "stream",
     "text": [
      " 58%|█████▊    | 58/100 [08:58<07:11, 10.27s/it]"
     ]
    },
    {
     "name": "stdout",
     "output_type": "stream",
     "text": [
      "[2025/04/24 11:28:27] ppocr DEBUG: dt_boxes num : 14, elapsed : 0.46637487411499023\n",
      "[2025/04/24 11:28:28] ppocr DEBUG: cls num  : 14, elapsed : 0.5178930759429932\n",
      "[2025/04/24 11:28:31] ppocr DEBUG: rec_res num  : 14, elapsed : 3.1374027729034424\n"
     ]
    },
    {
     "name": "stderr",
     "output_type": "stream",
     "text": [
      " 59%|█████▉    | 59/100 [09:05<06:24,  9.37s/it]"
     ]
    },
    {
     "name": "stdout",
     "output_type": "stream",
     "text": [
      "[2025/04/24 11:28:35] ppocr DEBUG: dt_boxes num : 18, elapsed : 0.13904476165771484\n",
      "[2025/04/24 11:28:35] ppocr DEBUG: cls num  : 18, elapsed : 0.22104239463806152\n",
      "[2025/04/24 11:28:38] ppocr DEBUG: rec_res num  : 18, elapsed : 2.96683931350708\n"
     ]
    },
    {
     "name": "stderr",
     "output_type": "stream",
     "text": [
      " 60%|██████    | 60/100 [09:12<05:42,  8.57s/it]"
     ]
    },
    {
     "name": "stdout",
     "output_type": "stream",
     "text": [
      "[2025/04/24 11:28:41] ppocr DEBUG: dt_boxes num : 12, elapsed : 0.1430344581604004\n",
      "[2025/04/24 11:28:41] ppocr DEBUG: cls num  : 12, elapsed : 0.07353019714355469\n",
      "[2025/04/24 11:28:43] ppocr DEBUG: rec_res num  : 12, elapsed : 1.953850269317627\n"
     ]
    },
    {
     "name": "stderr",
     "output_type": "stream",
     "text": [
      " 61%|██████    | 61/100 [09:16<04:50,  7.44s/it]"
     ]
    },
    {
     "name": "stdout",
     "output_type": "stream",
     "text": [
      "[2025/04/24 11:28:46] ppocr DEBUG: dt_boxes num : 16, elapsed : 0.16106557846069336\n",
      "[2025/04/24 11:28:46] ppocr DEBUG: cls num  : 16, elapsed : 0.2845745086669922\n",
      "[2025/04/24 11:28:50] ppocr DEBUG: rec_res num  : 16, elapsed : 3.2419230937957764\n"
     ]
    },
    {
     "name": "stderr",
     "output_type": "stream",
     "text": [
      " 62%|██████▏   | 62/100 [09:24<04:45,  7.52s/it]"
     ]
    },
    {
     "name": "stdout",
     "output_type": "stream",
     "text": [
      "[2025/04/24 11:28:54] ppocr DEBUG: dt_boxes num : 39, elapsed : 0.1823105812072754\n",
      "[2025/04/24 11:28:54] ppocr DEBUG: cls num  : 39, elapsed : 0.665579080581665\n",
      "[2025/04/24 11:29:00] ppocr DEBUG: rec_res num  : 39, elapsed : 5.67819881439209\n"
     ]
    },
    {
     "name": "stderr",
     "output_type": "stream",
     "text": [
      " 63%|██████▎   | 63/100 [09:34<05:09,  8.37s/it]"
     ]
    },
    {
     "name": "stdout",
     "output_type": "stream",
     "text": [
      "[2025/04/24 11:29:05] ppocr DEBUG: dt_boxes num : 9, elapsed : 1.0832338333129883\n",
      "[2025/04/24 11:29:05] ppocr DEBUG: cls num  : 9, elapsed : 0.19253015518188477\n",
      "[2025/04/24 11:29:07] ppocr DEBUG: rec_res num  : 9, elapsed : 1.472604751586914\n"
     ]
    },
    {
     "name": "stderr",
     "output_type": "stream",
     "text": [
      " 64%|██████▍   | 64/100 [09:40<04:30,  7.51s/it]"
     ]
    },
    {
     "name": "stdout",
     "output_type": "stream",
     "text": [
      "[2025/04/24 11:29:10] ppocr DEBUG: dt_boxes num : 20, elapsed : 0.14493536949157715\n",
      "[2025/04/24 11:29:10] ppocr DEBUG: cls num  : 20, elapsed : 0.29255008697509766\n",
      "[2025/04/24 11:29:13] ppocr DEBUG: rec_res num  : 20, elapsed : 3.501837730407715\n"
     ]
    },
    {
     "name": "stderr",
     "output_type": "stream",
     "text": [
      " 65%|██████▌   | 65/100 [09:47<04:21,  7.46s/it]"
     ]
    },
    {
     "name": "stdout",
     "output_type": "stream",
     "text": [
      "[2025/04/24 11:29:18] ppocr DEBUG: dt_boxes num : 16, elapsed : 1.071422815322876\n",
      "[2025/04/24 11:29:18] ppocr DEBUG: cls num  : 16, elapsed : 0.4115908145904541\n",
      "[2025/04/24 11:29:22] ppocr DEBUG: rec_res num  : 16, elapsed : 3.470153570175171\n"
     ]
    },
    {
     "name": "stderr",
     "output_type": "stream",
     "text": [
      " 66%|██████▌   | 66/100 [09:56<04:25,  7.81s/it]"
     ]
    },
    {
     "name": "stdout",
     "output_type": "stream",
     "text": [
      "[2025/04/24 11:29:26] ppocr DEBUG: dt_boxes num : 15, elapsed : 0.3899266719818115\n",
      "[2025/04/24 11:29:26] ppocr DEBUG: cls num  : 15, elapsed : 0.28974318504333496\n",
      "[2025/04/24 11:29:29] ppocr DEBUG: rec_res num  : 15, elapsed : 2.6850929260253906\n"
     ]
    },
    {
     "name": "stderr",
     "output_type": "stream",
     "text": [
      " 67%|██████▋   | 67/100 [10:04<04:24,  8.00s/it]"
     ]
    },
    {
     "name": "stdout",
     "output_type": "stream",
     "text": [
      "[2025/04/24 11:29:34] ppocr DEBUG: dt_boxes num : 16, elapsed : 0.1435563564300537\n",
      "[2025/04/24 11:29:34] ppocr DEBUG: cls num  : 16, elapsed : 0.08703732490539551\n",
      "[2025/04/24 11:29:36] ppocr DEBUG: rec_res num  : 16, elapsed : 2.2560975551605225\n"
     ]
    },
    {
     "name": "stderr",
     "output_type": "stream",
     "text": [
      " 69%|██████▉   | 69/100 [10:09<02:48,  5.42s/it]"
     ]
    },
    {
     "name": "stdout",
     "output_type": "stream",
     "text": [
      "[2025/04/24 11:29:39] ppocr DEBUG: dt_boxes num : 15, elapsed : 0.8709194660186768\n",
      "[2025/04/24 11:29:40] ppocr DEBUG: cls num  : 15, elapsed : 0.19657015800476074\n",
      "[2025/04/24 11:29:41] ppocr DEBUG: rec_res num  : 15, elapsed : 1.4123866558074951\n"
     ]
    },
    {
     "name": "stderr",
     "output_type": "stream",
     "text": [
      " 70%|███████   | 70/100 [10:14<02:35,  5.19s/it]"
     ]
    },
    {
     "name": "stdout",
     "output_type": "stream",
     "text": [
      "[2025/04/24 11:29:44] ppocr DEBUG: dt_boxes num : 23, elapsed : 0.8451969623565674\n",
      "[2025/04/24 11:29:44] ppocr DEBUG: cls num  : 23, elapsed : 0.29174113273620605\n",
      "[2025/04/24 11:29:48] ppocr DEBUG: rec_res num  : 23, elapsed : 3.3592677116394043\n"
     ]
    },
    {
     "name": "stderr",
     "output_type": "stream",
     "text": [
      " 71%|███████   | 71/100 [10:22<02:50,  5.89s/it]"
     ]
    },
    {
     "name": "stdout",
     "output_type": "stream",
     "text": [
      "[2025/04/24 11:29:52] ppocr DEBUG: dt_boxes num : 13, elapsed : 0.8519299030303955\n",
      "[2025/04/24 11:29:52] ppocr DEBUG: cls num  : 13, elapsed : 0.28257298469543457\n",
      "[2025/04/24 11:29:55] ppocr DEBUG: rec_res num  : 13, elapsed : 3.1371495723724365\n"
     ]
    },
    {
     "name": "stderr",
     "output_type": "stream",
     "text": [
      " 72%|███████▏  | 72/100 [10:29<02:57,  6.35s/it]"
     ]
    },
    {
     "name": "stdout",
     "output_type": "stream",
     "text": [
      "[2025/04/24 11:29:59] ppocr DEBUG: dt_boxes num : 15, elapsed : 0.13273143768310547\n",
      "[2025/04/24 11:29:59] ppocr DEBUG: cls num  : 15, elapsed : 0.37056660652160645\n",
      "[2025/04/24 11:30:02] ppocr DEBUG: rec_res num  : 15, elapsed : 2.901848554611206\n"
     ]
    },
    {
     "name": "stderr",
     "output_type": "stream",
     "text": [
      " 73%|███████▎  | 73/100 [10:36<02:56,  6.55s/it]"
     ]
    },
    {
     "name": "stdout",
     "output_type": "stream",
     "text": [
      "[2025/04/24 11:30:06] ppocr DEBUG: dt_boxes num : 15, elapsed : 0.15945887565612793\n",
      "[2025/04/24 11:30:06] ppocr DEBUG: cls num  : 15, elapsed : 0.11252951622009277\n",
      "[2025/04/24 11:30:08] ppocr DEBUG: rec_res num  : 15, elapsed : 2.0284218788146973\n"
     ]
    },
    {
     "name": "stderr",
     "output_type": "stream",
     "text": [
      " 74%|███████▍  | 74/100 [10:43<02:52,  6.62s/it]"
     ]
    },
    {
     "name": "stdout",
     "output_type": "stream",
     "text": [
      "[2025/04/24 11:30:13] ppocr DEBUG: dt_boxes num : 8, elapsed : 0.3920924663543701\n",
      "[2025/04/24 11:30:13] ppocr DEBUG: cls num  : 8, elapsed : 0.2635834217071533\n",
      "[2025/04/24 11:30:14] ppocr DEBUG: rec_res num  : 8, elapsed : 1.2202377319335938\n"
     ]
    },
    {
     "name": "stderr",
     "output_type": "stream",
     "text": [
      " 76%|███████▌  | 76/100 [10:48<01:51,  4.66s/it]"
     ]
    },
    {
     "name": "stdout",
     "output_type": "stream",
     "text": [
      "[2025/04/24 11:30:17] ppocr DEBUG: dt_boxes num : 14, elapsed : 0.12614178657531738\n",
      "[2025/04/24 11:30:17] ppocr DEBUG: cls num  : 14, elapsed : 0.0850064754486084\n",
      "[2025/04/24 11:30:20] ppocr DEBUG: rec_res num  : 14, elapsed : 2.571960926055908\n"
     ]
    },
    {
     "name": "stderr",
     "output_type": "stream",
     "text": [
      " 77%|███████▋  | 77/100 [10:53<01:51,  4.87s/it]"
     ]
    },
    {
     "name": "stdout",
     "output_type": "stream",
     "text": [
      "[2025/04/24 11:30:23] ppocr DEBUG: dt_boxes num : 21, elapsed : 0.14127492904663086\n",
      "[2025/04/24 11:30:23] ppocr DEBUG: cls num  : 21, elapsed : 0.2830233573913574\n",
      "[2025/04/24 11:30:26] ppocr DEBUG: rec_res num  : 21, elapsed : 3.046259641647339\n"
     ]
    },
    {
     "name": "stderr",
     "output_type": "stream",
     "text": [
      " 78%|███████▊  | 78/100 [11:00<01:57,  5.34s/it]"
     ]
    },
    {
     "name": "stdout",
     "output_type": "stream",
     "text": [
      "[2025/04/24 11:30:30] ppocr DEBUG: dt_boxes num : 16, elapsed : 0.9415886402130127\n",
      "[2025/04/24 11:30:30] ppocr DEBUG: cls num  : 16, elapsed : 0.38435912132263184\n",
      "[2025/04/24 11:30:33] ppocr DEBUG: rec_res num  : 16, elapsed : 2.9221363067626953\n"
     ]
    },
    {
     "name": "stderr",
     "output_type": "stream",
     "text": [
      " 79%|███████▉  | 79/100 [11:07<02:03,  5.86s/it]"
     ]
    },
    {
     "name": "stdout",
     "output_type": "stream",
     "text": [
      "[2025/04/24 11:30:37] ppocr DEBUG: dt_boxes num : 16, elapsed : 1.0292932987213135\n",
      "[2025/04/24 11:30:38] ppocr DEBUG: cls num  : 16, elapsed : 0.10359930992126465\n",
      "[2025/04/24 11:30:40] ppocr DEBUG: rec_res num  : 16, elapsed : 2.8395862579345703\n"
     ]
    },
    {
     "name": "stderr",
     "output_type": "stream",
     "text": [
      " 80%|████████  | 80/100 [11:14<02:03,  6.20s/it]"
     ]
    },
    {
     "name": "stdout",
     "output_type": "stream",
     "text": [
      "[2025/04/24 11:30:44] ppocr DEBUG: dt_boxes num : 21, elapsed : 0.8930652141571045\n",
      "[2025/04/24 11:30:45] ppocr DEBUG: cls num  : 21, elapsed : 0.3176462650299072\n",
      "[2025/04/24 11:30:48] ppocr DEBUG: rec_res num  : 21, elapsed : 3.55442214012146\n"
     ]
    },
    {
     "name": "stderr",
     "output_type": "stream",
     "text": [
      " 81%|████████  | 81/100 [11:22<02:09,  6.82s/it]"
     ]
    },
    {
     "name": "stdout",
     "output_type": "stream",
     "text": [
      "[2025/04/24 11:30:53] ppocr DEBUG: dt_boxes num : 16, elapsed : 0.8653273582458496\n",
      "[2025/04/24 11:30:53] ppocr DEBUG: cls num  : 16, elapsed : 0.4384629726409912\n",
      "[2025/04/24 11:30:56] ppocr DEBUG: rec_res num  : 16, elapsed : 2.697030782699585\n"
     ]
    },
    {
     "name": "stderr",
     "output_type": "stream",
     "text": [
      " 82%|████████▏ | 82/100 [11:29<02:01,  6.75s/it]"
     ]
    },
    {
     "name": "stdout",
     "output_type": "stream",
     "text": [
      "[2025/04/24 11:30:59] ppocr DEBUG: dt_boxes num : 5, elapsed : 0.13145160675048828\n",
      "[2025/04/24 11:30:59] ppocr DEBUG: cls num  : 5, elapsed : 0.1445162296295166\n",
      "[2025/04/24 11:31:00] ppocr DEBUG: rec_res num  : 5, elapsed : 1.0440683364868164\n"
     ]
    },
    {
     "name": "stderr",
     "output_type": "stream",
     "text": [
      " 83%|████████▎ | 83/100 [11:33<01:38,  5.81s/it]"
     ]
    },
    {
     "name": "stdout",
     "output_type": "stream",
     "text": [
      "[2025/04/24 11:31:03] ppocr DEBUG: dt_boxes num : 21, elapsed : 0.9618113040924072\n",
      "[2025/04/24 11:31:03] ppocr DEBUG: cls num  : 21, elapsed : 0.3387303352355957\n",
      "[2025/04/24 11:31:07] ppocr DEBUG: rec_res num  : 21, elapsed : 3.3740968704223633\n"
     ]
    },
    {
     "name": "stderr",
     "output_type": "stream",
     "text": [
      " 84%|████████▍ | 84/100 [11:41<01:45,  6.59s/it]"
     ]
    },
    {
     "name": "stdout",
     "output_type": "stream",
     "text": [
      "[2025/04/24 11:31:11] ppocr DEBUG: dt_boxes num : 16, elapsed : 0.39482569694519043\n",
      "[2025/04/24 11:31:11] ppocr DEBUG: cls num  : 16, elapsed : 0.44959187507629395\n",
      "[2025/04/24 11:31:14] ppocr DEBUG: rec_res num  : 16, elapsed : 3.006864547729492\n"
     ]
    },
    {
     "name": "stderr",
     "output_type": "stream",
     "text": [
      " 85%|████████▌ | 85/100 [11:48<01:40,  6.72s/it]"
     ]
    },
    {
     "name": "stdout",
     "output_type": "stream",
     "text": [
      "[2025/04/24 11:31:18] ppocr DEBUG: dt_boxes num : 20, elapsed : 0.19117212295532227\n",
      "[2025/04/24 11:31:18] ppocr DEBUG: cls num  : 20, elapsed : 0.3085770606994629\n",
      "[2025/04/24 11:31:21] ppocr DEBUG: rec_res num  : 20, elapsed : 3.353752851486206\n"
     ]
    },
    {
     "name": "stderr",
     "output_type": "stream",
     "text": [
      " 86%|████████▌ | 86/100 [11:55<01:35,  6.83s/it]"
     ]
    },
    {
     "name": "stdout",
     "output_type": "stream",
     "text": [
      "[2025/04/24 11:31:25] ppocr DEBUG: dt_boxes num : 19, elapsed : 0.8760731220245361\n",
      "[2025/04/24 11:31:26] ppocr DEBUG: cls num  : 19, elapsed : 0.31260251998901367\n",
      "[2025/04/24 11:31:29] ppocr DEBUG: rec_res num  : 19, elapsed : 3.2503867149353027\n"
     ]
    },
    {
     "name": "stderr",
     "output_type": "stream",
     "text": [
      " 87%|████████▋ | 87/100 [12:03<01:31,  7.04s/it]"
     ]
    },
    {
     "name": "stdout",
     "output_type": "stream",
     "text": [
      "[2025/04/24 11:31:32] ppocr DEBUG: dt_boxes num : 15, elapsed : 0.16468405723571777\n",
      "[2025/04/24 11:31:33] ppocr DEBUG: cls num  : 15, elapsed : 0.39160895347595215\n",
      "[2025/04/24 11:31:36] ppocr DEBUG: rec_res num  : 15, elapsed : 2.936035394668579\n"
     ]
    },
    {
     "name": "stderr",
     "output_type": "stream",
     "text": [
      " 88%|████████▊ | 88/100 [12:09<01:22,  6.85s/it]"
     ]
    },
    {
     "name": "stdout",
     "output_type": "stream",
     "text": [
      "[2025/04/24 11:31:39] ppocr DEBUG: dt_boxes num : 15, elapsed : 0.17590761184692383\n",
      "[2025/04/24 11:31:39] ppocr DEBUG: cls num  : 15, elapsed : 0.13449931144714355\n",
      "[2025/04/24 11:31:41] ppocr DEBUG: rec_res num  : 15, elapsed : 2.521714210510254\n"
     ]
    },
    {
     "name": "stderr",
     "output_type": "stream",
     "text": [
      " 89%|████████▉ | 89/100 [12:15<01:12,  6.57s/it]"
     ]
    },
    {
     "name": "stdout",
     "output_type": "stream",
     "text": [
      "[2025/04/24 11:31:45] ppocr DEBUG: dt_boxes num : 8, elapsed : 0.8744785785675049\n",
      "[2025/04/24 11:31:46] ppocr DEBUG: cls num  : 8, elapsed : 0.2805764675140381\n",
      "[2025/04/24 11:31:47] ppocr DEBUG: rec_res num  : 8, elapsed : 1.4295828342437744\n"
     ]
    },
    {
     "name": "stderr",
     "output_type": "stream",
     "text": [
      " 90%|█████████ | 90/100 [12:20<01:00,  6.04s/it]"
     ]
    },
    {
     "name": "stdout",
     "output_type": "stream",
     "text": [
      "[2025/04/24 11:31:49] ppocr DEBUG: dt_boxes num : 17, elapsed : 0.1391887664794922\n",
      "[2025/04/24 11:31:50] ppocr DEBUG: cls num  : 17, elapsed : 0.3107438087463379\n",
      "[2025/04/24 11:31:52] ppocr DEBUG: rec_res num  : 17, elapsed : 2.77754545211792\n"
     ]
    },
    {
     "name": "stderr",
     "output_type": "stream",
     "text": [
      " 91%|█████████ | 91/100 [12:26<00:55,  6.14s/it]"
     ]
    },
    {
     "name": "stdout",
     "output_type": "stream",
     "text": [
      "[2025/04/24 11:31:57] ppocr DEBUG: dt_boxes num : 20, elapsed : 1.0535120964050293\n",
      "[2025/04/24 11:31:57] ppocr DEBUG: cls num  : 20, elapsed : 0.34174680709838867\n",
      "[2025/04/24 11:32:00] ppocr DEBUG: rec_res num  : 20, elapsed : 3.188025712966919\n"
     ]
    },
    {
     "name": "stderr",
     "output_type": "stream",
     "text": [
      " 92%|█████████▏| 92/100 [12:34<00:53,  6.68s/it]"
     ]
    },
    {
     "name": "stdout",
     "output_type": "stream",
     "text": [
      "[2025/04/24 11:32:05] ppocr DEBUG: dt_boxes num : 18, elapsed : 0.9508075714111328\n",
      "[2025/04/24 11:32:05] ppocr DEBUG: cls num  : 18, elapsed : 0.10258340835571289\n",
      "[2025/04/24 11:32:07] ppocr DEBUG: rec_res num  : 18, elapsed : 2.5376265048980713\n"
     ]
    },
    {
     "name": "stderr",
     "output_type": "stream",
     "text": [
      " 93%|█████████▎| 93/100 [12:41<00:47,  6.72s/it]"
     ]
    },
    {
     "name": "stdout",
     "output_type": "stream",
     "text": [
      "[2025/04/24 11:32:11] ppocr DEBUG: dt_boxes num : 21, elapsed : 0.8685934543609619\n",
      "[2025/04/24 11:32:11] ppocr DEBUG: cls num  : 21, elapsed : 0.2890760898590088\n",
      "[2025/04/24 11:32:15] ppocr DEBUG: rec_res num  : 21, elapsed : 3.144353151321411\n"
     ]
    },
    {
     "name": "stderr",
     "output_type": "stream",
     "text": [
      " 94%|█████████▍| 94/100 [12:50<00:45,  7.52s/it]"
     ]
    },
    {
     "name": "stdout",
     "output_type": "stream",
     "text": [
      "[2025/04/24 11:32:21] ppocr DEBUG: dt_boxes num : 19, elapsed : 1.0148160457611084\n",
      "[2025/04/24 11:32:21] ppocr DEBUG: cls num  : 19, elapsed : 0.4959561824798584\n",
      "[2025/04/24 11:32:25] ppocr DEBUG: rec_res num  : 19, elapsed : 3.7139692306518555\n"
     ]
    },
    {
     "name": "stderr",
     "output_type": "stream",
     "text": [
      " 95%|█████████▌| 95/100 [12:59<00:39,  7.84s/it]"
     ]
    },
    {
     "name": "stdout",
     "output_type": "stream",
     "text": [
      "[2025/04/24 11:32:29] ppocr DEBUG: dt_boxes num : 8, elapsed : 0.9050345420837402\n",
      "[2025/04/24 11:32:30] ppocr DEBUG: cls num  : 8, elapsed : 0.2601609230041504\n",
      "[2025/04/24 11:32:31] ppocr DEBUG: rec_res num  : 8, elapsed : 1.6966090202331543\n"
     ]
    },
    {
     "name": "stderr",
     "output_type": "stream",
     "text": [
      " 96%|█████████▌| 96/100 [13:05<00:28,  7.16s/it]"
     ]
    },
    {
     "name": "stdout",
     "output_type": "stream",
     "text": [
      "[2025/04/24 11:32:34] ppocr DEBUG: dt_boxes num : 21, elapsed : 0.13208317756652832\n",
      "[2025/04/24 11:32:35] ppocr DEBUG: cls num  : 21, elapsed : 0.36442136764526367\n",
      "[2025/04/24 11:32:38] ppocr DEBUG: rec_res num  : 21, elapsed : 3.219803810119629\n"
     ]
    },
    {
     "name": "stderr",
     "output_type": "stream",
     "text": [
      " 97%|█████████▋| 97/100 [13:11<00:21,  7.08s/it]"
     ]
    },
    {
     "name": "stdout",
     "output_type": "stream",
     "text": [
      "[2025/04/24 11:32:41] ppocr DEBUG: dt_boxes num : 10, elapsed : 0.11999154090881348\n",
      "[2025/04/24 11:32:41] ppocr DEBUG: cls num  : 10, elapsed : 0.4123220443725586\n",
      "[2025/04/24 11:32:43] ppocr DEBUG: rec_res num  : 10, elapsed : 1.4951448440551758\n"
     ]
    },
    {
     "name": "stderr",
     "output_type": "stream",
     "text": [
      " 98%|█████████▊| 98/100 [13:16<00:12,  6.36s/it]"
     ]
    },
    {
     "name": "stdout",
     "output_type": "stream",
     "text": [
      "[2025/04/24 11:32:46] ppocr DEBUG: dt_boxes num : 10, elapsed : 0.43858909606933594\n",
      "[2025/04/24 11:32:46] ppocr DEBUG: cls num  : 10, elapsed : 0.0867452621459961\n",
      "[2025/04/24 11:32:48] ppocr DEBUG: rec_res num  : 10, elapsed : 2.024834632873535\n"
     ]
    },
    {
     "name": "stderr",
     "output_type": "stream",
     "text": [
      " 99%|█████████▉| 99/100 [13:21<00:06,  6.07s/it]"
     ]
    },
    {
     "name": "stdout",
     "output_type": "stream",
     "text": [
      "[2025/04/24 11:32:51] ppocr DEBUG: dt_boxes num : 13, elapsed : 0.12399029731750488\n",
      "[2025/04/24 11:32:51] ppocr DEBUG: cls num  : 13, elapsed : 0.26038217544555664\n",
      "[2025/04/24 11:32:53] ppocr DEBUG: rec_res num  : 13, elapsed : 2.2827916145324707\n"
     ]
    },
    {
     "name": "stderr",
     "output_type": "stream",
     "text": [
      "100%|██████████| 100/100 [13:27<00:00,  8.08s/it]\n"
     ]
    }
   ],
   "source": [
    "threshold = 70\n",
    "top1acc_count = 0\n",
    "top3acc_count = 0\n",
    "count = 0\n",
    "\n",
    "for image_path in tqdm(test_paths):\n",
    "    try:\n",
    "        ocr_text = ocr_module.extract_image_text(image_path=image_path)\n",
    "    except KeyboardInterrupt:\n",
    "        break\n",
    "    except Exception as e:\n",
    "        continue\n",
    "    med_info = get_info(ocr_text, limit=3, threshold=60)\n",
    "\n",
    "    if not med_info['matches']:\n",
    "        continue\n",
    "\n",
    "    count += 1\n",
    "    \n",
    "    for i in range(min([len(med_info['matches'])-1, 3])):\n",
    "\n",
    "        generic_name = str(med_info['matches'][i]['Generic Name'])\n",
    "        brand_name = str(med_info['matches'][i]['Brand Name'])\n",
    "        prediction_string = generic_name + \" \" + brand_name\n",
    "        ground_truth_string = image_path.replace('MedsForAll_Images/', '')[:-4]\n",
    "        score = fuzz.token_set_ratio(prediction_string, ground_truth_string)\n",
    "\n",
    "        if (i==0) and (score >= threshold):\n",
    "            top1acc_count += 1\n",
    "            top3acc_count += 1\n",
    "            break\n",
    "        elif (score >= threshold):\n",
    "            top3acc_count += 1\n",
    "            break"
   ]
  },
  {
   "cell_type": "code",
   "execution_count": 73,
   "metadata": {},
   "outputs": [
    {
     "data": {
      "text/plain": [
       "0.7816091954022989"
      ]
     },
     "execution_count": 73,
     "metadata": {},
     "output_type": "execute_result"
    }
   ],
   "source": [
    "top1acc_count/count"
   ]
  },
  {
   "cell_type": "code",
   "execution_count": 74,
   "metadata": {},
   "outputs": [
    {
     "data": {
      "text/plain": [
       "0.8160919540229885"
      ]
     },
     "execution_count": 74,
     "metadata": {},
     "output_type": "execute_result"
    }
   ],
   "source": [
    "top3acc_count/count"
   ]
  }
 ],
 "metadata": {
  "kernelspec": {
   "display_name": "Python 3",
   "language": "python",
   "name": "python3"
  },
  "language_info": {
   "codemirror_mode": {
    "name": "ipython",
    "version": 3
   },
   "file_extension": ".py",
   "mimetype": "text/x-python",
   "name": "python",
   "nbconvert_exporter": "python",
   "pygments_lexer": "ipython3",
   "version": "3.11.9"
  }
 },
 "nbformat": 4,
 "nbformat_minor": 2
}
