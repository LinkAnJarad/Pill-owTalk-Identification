{
 "cells": [
  {
   "cell_type": "code",
   "execution_count": 5,
   "id": "fcb864f0",
   "metadata": {},
   "outputs": [
    {
     "name": "stdout",
     "output_type": "stream",
     "text": [
      "{'INDEX': 0, 'Registration Number': 'BR-1179', 'Generic Name': 'Lactobacillus gasseri + Lactobacillus rhamnosus', 'Brand Name': 'Ecovag', 'Dosage Strength': 'Formulation: Each hard vaginal capsule contains: Lactobacillus gasseri EB01 strain........Min. 10^8 cfu Lactobacillus rhamnosus PB01 strain..........Min. 10^8 cfu', 'Dosage Form': 'Hard Vaginal Capsule', 'Classification': 'Prescription Drug (RX)', 'Packaging': \"Aluminum tube with polyethylene desiccant stopper x 10's (Box of 1's and 4's)\", 'Pharmacologic Category': 'Anti-infectives/Antiseptics', 'Manufacturer': 'Deerland Priobiotics &amp; Enzymes A/S', 'Country of Origin': 'Denmark', 'Trader': nan, 'Importer': 'Zeus Resources, Inc.', 'Distributor': 'AJ Research &amp; Pharma Inc. :', 'Application Type': '-', 'Issuance Date': '18-Mar-22', 'Expiry Date': '20-Sep-26'}\n"
     ]
    }
   ],
   "source": [
    "for index, row in m.iterrows():\n",
    "    print(dict(row))\n",
    "    break"
   ]
  },
  {
   "cell_type": "code",
   "execution_count": 6,
   "id": "6e77df14",
   "metadata": {},
   "outputs": [],
   "source": [
    "def insert_csv(collection_name, csv_file):\n",
    "    rows = []\n",
    "    df = pd.read_csv(csv_file)\n",
    "    for index, row in df.iterrows():\n",
    "        row = dict(row)\n",
    "        rows.append(row)\n",
    "    \n",
    "    collection = db[collection_name]\n",
    "    collection.insert_many(rows)"
   ]
  },
  {
   "cell_type": "code",
   "execution_count": null,
   "id": "2dec4c30",
   "metadata": {},
   "outputs": [],
   "source": [
    "#collection_names = [\"drug_data\", \"drug_list\", \"FDA_pills\", \"drug_rx\"] \n",
    "\n",
    "\n",
    "insert_csv(\"drug_data\", csv_file=\"drug_data.csv\")\n",
    "insert_csv(\"drug_list\", csv_file=\"Medications List Clean.csv\")\n",
    "insert_csv(\"FDA_pills\", csv_file=\"FDA_ALL.csv\")"
   ]
  },
  {
   "cell_type": "code",
   "execution_count": 10,
   "id": "b24c3f9b",
   "metadata": {},
   "outputs": [],
   "source": [
    "insert_csv(\"drug_rx\", csv_file=\"RX_ALL.csv\")"
   ]
  }
 ],
 "metadata": {
  "kernelspec": {
   "display_name": "Python 3",
   "language": "python",
   "name": "python3"
  },
  "language_info": {
   "codemirror_mode": {
    "name": "ipython",
    "version": 3
   },
   "file_extension": ".py",
   "mimetype": "text/x-python",
   "name": "python",
   "nbconvert_exporter": "python",
   "pygments_lexer": "ipython3",
   "version": "3.11.9"
  }
 },
 "nbformat": 4,
 "nbformat_minor": 5
}
