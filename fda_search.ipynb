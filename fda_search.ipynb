{
 "cells": [
  {
   "cell_type": "code",
   "execution_count": 39,
   "id": "08df04fd",
   "metadata": {},
   "outputs": [],
   "source": [
    "from medication_matching import get_info, match_with_fda_hierarchical, match_with_rx\n",
    "import medication_matching"
   ]
  },
  {
   "cell_type": "code",
   "execution_count": null,
   "id": "176fb1ca",
   "metadata": {},
   "outputs": [
    {
     "data": {
      "text/plain": [
       "False"
      ]
     },
     "execution_count": 47,
     "metadata": {},
     "output_type": "execute_result"
    }
   ],
   "source": []
  },
  {
   "cell_type": "code",
   "execution_count": 20,
   "id": "18872282",
   "metadata": {},
   "outputs": [
    {
     "data": {
      "text/plain": [
       "((15171, 2776, 9101, 2774, 2775, 2773, 2386, 13110, 158, 175, 9099, 10874),\n",
       " (66.4, 61.0, 60.8, 59.9, 59.9, 59.3, 58.1, 56.9, 56.6, 56.6, 56.1, 47.8))"
      ]
     },
     "execution_count": 20,
     "metadata": {},
     "output_type": "execute_result"
    }
   ],
   "source": [
    "match_with_fda_hierarchical(\"mefenamic acid myrex myrefen 500 mg nsaid antirheumatic drug\", 50)"
   ]
  },
  {
   "cell_type": "code",
   "execution_count": 36,
   "id": "18cb3b62",
   "metadata": {},
   "outputs": [
    {
     "data": {
      "text/plain": [
       "INDEX                                                                 10874\n",
       "Registration Number                                                DRP-4293\n",
       "Generic Name                                                 Mefenamic Acid\n",
       "Brand Name                                                    Mefesaph C250\n",
       "Dosage Strength                                                      250 mg\n",
       "Dosage Form                                                         Capsule\n",
       "Classification                                       Prescription Drug (RX)\n",
       "Packaging                   Alu/Clear PVC Blister Pack x 10's (Box of 50's)\n",
       "Pharmacologic Category    Non-steroidal Anti-inflammatory drug/NSAID \\r\\...\n",
       "Manufacturer                                Sapphire Lifesciences Pvt. Ltd.\n",
       "Country of Origin                                                     India\n",
       "Trader                                                                  NaN\n",
       "Importer                                           Nelpa Lifesciences, Inc.\n",
       "Distributor                                        Nelpa Lifesciences, Inc.\n",
       "Application Type                                          Automatic Renewal\n",
       "Issuance Date                                                      9-Feb-23\n",
       "Expiry Date                                                       11-Mar-28\n",
       "Name: 10874, dtype: object"
      ]
     },
     "execution_count": 36,
     "metadata": {},
     "output_type": "execute_result"
    }
   ],
   "source": [
    "medication_matching.fda_df.iloc[10874]"
   ]
  }
 ],
 "metadata": {
  "kernelspec": {
   "display_name": "base",
   "language": "python",
   "name": "python3"
  },
  "language_info": {
   "codemirror_mode": {
    "name": "ipython",
    "version": 3
   },
   "file_extension": ".py",
   "mimetype": "text/x-python",
   "name": "python",
   "nbconvert_exporter": "python",
   "pygments_lexer": "ipython3",
   "version": "3.11.5"
  }
 },
 "nbformat": 4,
 "nbformat_minor": 5
}
